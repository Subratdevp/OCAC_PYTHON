{
 "cells": [
  {
   "cell_type": "markdown",
   "id": "00c10d76-9a66-4344-8906-a639b27437f3",
   "metadata": {},
   "source": [
    "### NumPy\n",
    "##### NumPy(Numerical Python) is an open source Python library that aids in mathematical, scientific, engineering, and data science programming."
   ]
  },
  {
   "cell_type": "markdown",
   "id": "e2e7f394-0210-4d07-b80b-e7ff9ed3b6b7",
   "metadata": {},
   "source": [
    "##### NumPy is the fundamental package for scientific computing with Python. it contains:"
   ]
  },
  {
   "cell_type": "markdown",
   "id": "0fe2b893-febe-49e0-9057-38cc6243513e",
   "metadata": {},
   "source": [
    "##### * a powerful N-dimensional array object\n",
    "##### * extension package to Python for multidimensional arrays\n",
    "##### * designed for scientific computation -- liner algebra, Fourier transform, and random number capabilities.\n",
    "##### * NumPy can also be used as an efficient multi-dimensional container of generic data.\n",
    "##### * This allows NumPy to seamlessly and speedily integrate with a wide variety of databases.\n",
    "##### * NumPy is an incredible library to perform mathematical and statistical operations because it is fast and memory efficient. closer to hardware (efficiency)"
   ]
  },
  {
   "cell_type": "code",
   "execution_count": 2,
   "id": "2db5ac9a-9c5e-4769-a970-cb5cbc9092dd",
   "metadata": {},
   "outputs": [],
   "source": [
    "# Load in NumPy (Import NumPy Package)\n",
    "import numpy as np"
   ]
  },
  {
   "cell_type": "markdown",
   "id": "37983028-3d6d-4ac3-9fa5-f4544eee65ce",
   "metadata": {},
   "source": [
    "### ndarray object"
   ]
  },
  {
   "cell_type": "markdown",
   "id": "3ba83e77-585e-4b0b-98ab-9bc3d2c8ecf9",
   "metadata": {},
   "source": [
    "##### The most important object defined in NumPy is an N-dimensional array type called ndarray. it describes the collection of items of the same type. items in the collection can be accessed using a zero-based index. Each element in ndarray is an object of datatype object (called dtype).\n",
    "##### The basic ndarray is created using an array function in Numpy as follows:\n",
    "##### numpy . array(object, dtype = None)\n",
    "##### NOTE: In NumPy, axis = 0 is cols and axis = 1 is rows"
   ]
  },
  {
   "cell_type": "code",
   "execution_count": 5,
   "id": "2c8f3c35-a2d4-4af3-b1cb-91ab3a6e46e6",
   "metadata": {},
   "outputs": [],
   "source": [
    "a=[1,2,3,4,5]"
   ]
  },
  {
   "cell_type": "code",
   "execution_count": 6,
   "id": "470ba477-9f6f-4b02-9eb9-081f13eb158d",
   "metadata": {},
   "outputs": [
    {
     "name": "stdout",
     "output_type": "stream",
     "text": [
      "[1, 2, 3, 4, 5]\n"
     ]
    }
   ],
   "source": [
    "print(a)"
   ]
  },
  {
   "cell_type": "markdown",
   "id": "851762cf-6208-4a95-aab3-1e115ba6cfa1",
   "metadata": {},
   "source": [
    "print(type(a))"
   ]
  },
  {
   "cell_type": "code",
   "execution_count": 8,
   "id": "2a6bae7f-631b-4a07-918f-fa0e009c14ef",
   "metadata": {},
   "outputs": [],
   "source": [
    "np_a = np.array(a)"
   ]
  },
  {
   "cell_type": "code",
   "execution_count": 9,
   "id": "b4c99ffd-487c-429d-b0ac-dec3be5b3798",
   "metadata": {},
   "outputs": [
    {
     "name": "stdout",
     "output_type": "stream",
     "text": [
      "[1 2 3 4 5]\n"
     ]
    }
   ],
   "source": [
    "print(np_a)"
   ]
  },
  {
   "cell_type": "code",
   "execution_count": 7,
   "id": "fa2903c6-9b44-4959-920f-dd0087db9fac",
   "metadata": {},
   "outputs": [
    {
     "name": "stdout",
     "output_type": "stream",
     "text": [
      "<class 'numpy.ndarray'>\n"
     ]
    }
   ],
   "source": [
    "print(type(np_a))"
   ]
  },
  {
   "cell_type": "markdown",
   "id": "c4e6c700-8b92-46a4-b123-6d83db2f43d1",
   "metadata": {},
   "source": [
    "##### why it is useful: Memory-efficient container that provides fast numerical operations."
   ]
  },
  {
   "cell_type": "code",
   "execution_count": 10,
   "id": "4c22f459-bfe1-492d-bf59-e07f234cb310",
   "metadata": {},
   "outputs": [
    {
     "name": "stdout",
     "output_type": "stream",
     "text": [
      "112 µs ± 3.62 µs per loop (mean ± std. dev. of 7 runs, 10,000 loops each)\n"
     ]
    }
   ],
   "source": [
    "#python lists \n",
    "L = range(1000)\n",
    "%timeit [i**2 for i in L]"
   ]
  },
  {
   "cell_type": "code",
   "execution_count": 10,
   "id": "5db3085a-49b6-4f93-8b67-32e0d6573080",
   "metadata": {},
   "outputs": [
    {
     "name": "stdout",
     "output_type": "stream",
     "text": [
      "1.92 µs ± 20.2 ns per loop (mean ± std. dev. of 7 runs, 100,000 loops each)\n"
     ]
    }
   ],
   "source": [
    "a = np.arange(1000)\n",
    "%timeit a**2"
   ]
  },
  {
   "cell_type": "markdown",
   "id": "29550791-1a64-4987-84fc-58b33514430e",
   "metadata": {},
   "source": [
    "### Creating arrays (Manually creating arrays)"
   ]
  },
  {
   "cell_type": "code",
   "execution_count": 11,
   "id": "651bb94b-ef05-43aa-bb1c-d56b0396f720",
   "metadata": {},
   "outputs": [
    {
     "data": {
      "text/plain": [
       "array([0, 1, 2, 3])"
      ]
     },
     "execution_count": 11,
     "metadata": {},
     "output_type": "execute_result"
    }
   ],
   "source": [
    "#1-D\n",
    "a = np.array([0,1,2,3])\n",
    "a"
   ]
  },
  {
   "cell_type": "code",
   "execution_count": 12,
   "id": "4250b148-1fa5-4eb6-a575-b542f936b23d",
   "metadata": {},
   "outputs": [
    {
     "data": {
      "text/plain": [
       "1"
      ]
     },
     "execution_count": 12,
     "metadata": {},
     "output_type": "execute_result"
    }
   ],
   "source": [
    "# print dimension\n",
    "a.ndim"
   ]
  },
  {
   "cell_type": "code",
   "execution_count": 13,
   "id": "3395ffd3-7ebf-480a-8deb-f9b3475f753c",
   "metadata": {},
   "outputs": [
    {
     "data": {
      "text/plain": [
       "(4,)"
      ]
     },
     "execution_count": 13,
     "metadata": {},
     "output_type": "execute_result"
    }
   ],
   "source": [
    "#shape\n",
    "a.shape"
   ]
  },
  {
   "cell_type": "code",
   "execution_count": 14,
   "id": "52469c4a-3c30-4b8b-9e0a-65fbbefaba78",
   "metadata": {},
   "outputs": [
    {
     "data": {
      "text/plain": [
       "array([[0, 1, 2],\n",
       "       [3, 4, 5]])"
      ]
     },
     "execution_count": 14,
     "metadata": {},
     "output_type": "execute_result"
    }
   ],
   "source": [
    "#2-D\n",
    "b = np.array([[0,1,2], [3,4,5]])\n",
    "b"
   ]
  },
  {
   "cell_type": "code",
   "execution_count": 15,
   "id": "4a915360-6899-4435-9c53-a736146d14bb",
   "metadata": {},
   "outputs": [
    {
     "data": {
      "text/plain": [
       "2"
      ]
     },
     "execution_count": 15,
     "metadata": {},
     "output_type": "execute_result"
    }
   ],
   "source": [
    "b.ndim"
   ]
  },
  {
   "cell_type": "code",
   "execution_count": 16,
   "id": "d0b9fe59-dc65-442d-8b26-dca11eec6734",
   "metadata": {},
   "outputs": [
    {
     "data": {
      "text/plain": [
       "(2, 3)"
      ]
     },
     "execution_count": 16,
     "metadata": {},
     "output_type": "execute_result"
    }
   ],
   "source": [
    "b.shape"
   ]
  },
  {
   "cell_type": "code",
   "execution_count": 14,
   "id": "8caebf97-2836-44a9-8ef1-71471bafd038",
   "metadata": {},
   "outputs": [
    {
     "data": {
      "text/plain": [
       "array([[[0, 1],\n",
       "        [2, 3]],\n",
       "\n",
       "       [[4, 5],\n",
       "        [6, 7]]])"
      ]
     },
     "execution_count": 14,
     "metadata": {},
     "output_type": "execute_result"
    }
   ],
   "source": [
    "#3D\n",
    "c = np.array([[[0,1], [2,3]], [[4,5], [6,7]]])\n",
    "c"
   ]
  },
  {
   "cell_type": "code",
   "execution_count": 18,
   "id": "964b1cff-bd15-44fb-8e31-d1134a8b5341",
   "metadata": {},
   "outputs": [
    {
     "data": {
      "text/plain": [
       "3"
      ]
     },
     "execution_count": 18,
     "metadata": {},
     "output_type": "execute_result"
    }
   ],
   "source": [
    "c.ndim"
   ]
  },
  {
   "cell_type": "code",
   "execution_count": 19,
   "id": "293c02b2-7d35-4bbb-a672-ab6d40c44e07",
   "metadata": {},
   "outputs": [
    {
     "data": {
      "text/plain": [
       "(2, 2, 2)"
      ]
     },
     "execution_count": 19,
     "metadata": {},
     "output_type": "execute_result"
    }
   ],
   "source": [
    "c.shape"
   ]
  },
  {
   "cell_type": "markdown",
   "id": "a3c00028-f187-43cb-b5d6-00cf69056779",
   "metadata": {},
   "source": [
    "### Creating NumPy Arrays From a List"
   ]
  },
  {
   "cell_type": "code",
   "execution_count": 15,
   "id": "ea5d0511-019a-46db-ae34-5c24ede7b183",
   "metadata": {},
   "outputs": [
    {
     "data": {
      "text/plain": [
       "[1, 2, 3]"
      ]
     },
     "execution_count": 15,
     "metadata": {},
     "output_type": "execute_result"
    }
   ],
   "source": [
    "# we know how to create a list, right\n",
    "my_list = [1,2,3]\n",
    "my_list"
   ]
  },
  {
   "cell_type": "code",
   "execution_count": 21,
   "id": "a22921ac-571c-4bc0-824b-37cb226df697",
   "metadata": {},
   "outputs": [
    {
     "data": {
      "text/plain": [
       "array([1, 2, 3])"
      ]
     },
     "execution_count": 21,
     "metadata": {},
     "output_type": "execute_result"
    }
   ],
   "source": [
    "np.array(my_list)"
   ]
  },
  {
   "cell_type": "code",
   "execution_count": 17,
   "id": "cac20f08-b237-47e6-95fb-7880a0eafa83",
   "metadata": {},
   "outputs": [
    {
     "data": {
      "text/plain": [
       "[[1, 2, 3], [4, 5, 6], [7, 8, 9]]"
      ]
     },
     "execution_count": 17,
     "metadata": {},
     "output_type": "execute_result"
    }
   ],
   "source": [
    "# we can convert a matrix which is also a list to array\n",
    "my_matrix = [[1,2,3],[4,5,6],[7,8,9]]\n",
    "my_matrix"
   ]
  },
  {
   "cell_type": "code",
   "execution_count": 18,
   "id": "2b8ffe3a-2331-4d5e-b9e3-f0309a4e7fbd",
   "metadata": {},
   "outputs": [
    {
     "data": {
      "text/plain": [
       "array([[1, 2, 3],\n",
       "       [4, 5, 6],\n",
       "       [7, 8, 9]])"
      ]
     },
     "execution_count": 18,
     "metadata": {},
     "output_type": "execute_result"
    }
   ],
   "source": [
    "np.array(my_matrix)"
   ]
  },
  {
   "cell_type": "code",
   "execution_count": 19,
   "id": "f34997cc-e527-4514-ad4b-10d0a1a5ef8d",
   "metadata": {},
   "outputs": [
    {
     "data": {
      "text/plain": [
       "(3, 3)"
      ]
     },
     "execution_count": 19,
     "metadata": {},
     "output_type": "execute_result"
    }
   ],
   "source": [
    "np.array(my_matrix).shape"
   ]
  },
  {
   "cell_type": "markdown",
   "id": "837e9c5c-c4f5-43d0-81fa-687d16a4325f",
   "metadata": {},
   "source": [
    "### Function for creating arrays"
   ]
  },
  {
   "cell_type": "markdown",
   "id": "b6c89461-103b-4e78-b6bc-daa506f7ed72",
   "metadata": {},
   "source": [
    "##### A new ndarray object can be created by any of the following array creation routines:\n",
    "\n",
    "##### . list_nparray = np.array(python_list,dtype)\n",
    "##### . arange_array = np.arange(start,end,step,dtype)\n",
    "##### . zero_array = np.zeros(shape,dtype)\n",
    "##### . ones_array = np.ones(shape,dtype)\n",
    "##### . linespace_array = np.linespace(start_element, end_element, num_of_elements)\n",
    "##### . empty_array = np.empty(shape,dtype)\n",
    "##### . random_array = np.random.randint(start,end,num_elements)"
   ]
  },
  {
   "cell_type": "markdown",
   "id": "0d4eb236-4163-4239-b009-ddd8bfaaa546",
   "metadata": {},
   "source": [
    "### arange\n",
    "##### which will return evenly spaced values within agiven interval."
   ]
  },
  {
   "cell_type": "code",
   "execution_count": 20,
   "id": "efcd2251-7dcb-4c2c-8ceb-607820e1d482",
   "metadata": {},
   "outputs": [
    {
     "data": {
      "text/plain": [
       "array([0, 1, 2, 3, 4, 5, 6, 7, 8, 9])"
      ]
     },
     "execution_count": 20,
     "metadata": {},
     "output_type": "execute_result"
    }
   ],
   "source": [
    "# using arange function --> arange is an array-valued version of the built-in python range function\n",
    "a = np.arange(10) # 0.....n-1\n",
    "a"
   ]
  },
  {
   "cell_type": "code",
   "execution_count": 21,
   "id": "58598971-cd6d-45a4-9429-eaf26a1510b7",
   "metadata": {},
   "outputs": [
    {
     "data": {
      "text/plain": [
       "array([1, 3, 5, 7, 9])"
      ]
     },
     "execution_count": 21,
     "metadata": {},
     "output_type": "execute_result"
    }
   ],
   "source": [
    "b = np.arange(1,10,2) #start, end(exclusive), step\n",
    "b"
   ]
  },
  {
   "cell_type": "markdown",
   "id": "6d884f82-8bab-4d63-8e36-660259fdeab7",
   "metadata": {},
   "source": [
    "### Linespace\n",
    "##### Return evenly spaced numbers over a specified interval."
   ]
  },
  {
   "cell_type": "code",
   "execution_count": 23,
   "id": "dbe29df6-9730-4db9-a853-4288b8c49324",
   "metadata": {},
   "outputs": [
    {
     "data": {
      "text/plain": [
       "array([0., 1., 2., 3., 4., 5.])"
      ]
     },
     "execution_count": 23,
     "metadata": {},
     "output_type": "execute_result"
    }
   ],
   "source": [
    "# using linspace\n",
    "a = np.linspace(0,5,6) #start, end, nuber of points\n",
    "a"
   ]
  },
  {
   "cell_type": "code",
   "execution_count": 24,
   "id": "0fda0cf2-3b67-4920-8f5f-64529dd88758",
   "metadata": {},
   "outputs": [
    {
     "data": {
      "text/plain": [
       "array([ 0.        ,  1.66666667,  3.33333333,  5.        ,  6.66666667,\n",
       "        8.33333333, 10.        ])"
      ]
     },
     "execution_count": 24,
     "metadata": {},
     "output_type": "execute_result"
    }
   ],
   "source": [
    "# I want to get 3 evenly spaced points between 0 to 10\n",
    "np.linspace(0,10,7)"
   ]
  },
  {
   "cell_type": "markdown",
   "id": "358ad628-b99e-45b7-9321-44a5ae4e836b",
   "metadata": {},
   "source": [
    "### Zero and Ones\n",
    "\n",
    "##### . Genrate arrays of zeros or ones"
   ]
  },
  {
   "cell_type": "code",
   "execution_count": 3,
   "id": "a87a666f-712e-44c2-9db2-794612c3480c",
   "metadata": {},
   "outputs": [
    {
     "data": {
      "text/plain": [
       "array([0., 0., 0.])"
      ]
     },
     "execution_count": 3,
     "metadata": {},
     "output_type": "execute_result"
    }
   ],
   "source": [
    "np.zeros(3)"
   ]
  },
  {
   "cell_type": "code",
   "execution_count": 5,
   "id": "0c14d583-2928-46d7-ab4f-fe14fabbbb5d",
   "metadata": {},
   "outputs": [
    {
     "data": {
      "text/plain": [
       "array([[0., 0.],\n",
       "       [0., 0.]])"
      ]
     },
     "execution_count": 5,
     "metadata": {},
     "output_type": "execute_result"
    }
   ],
   "source": [
    "b = np.zeros((2,2))\n",
    "b"
   ]
  },
  {
   "cell_type": "code",
   "execution_count": 6,
   "id": "200ea08c-0e86-491b-83d8-0c71f42290fd",
   "metadata": {},
   "outputs": [
    {
     "data": {
      "text/plain": [
       "array([[1., 1., 1.],\n",
       "       [1., 1., 1.],\n",
       "       [1., 1., 1.],\n",
       "       [1., 1., 1.]])"
      ]
     },
     "execution_count": 6,
     "metadata": {},
     "output_type": "execute_result"
    }
   ],
   "source": [
    "a = np.ones((4,3))\n",
    "a"
   ]
  },
  {
   "cell_type": "markdown",
   "id": "70ba2c34-7f11-4d95-8539-426259466973",
   "metadata": {},
   "source": [
    "### Eye --> Create an identity matrix\n",
    "\n",
    "##### . An indentity matrix if you are not familar is used in used in linear algebra problems and is a two dimentional squared matrix means number of rows are same as columns with diagonals of ones and everything is zero"
   ]
  },
  {
   "cell_type": "code",
   "execution_count": 7,
   "id": "9ae13809-0827-407f-b4bb-bfb7400db72f",
   "metadata": {},
   "outputs": [
    {
     "data": {
      "text/plain": [
       "array([[1., 0., 0.],\n",
       "       [0., 1., 0.],\n",
       "       [0., 0., 1.]])"
      ]
     },
     "execution_count": 7,
     "metadata": {},
     "output_type": "execute_result"
    }
   ],
   "source": [
    "c = np.eye(3) # Return a 2-D array with ones on the diagonal and zeros elsewhere.\n",
    "c"
   ]
  },
  {
   "cell_type": "code",
   "execution_count": 8,
   "id": "82902331-ca2f-4eca-b550-96fe83158193",
   "metadata": {},
   "outputs": [
    {
     "data": {
      "text/plain": [
       "array([[1., 0.],\n",
       "       [0., 1.],\n",
       "       [0., 0.]])"
      ]
     },
     "execution_count": 8,
     "metadata": {},
     "output_type": "execute_result"
    }
   ],
   "source": [
    "d = np.eye(3,2) #3 is number of rows, 2 is number of columns, index of diagonal start with 0\n",
    "d"
   ]
  },
  {
   "cell_type": "code",
   "execution_count": 9,
   "id": "fa408cdd-4c7d-4e3a-b576-1ee7d6cd87ce",
   "metadata": {},
   "outputs": [
    {
     "data": {
      "text/plain": [
       "array([[7, 0, 0, 0],\n",
       "       [0, 9, 0, 0],\n",
       "       [0, 0, 3, 0],\n",
       "       [0, 0, 0, 4]])"
      ]
     },
     "execution_count": 9,
     "metadata": {},
     "output_type": "execute_result"
    }
   ],
   "source": [
    "# create array using diag function\n",
    "a = np.diag([7,9,3,4])\n",
    "a"
   ]
  },
  {
   "cell_type": "code",
   "execution_count": 10,
   "id": "7c995df1-30eb-4bcd-aa88-d46281569f54",
   "metadata": {},
   "outputs": [
    {
     "data": {
      "text/plain": [
       "array([7, 9, 3, 4])"
      ]
     },
     "execution_count": 10,
     "metadata": {},
     "output_type": "execute_result"
    }
   ],
   "source": [
    "np.diag(a)  #Extract diagonal"
   ]
  },
  {
   "cell_type": "markdown",
   "id": "a6151f64-571b-4eb3-b64b-5106b2b7e6ab",
   "metadata": {},
   "source": [
    "### random --> Numpy also has lots of ways to create random number arrays:"
   ]
  },
  {
   "cell_type": "code",
   "execution_count": 11,
   "id": "00bfdeb2-9204-4f2f-93a0-407cc2e3ecc9",
   "metadata": {},
   "outputs": [
    {
     "name": "stdout",
     "output_type": "stream",
     "text": [
      "[107  74  54 113 113]\n"
     ]
    }
   ],
   "source": [
    "#randint -- Return random integers from start (inclusive) to end (exclusive).\n",
    "random_array = np.random.randint(1,121,5)\n",
    "print(random_array)"
   ]
  },
  {
   "cell_type": "code",
   "execution_count": 12,
   "id": "78cf3be0-4ab4-4b92-a870-dbbb19c4fc98",
   "metadata": {},
   "outputs": [
    {
     "data": {
      "text/plain": [
       "array([0.06803281, 0.56697894, 0.26967113, 0.38827602])"
      ]
     },
     "execution_count": 12,
     "metadata": {},
     "output_type": "execute_result"
    }
   ],
   "source": [
    "# rand -- Create an array of the given shape and populate it with random samples from a uniform distribution over [0,1]\n",
    "a = np.random.rand(4)\n",
    "a"
   ]
  },
  {
   "cell_type": "code",
   "execution_count": 13,
   "id": "d8531288-d876-467c-b1b4-42c6f6516ab8",
   "metadata": {},
   "outputs": [
    {
     "data": {
      "text/plain": [
       "array([-0.17415371, -1.52255827,  0.86858969,  0.99234137,  0.04406265,\n",
       "        0.64180984, -1.27024607,  0.51775785, -0.47989619, -1.25373387,\n",
       "        1.38182999,  1.75654285,  0.53002114, -0.76685148,  0.3271134 ,\n",
       "       -0.56697246,  0.32737968,  0.67448694,  0.10810613, -0.07234252,\n",
       "        1.27247987,  0.90964663, -1.70013994, -1.36091706,  0.26256339,\n",
       "       -2.22386506, -2.39612103, -0.09630701,  0.26530472, -0.5653882 ,\n",
       "        1.98581502,  0.48710138,  0.60777816, -1.07552578,  1.5223981 ,\n",
       "        1.78760759,  0.58843627, -0.04995584,  0.73830454, -0.06603023,\n",
       "        0.61385084, -1.94716057,  1.70141595, -0.0751254 ,  0.02131501,\n",
       "       -1.33739547, -0.93672043,  0.46186695, -0.70896664,  0.55341699,\n",
       "       -1.38279532, -0.38132427, -0.20881791, -0.72358282,  0.05920218,\n",
       "       -0.19943993,  0.85582375,  2.36294492, -0.4344182 ,  1.71551775,\n",
       "       -0.35660629, -0.32043093, -0.24658346, -0.5525349 ,  0.08456873,\n",
       "        1.5373653 ,  0.44659685, -0.03906339,  0.93611145,  1.35562403,\n",
       "        0.51293783, -1.50176225, -0.37345646,  0.73874256,  0.70782887,\n",
       "       -1.59025719,  0.17765205,  1.01833883,  1.05270875,  0.85605085,\n",
       "        2.52156728,  2.23079612,  0.9436822 ,  1.79349189,  0.29570178,\n",
       "        0.84900105, -2.10813922, -0.59264487, -0.69120234, -0.52150013,\n",
       "       -0.31614354, -0.61350498,  0.53294653,  0.13934563, -0.01915576,\n",
       "       -0.77505295, -1.17807699, -0.66915905,  0.63285041, -1.1509951 ])"
      ]
     },
     "execution_count": 13,
     "metadata": {},
     "output_type": "execute_result"
    }
   ],
   "source": [
    "#randn -- Return a sample (or samples) from the \"standard normal\" distribution. ***Gausian***\n",
    "a = np.random.randn(100)\n",
    "a"
   ]
  },
  {
   "cell_type": "markdown",
   "id": "f0f6b6ea-d01c-4bbd-a300-1ca5bd59a495",
   "metadata": {},
   "source": [
    "### Copy array"
   ]
  },
  {
   "cell_type": "code",
   "execution_count": 14,
   "id": "28dad094-f7f7-46a4-867f-d637211e2eaf",
   "metadata": {},
   "outputs": [
    {
     "name": "stdout",
     "output_type": "stream",
     "text": [
      "[100   2   3]\n",
      "[100   2   3]\n"
     ]
    }
   ],
   "source": [
    "a = np.array([1,2,3])\n",
    "b = a\n",
    "b[0] = 100\n",
    "print(a)\n",
    "print(b)"
   ]
  },
  {
   "cell_type": "markdown",
   "id": "52c0653a-4d3d-4b77-8769-0914a6bb8056",
   "metadata": {},
   "source": [
    "### Reshape array"
   ]
  },
  {
   "cell_type": "code",
   "execution_count": 15,
   "id": "6c706655-1920-4cd8-94f1-bd0792b6b7cd",
   "metadata": {},
   "outputs": [
    {
     "name": "stdout",
     "output_type": "stream",
     "text": [
      "[ 0  1  2  3  4  5  6  7  8  9 10 11 12 13 14 15 16 17 18 19 20 21 22 23\n",
      " 24]\n",
      "(25,)\n"
     ]
    }
   ],
   "source": [
    "arr = np.arange(25)\n",
    "print(arr)\n",
    "print(arr.shape)"
   ]
  },
  {
   "cell_type": "code",
   "execution_count": 16,
   "id": "b4288081-9c72-4c98-8d7e-67d314a0c6c0",
   "metadata": {},
   "outputs": [
    {
     "data": {
      "text/plain": [
       "array([[ 0,  1,  2,  3,  4],\n",
       "       [ 5,  6,  7,  8,  9],\n",
       "       [10, 11, 12, 13, 14],\n",
       "       [15, 16, 17, 18, 19],\n",
       "       [20, 21, 22, 23, 24]])"
      ]
     },
     "execution_count": 16,
     "metadata": {},
     "output_type": "execute_result"
    }
   ],
   "source": [
    "# Notice the two sets of brackets\n",
    "a1 = arr.reshape(5,5)\n",
    "a1"
   ]
  },
  {
   "cell_type": "code",
   "execution_count": 17,
   "id": "1ab2a057-ae92-4b5a-a9a2-8050ca78568f",
   "metadata": {},
   "outputs": [
    {
     "name": "stdout",
     "output_type": "stream",
     "text": [
      "[[1 2 3]\n",
      " [4 5 6]]\n",
      "Shape of a: (2, 3)\n"
     ]
    }
   ],
   "source": [
    "a = np.array([[1,2,3],[4,5,6]])\n",
    "print(a)\n",
    "print(\"Shape of a: {}\".format(a.shape))"
   ]
  },
  {
   "cell_type": "code",
   "execution_count": 18,
   "id": "69c8b1a9-b4f7-484e-a0e0-b8d52caa6588",
   "metadata": {},
   "outputs": [
    {
     "name": "stdout",
     "output_type": "stream",
     "text": [
      "[[1 2]\n",
      " [3 4]\n",
      " [5 6]]\n",
      "Shape of  b: (3, 2)\n"
     ]
    }
   ],
   "source": [
    "# reshaping\n",
    "b = a.reshape(3,2)\n",
    "print(b)\n",
    "print(\"Shape of  b: {}\".format(b.shape))"
   ]
  },
  {
   "cell_type": "markdown",
   "id": "b84c4255-288f-4451-96b6-f195cb3b4e57",
   "metadata": {},
   "source": [
    "### Transpose array"
   ]
  },
  {
   "cell_type": "code",
   "execution_count": 2,
   "id": "9dfd967a-5c0b-424f-993d-f176a3265d74",
   "metadata": {},
   "outputs": [
    {
     "name": "stdout",
     "output_type": "stream",
     "text": [
      "Shape: (2, 3)\n",
      "[[1 2 3]\n",
      " [4 5 6]]\n"
     ]
    }
   ],
   "source": [
    "a = np.array([[1,2,3],[4,5,6]])\n",
    "print(\"Shape: {}\".format(a.shape))\n",
    "print(a)"
   ]
  },
  {
   "cell_type": "code",
   "execution_count": 3,
   "id": "ea3c8cfd-ad13-47fb-b8e7-18110597fb6a",
   "metadata": {},
   "outputs": [
    {
     "name": "stdout",
     "output_type": "stream",
     "text": [
      "[[1 4]\n",
      " [2 5]\n",
      " [3 6]]\n"
     ]
    }
   ],
   "source": [
    "c = a.T\n",
    "print(c)"
   ]
  },
  {
   "cell_type": "markdown",
   "id": "051f6c8e-d6ee-4617-987e-da4f74552a07",
   "metadata": {},
   "source": [
    "### Flattening"
   ]
  },
  {
   "cell_type": "code",
   "execution_count": 5,
   "id": "681e85cd-f6c8-4ba9-a7ab-235dda6d5d4d",
   "metadata": {},
   "outputs": [
    {
     "data": {
      "text/plain": [
       "array([1, 2, 3, 4, 5, 6])"
      ]
     },
     "execution_count": 5,
     "metadata": {},
     "output_type": "execute_result"
    }
   ],
   "source": [
    "a = np.array([[1,2,3], [4,5,6]])\n",
    "a.ravel() # Return a contiguous falttened array. A 1-D array, conatning the elements of the input, is returned. A copy is made only if needed."
   ]
  },
  {
   "cell_type": "code",
   "execution_count": 6,
   "id": "582ff92d-cb57-44a5-b613-e9cc89329efa",
   "metadata": {},
   "outputs": [
    {
     "data": {
      "text/plain": [
       "array([1, 4, 2, 5, 3, 6])"
      ]
     },
     "execution_count": 6,
     "metadata": {},
     "output_type": "execute_result"
    }
   ],
   "source": [
    "c.ravel()"
   ]
  },
  {
   "cell_type": "markdown",
   "id": "c29e965d-48af-4232-9330-fdbea24c7656",
   "metadata": {},
   "source": [
    "### Sorting"
   ]
  },
  {
   "cell_type": "code",
   "execution_count": 7,
   "id": "cd7b5ae1-a771-4c29-b4a3-565fde54b1d9",
   "metadata": {},
   "outputs": [
    {
     "data": {
      "text/plain": [
       "array([[4, 5, 6],\n",
       "       [2, 7, 8]])"
      ]
     },
     "execution_count": 7,
     "metadata": {},
     "output_type": "execute_result"
    }
   ],
   "source": [
    "#Sorting along an axis:\n",
    "# axis=1 --> row and axis=0 -->column\n",
    "a = np.array([[5,4,6], [2,8,7]])\n",
    "b = np.sort(a, axis=1)\n",
    "b"
   ]
  },
  {
   "cell_type": "markdown",
   "id": "82e5104e-d8c7-4248-b0cc-30edb2683332",
   "metadata": {},
   "source": [
    "### Add/Remove operations on a numpy array"
   ]
  },
  {
   "cell_type": "code",
   "execution_count": 8,
   "id": "9038be05-6954-499c-a59f-4da59602800a",
   "metadata": {},
   "outputs": [
    {
     "name": "stdout",
     "output_type": "stream",
     "text": [
      "Numpy array after addition: [4 6 7 3 5 4]\n"
     ]
    }
   ],
   "source": [
    "a = np.array([4,6,7])\n",
    "a = np.append(a,[3,5,4])\n",
    "print('Numpy array after addition:' ,a)"
   ]
  },
  {
   "cell_type": "code",
   "execution_count": 9,
   "id": "1bdc0295-16ec-40a4-ab2a-2396fde02991",
   "metadata": {},
   "outputs": [
    {
     "name": "stdout",
     "output_type": "stream",
     "text": [
      "Numpy array after deletion of one element: [4 6 3 5 4]\n"
     ]
    }
   ],
   "source": [
    "a = np.delete(a,2)\n",
    "print('Numpy array after deletion of one element:',a)"
   ]
  },
  {
   "cell_type": "markdown",
   "id": "788858d3-5503-4359-a7a0-bf743eee9e9b",
   "metadata": {},
   "source": [
    "### Indexing "
   ]
  },
  {
   "cell_type": "markdown",
   "id": "a4663f13-d336-426b-9e1e-34ca92091c5b",
   "metadata": {},
   "source": [
    "##### The items of an array can be accessed and assigned to the same way as other Python sequences :"
   ]
  },
  {
   "cell_type": "code",
   "execution_count": 11,
   "id": "3f419423-56cd-4b89-b3a2-5b1f9f7d96e8",
   "metadata": {},
   "outputs": [
    {
     "name": "stdout",
     "output_type": "stream",
     "text": [
      "[3 4 5 6 7 8 9]\n",
      "8\n"
     ]
    }
   ],
   "source": [
    "a = np.arange(3,10)\n",
    "print(a)\n",
    "print(a[5])"
   ]
  },
  {
   "cell_type": "code",
   "execution_count": 18,
   "id": "256c6979-fdf1-4a73-828a-205a2bf3544b",
   "metadata": {},
   "outputs": [
    {
     "name": "stdout",
     "output_type": "stream",
     "text": [
      "[[1 0 0]\n",
      " [0 2 0]\n",
      " [0 0 3]]\n",
      "0\n"
     ]
    }
   ],
   "source": [
    "# for multidimensional arrays, indexes are tuples of intergers:\n",
    "a = np.diag([1,2,3])\n",
    "print(a)\n",
    "print(a[2,1])"
   ]
  },
  {
   "cell_type": "code",
   "execution_count": 19,
   "id": "fedffd84-0a62-4bb2-87a0-0513c76889c9",
   "metadata": {},
   "outputs": [
    {
     "data": {
      "text/plain": [
       "array([[1, 0, 0],\n",
       "       [0, 2, 0],\n",
       "       [0, 4, 3]])"
      ]
     },
     "execution_count": 19,
     "metadata": {},
     "output_type": "execute_result"
    }
   ],
   "source": [
    "a[2,1] = 4 #assigning value\n",
    "a"
   ]
  },
  {
   "cell_type": "markdown",
   "id": "4af9f109-d295-415b-8e24-a8b6625e77ab",
   "metadata": {},
   "source": [
    " ### Slicing"
   ]
  },
  {
   "cell_type": "code",
   "execution_count": 21,
   "id": "df4852de-d0af-47c2-acc7-16cada58bd65",
   "metadata": {},
   "outputs": [
    {
     "data": {
      "text/plain": [
       "array([ 4,  5,  6,  7,  8,  9, 10, 11, 12, 13, 14, 15, 16, 17, 18, 19])"
      ]
     },
     "execution_count": 21,
     "metadata": {},
     "output_type": "execute_result"
    }
   ],
   "source": [
    "a = np.arange(4,20)\n",
    "a"
   ]
  },
  {
   "cell_type": "code",
   "execution_count": 22,
   "id": "659f6adc-2cbd-447f-8797-fb415d7bd1bd",
   "metadata": {},
   "outputs": [
    {
     "data": {
      "text/plain": [
       "array([5, 7, 9])"
      ]
     },
     "execution_count": 22,
     "metadata": {},
     "output_type": "execute_result"
    }
   ],
   "source": [
    "a[1:6:2] # [startindex: endindex(exclusive) : step]"
   ]
  },
  {
   "cell_type": "code",
   "execution_count": 23,
   "id": "9ec95e8e-9c26-41b2-8dde-426bcdff08f8",
   "metadata": {},
   "outputs": [
    {
     "data": {
      "text/plain": [
       "array([5, 6, 7, 8, 9])"
      ]
     },
     "execution_count": 23,
     "metadata": {},
     "output_type": "execute_result"
    }
   ],
   "source": [
    "#we can also combine assignment and slicing:\n",
    "a = np.arange(10)\n",
    "a[5:]"
   ]
  },
  {
   "cell_type": "code",
   "execution_count": 25,
   "id": "ea7f41af-c5fb-40b2-a548-5066574e9fa3",
   "metadata": {},
   "outputs": [
    {
     "data": {
      "text/plain": [
       "array([ 0,  1,  2,  3,  4, 10, 10, 10, 10, 10])"
      ]
     },
     "execution_count": 25,
     "metadata": {},
     "output_type": "execute_result"
    }
   ],
   "source": [
    "a[5:] = 10\n",
    "a"
   ]
  },
  {
   "cell_type": "code",
   "execution_count": 26,
   "id": "4c64cf23-5b3b-406b-a619-4539eeb5e452",
   "metadata": {},
   "outputs": [
    {
     "data": {
      "text/plain": [
       "array([0, 1, 2, 3, 4])"
      ]
     },
     "execution_count": 26,
     "metadata": {},
     "output_type": "execute_result"
    }
   ],
   "source": [
    "b = np.arange(5)\n",
    "b"
   ]
  },
  {
   "cell_type": "code",
   "execution_count": 27,
   "id": "3b9e0551-a169-4855-8cfb-b4a14fb68f0c",
   "metadata": {},
   "outputs": [
    {
     "data": {
      "text/plain": [
       "array([4, 3, 2, 1, 0])"
      ]
     },
     "execution_count": 27,
     "metadata": {},
     "output_type": "execute_result"
    }
   ],
   "source": [
    "b[::-1]"
   ]
  },
  {
   "cell_type": "code",
   "execution_count": 28,
   "id": "88655361-1621-4fd6-a78b-cc25585d63ed",
   "metadata": {},
   "outputs": [],
   "source": [
    "a[5:]=b[::-1]"
   ]
  },
  {
   "cell_type": "code",
   "execution_count": 29,
   "id": "046e8f67-5c6b-4471-b264-6555267063eb",
   "metadata": {},
   "outputs": [
    {
     "data": {
      "text/plain": [
       "array([0, 1, 2, 3, 4, 4, 3, 2, 1, 0])"
      ]
     },
     "execution_count": 29,
     "metadata": {},
     "output_type": "execute_result"
    }
   ],
   "source": [
    "a"
   ]
  },
  {
   "cell_type": "markdown",
   "id": "bb10cece-f4cc-44de-9c2c-54748f0ae1ad",
   "metadata": {},
   "source": [
    "### Fancy Indexing\n",
    "##### NumPy arrays can be indexed with slices, but also with boolean or integer arrays (masks). This method is called fancy indexing.it creates copies not views."
   ]
  },
  {
   "cell_type": "code",
   "execution_count": 3,
   "id": "91c8cb29-0045-4af0-a60d-539d3c8e32ec",
   "metadata": {},
   "outputs": [
    {
     "data": {
      "text/plain": [
       "array([ 8, 11, 13,  9, 16])"
      ]
     },
     "execution_count": 3,
     "metadata": {},
     "output_type": "execute_result"
    }
   ],
   "source": [
    "a = np.random.randint(0,20,5)\n",
    "a"
   ]
  },
  {
   "cell_type": "code",
   "execution_count": 4,
   "id": "42f823ee-b85e-4994-ba3e-fbe559c33355",
   "metadata": {},
   "outputs": [
    {
     "data": {
      "text/plain": [
       "array([ 8, 16])"
      ]
     },
     "execution_count": 4,
     "metadata": {},
     "output_type": "execute_result"
    }
   ],
   "source": [
    "a[a % 2 == 0]"
   ]
  },
  {
   "cell_type": "code",
   "execution_count": 5,
   "id": "d1f610d1-6761-4a77-9229-d3a7ea202d22",
   "metadata": {},
   "outputs": [
    {
     "data": {
      "text/plain": [
       "array([-1, 11, 13,  9, -1])"
      ]
     },
     "execution_count": 5,
     "metadata": {},
     "output_type": "execute_result"
    }
   ],
   "source": [
    "a[a % 2 == 0] = -1\n",
    "a"
   ]
  },
  {
   "cell_type": "markdown",
   "id": "a6d9c33a-da86-4cf6-a4d5-f0a6adb3157e",
   "metadata": {},
   "source": [
    "### Indexing with an array of integers"
   ]
  },
  {
   "cell_type": "code",
   "execution_count": 7,
   "id": "34cd68c4-5198-45ce-aaa2-b581ef099370",
   "metadata": {},
   "outputs": [
    {
     "data": {
      "text/plain": [
       "array([  0,  10,  20,  30,  40,  50,  60,  70,  80,  90, 100])"
      ]
     },
     "execution_count": 7,
     "metadata": {},
     "output_type": "execute_result"
    }
   ],
   "source": [
    "a = np.arange(0,101,10)\n",
    "a"
   ]
  },
  {
   "cell_type": "code",
   "execution_count": 8,
   "id": "87a26e37-1632-4922-891d-5bfabbe96028",
   "metadata": {},
   "outputs": [
    {
     "data": {
      "text/plain": [
       "array([20, 30, 20, 40, 20])"
      ]
     },
     "execution_count": 8,
     "metadata": {},
     "output_type": "execute_result"
    }
   ],
   "source": [
    "#Indexing can be done with an array of integers, where the same index is repeated several time:\n",
    "a[[2, 3, 2, 4, 2]]"
   ]
  },
  {
   "cell_type": "code",
   "execution_count": 9,
   "id": "182701df-67bb-4b74-9aba-ca7c5d04bf11",
   "metadata": {},
   "outputs": [
    {
     "data": {
      "text/plain": [
       "array([   0,   10,   20,   30,   40,   50,   60, -200,   80, -200,  100])"
      ]
     },
     "execution_count": 9,
     "metadata": {},
     "output_type": "execute_result"
    }
   ],
   "source": [
    "#New values can be assigned\n",
    "a[[9, 7]] = -200\n",
    "a"
   ]
  },
  {
   "cell_type": "markdown",
   "id": "772f1ca6-3b9e-457f-8ab1-4cfe869f5dd0",
   "metadata": {},
   "source": [
    "## Operations"
   ]
  },
  {
   "cell_type": "markdown",
   "id": "940198d1-4e0c-43da-9012-c93fa6d52ed4",
   "metadata": {},
   "source": [
    "### 1. Basic operations \n",
    "### with scalars"
   ]
  },
  {
   "cell_type": "code",
   "execution_count": 10,
   "id": "d9124d93-2c48-4a30-ab07-b8f78a1bfafe",
   "metadata": {},
   "outputs": [
    {
     "name": "stdout",
     "output_type": "stream",
     "text": [
      "[1 2 3 4]\n",
      "[2 3 4 5]\n"
     ]
    }
   ],
   "source": [
    "a = np.array([1, 2, 3, 4]) #create an array\n",
    "print(a)\n",
    "print(a+1)"
   ]
  },
  {
   "cell_type": "code",
   "execution_count": 11,
   "id": "be5c9626-0416-41a5-8bc0-ff8219ddb77a",
   "metadata": {},
   "outputs": [
    {
     "data": {
      "text/plain": [
       "array([ 1,  4,  9, 16])"
      ]
     },
     "execution_count": 11,
     "metadata": {},
     "output_type": "execute_result"
    }
   ],
   "source": [
    "a ** 2"
   ]
  },
  {
   "cell_type": "markdown",
   "id": "41c4292e-26ee-4546-82ee-c6e38def60de",
   "metadata": {},
   "source": [
    "### All arithmetic operates elementwise"
   ]
  },
  {
   "cell_type": "code",
   "execution_count": 12,
   "id": "41fef073-c35a-4ffa-b050-d58622f021e0",
   "metadata": {},
   "outputs": [
    {
     "data": {
      "text/plain": [
       "array([2., 2., 2., 2.])"
      ]
     },
     "execution_count": 12,
     "metadata": {},
     "output_type": "execute_result"
    }
   ],
   "source": [
    "b = np.ones(4) + 1\n",
    "b"
   ]
  },
  {
   "cell_type": "code",
   "execution_count": 13,
   "id": "455def9b-6cf4-4e48-bd2a-4ee00a290ceb",
   "metadata": {},
   "outputs": [
    {
     "data": {
      "text/plain": [
       "array([-1.,  0.,  1.,  2.])"
      ]
     },
     "execution_count": 13,
     "metadata": {},
     "output_type": "execute_result"
    }
   ],
   "source": [
    "a - b"
   ]
  },
  {
   "cell_type": "code",
   "execution_count": 14,
   "id": "134aac51-e391-4261-b4df-99be0f9715d4",
   "metadata": {},
   "outputs": [
    {
     "data": {
      "text/plain": [
       "array([2., 4., 6., 8.])"
      ]
     },
     "execution_count": 14,
     "metadata": {},
     "output_type": "execute_result"
    }
   ],
   "source": [
    "a * b"
   ]
  },
  {
   "cell_type": "code",
   "execution_count": 15,
   "id": "122101c8-5b86-4202-90e4-5a710de92243",
   "metadata": {},
   "outputs": [
    {
     "name": "stdout",
     "output_type": "stream",
     "text": [
      "Sum of a and b :\n",
      " [[ 5  6]\n",
      " [ 7  8]\n",
      " [ 9 10]]\n"
     ]
    }
   ],
   "source": [
    "a = np.array([[1,2],[3,4],[5,6]])\n",
    "b = np.array([[4,4],[4,4],[4,4]])\n",
    "\n",
    "#Adding a and b\n",
    "print('Sum of a and b :\\n', a+b)"
   ]
  },
  {
   "cell_type": "code",
   "execution_count": 16,
   "id": "f7ad5af1-dbe5-4f66-b043-d952d2732eb3",
   "metadata": {},
   "outputs": [
    {
     "name": "stdout",
     "output_type": "stream",
     "text": [
      "Product of a and b :\n",
      " [[ 4  8]\n",
      " [12 16]\n",
      " [20 24]]\n"
     ]
    }
   ],
   "source": [
    "# multilply a and b - elementwise multiplication\n",
    "print('Product of a and b :\\n', a*b)"
   ]
  },
  {
   "cell_type": "code",
   "execution_count": 18,
   "id": "7151a193-d86b-43a0-86d8-4eaeacfa3fd5",
   "metadata": {},
   "outputs": [
    {
     "name": "stdout",
     "output_type": "stream",
     "text": [
      "[[ 1  0  0  0]\n",
      " [ 0  4  0  0]\n",
      " [ 0  0  9  0]\n",
      " [ 0  0  0 16]]\n"
     ]
    }
   ],
   "source": [
    "# Array multiplication\n",
    "c =  np.diag([1,2,3,4])\n",
    "print(c * c)"
   ]
  },
  {
   "cell_type": "code",
   "execution_count": 19,
   "id": "bffc7e20-5f4f-4708-ae9e-a53711a58b73",
   "metadata": {},
   "outputs": [
    {
     "name": "stdout",
     "output_type": "stream",
     "text": [
      " Matrix Multiplication: \n",
      " [[16 16  8]\n",
      " [40 40 20]\n",
      " [64 64 32]]\n"
     ]
    }
   ],
   "source": [
    "# matrix multiplication\n",
    "a = np.array([[1,2,1],[3,4,3],[5,6,5]])\n",
    "b = np.array([[4,4,1],[4,4,2],[4,4,3]])\n",
    "print(' Matrix Multiplication: \\n', np.matmul(a,b))"
   ]
  },
  {
   "cell_type": "markdown",
   "id": "6d0402a2-0bc2-42db-98c5-e8fdfd68a3ce",
   "metadata": {},
   "source": [
    "### Comparisions"
   ]
  },
  {
   "cell_type": "code",
   "execution_count": 21,
   "id": "b987caef-e851-4af9-8d63-77113e576df0",
   "metadata": {},
   "outputs": [
    {
     "data": {
      "text/plain": [
       "array([False, False,  True,  True])"
      ]
     },
     "execution_count": 21,
     "metadata": {},
     "output_type": "execute_result"
    }
   ],
   "source": [
    "a = np.array([1,2,3,4])\n",
    "b = np.array([5,3,3,4])\n",
    "a == b"
   ]
  },
  {
   "cell_type": "code",
   "execution_count": 22,
   "id": "3a4440e8-603f-4ad8-bf18-2bb4b1addcb6",
   "metadata": {},
   "outputs": [
    {
     "data": {
      "text/plain": [
       "array([False, False, False, False])"
      ]
     },
     "execution_count": 22,
     "metadata": {},
     "output_type": "execute_result"
    }
   ],
   "source": [
    "a > b"
   ]
  },
  {
   "cell_type": "code",
   "execution_count": 23,
   "id": "d0f17cd3-4c88-451a-ba1f-8449c776e864",
   "metadata": {},
   "outputs": [],
   "source": [
    "# Array-wise comparisions\n",
    "a = np.array([1,2,3,4])\n",
    "b = np.array([5,3,3,4])\n",
    "c = np.array([1,2,3,4])"
   ]
  },
  {
   "cell_type": "code",
   "execution_count": 24,
   "id": "984362e4-513c-46b5-806e-8118a4115f0a",
   "metadata": {},
   "outputs": [
    {
     "data": {
      "text/plain": [
       "False"
      ]
     },
     "execution_count": 24,
     "metadata": {},
     "output_type": "execute_result"
    }
   ],
   "source": [
    "np.array_equal(a,b)"
   ]
  },
  {
   "cell_type": "code",
   "execution_count": 25,
   "id": "3d8a9db4-2f70-4b6b-9bac-9f0863280831",
   "metadata": {},
   "outputs": [
    {
     "data": {
      "text/plain": [
       "False"
      ]
     },
     "execution_count": 25,
     "metadata": {},
     "output_type": "execute_result"
    }
   ],
   "source": [
    "np.array_equal(a,b)"
   ]
  },
  {
   "cell_type": "code",
   "execution_count": 26,
   "id": "ab677d47-e2f6-4723-b907-a25b1ea99a90",
   "metadata": {},
   "outputs": [
    {
     "data": {
      "text/plain": [
       "True"
      ]
     },
     "execution_count": 26,
     "metadata": {},
     "output_type": "execute_result"
    }
   ],
   "source": [
    "np.array_equal(a,c)"
   ]
  },
  {
   "cell_type": "markdown",
   "id": "b2fc90b8-43ad-4fe1-8c9e-d31997554bbe",
   "metadata": {},
   "source": [
    "### Logical Operations"
   ]
  },
  {
   "cell_type": "code",
   "execution_count": 28,
   "id": "4f9682cf-ab31-45c3-bcbc-18cb7af59eaa",
   "metadata": {},
   "outputs": [
    {
     "data": {
      "text/plain": [
       "array([ True,  True,  True, False])"
      ]
     },
     "execution_count": 28,
     "metadata": {},
     "output_type": "execute_result"
    }
   ],
   "source": [
    "a = np.array([1,1,0,0], dtype=bool)\n",
    "b = np.array([1,0,1,0], dtype=bool)\n",
    "\n",
    "np.logical_or(a,b)"
   ]
  },
  {
   "cell_type": "code",
   "execution_count": 29,
   "id": "278dbf88-0a28-470c-b001-62b39ea8e5fe",
   "metadata": {},
   "outputs": [
    {
     "data": {
      "text/plain": [
       "array([ True, False, False, False])"
      ]
     },
     "execution_count": 29,
     "metadata": {},
     "output_type": "execute_result"
    }
   ],
   "source": [
    "np.logical_and(a,b)"
   ]
  },
  {
   "cell_type": "markdown",
   "id": "d3c27770-33d7-497f-be26-53dbad8a8d43",
   "metadata": {},
   "source": [
    "### Transcendental functions:"
   ]
  },
  {
   "cell_type": "code",
   "execution_count": 30,
   "id": "ae1368c7-979f-4502-9d00-268877980be9",
   "metadata": {},
   "outputs": [
    {
     "data": {
      "text/plain": [
       "array([ 0.        ,  0.84147098,  0.90929743,  0.14112001, -0.7568025 ])"
      ]
     },
     "execution_count": 30,
     "metadata": {},
     "output_type": "execute_result"
    }
   ],
   "source": [
    "a = np.arange(5)\n",
    "np.sin(a)"
   ]
  },
  {
   "cell_type": "code",
   "execution_count": 31,
   "id": "a2302752-e194-41c3-a9a8-45a66e2c0808",
   "metadata": {},
   "outputs": [
    {
     "name": "stderr",
     "output_type": "stream",
     "text": [
      "C:\\Users\\Subrat Jena\\AppData\\Local\\Temp\\ipykernel_2524\\176755284.py:1: RuntimeWarning: divide by zero encountered in log\n",
      "  np.log(a)\n"
     ]
    },
    {
     "data": {
      "text/plain": [
       "array([      -inf, 0.        , 0.69314718, 1.09861229, 1.38629436])"
      ]
     },
     "execution_count": 31,
     "metadata": {},
     "output_type": "execute_result"
    }
   ],
   "source": [
    "np.log(a)"
   ]
  },
  {
   "cell_type": "code",
   "execution_count": 32,
   "id": "c87ff97b-3147-4470-abd3-44060aa1b986",
   "metadata": {},
   "outputs": [
    {
     "data": {
      "text/plain": [
       "array([ 1.        ,  2.71828183,  7.3890561 , 20.08553692, 54.59815003])"
      ]
     },
     "execution_count": 32,
     "metadata": {},
     "output_type": "execute_result"
    }
   ],
   "source": [
    "np.exp(a)  #evaluates e^x for each element in a given input"
   ]
  },
  {
   "cell_type": "markdown",
   "id": "c4e61842-7260-4c61-bab6-378a23289a8d",
   "metadata": {},
   "source": [
    "### Shape Mismatch"
   ]
  },
  {
   "cell_type": "code",
   "execution_count": 34,
   "id": "cf36053a-56eb-4c6a-88ea-fc005953767d",
   "metadata": {},
   "outputs": [
    {
     "ename": "ValueError",
     "evalue": "operands could not be broadcast together with shapes (4,) (2,) ",
     "output_type": "error",
     "traceback": [
      "\u001b[1;31m---------------------------------------------------------------------------\u001b[0m",
      "\u001b[1;31mValueError\u001b[0m                                Traceback (most recent call last)",
      "Cell \u001b[1;32mIn[34], line 2\u001b[0m\n\u001b[0;32m      1\u001b[0m a \u001b[38;5;241m=\u001b[39m np\u001b[38;5;241m.\u001b[39marange(\u001b[38;5;241m4\u001b[39m)\n\u001b[1;32m----> 2\u001b[0m a \u001b[38;5;241m+\u001b[39m np\u001b[38;5;241m.\u001b[39marray([\u001b[38;5;241m1\u001b[39m, \u001b[38;5;241m2\u001b[39m])\n",
      "\u001b[1;31mValueError\u001b[0m: operands could not be broadcast together with shapes (4,) (2,) "
     ]
    }
   ],
   "source": [
    "a = np.arange(4)\n",
    "a + np.array([1, 2])"
   ]
  },
  {
   "cell_type": "markdown",
   "id": "51d96e49-5cb2-482d-a3cf-032a4c0fc110",
   "metadata": {},
   "source": [
    "## Basic Reductions\n",
    "### Computing Sums"
   ]
  },
  {
   "cell_type": "code",
   "execution_count": 35,
   "id": "3a2c53c7-1810-435e-bad7-484c143a0d0d",
   "metadata": {},
   "outputs": [
    {
     "data": {
      "text/plain": [
       "10"
      ]
     },
     "execution_count": 35,
     "metadata": {},
     "output_type": "execute_result"
    }
   ],
   "source": [
    "x = np.array([1,2,3,4])\n",
    "np.sum(x)"
   ]
  },
  {
   "cell_type": "code",
   "execution_count": 36,
   "id": "41fa9392-dc7e-4160-91b3-1f28690027ce",
   "metadata": {},
   "outputs": [
    {
     "data": {
      "text/plain": [
       "array([[1, 1],\n",
       "       [2, 2]])"
      ]
     },
     "execution_count": 36,
     "metadata": {},
     "output_type": "execute_result"
    }
   ],
   "source": [
    "#Sum by rows and by columns\n",
    "x = np.array([[1,1],[2,2]])\n",
    "x"
   ]
  },
  {
   "cell_type": "code",
   "execution_count": 37,
   "id": "97117b42-7964-4a7d-8b6a-fcd18a7b43bf",
   "metadata": {},
   "outputs": [
    {
     "data": {
      "text/plain": [
       "array([3, 3])"
      ]
     },
     "execution_count": 37,
     "metadata": {},
     "output_type": "execute_result"
    }
   ],
   "source": [
    "x.sum(axis=0)  #columns first dimension"
   ]
  },
  {
   "cell_type": "code",
   "execution_count": 38,
   "id": "cbc14e93-15e5-4974-a8fe-213391f29e3d",
   "metadata": {},
   "outputs": [
    {
     "data": {
      "text/plain": [
       "array([2, 4])"
      ]
     },
     "execution_count": 38,
     "metadata": {},
     "output_type": "execute_result"
    }
   ],
   "source": [
    "x.sum(axis=1) # rows(second dimension)"
   ]
  },
  {
   "cell_type": "markdown",
   "id": "ecbfa8da-a2aa-4165-8f3f-3826f93d4959",
   "metadata": {},
   "source": [
    "### Other Reductions"
   ]
  },
  {
   "cell_type": "code",
   "execution_count": 39,
   "id": "7593566c-ac3d-4c5b-b917-03585d1217af",
   "metadata": {},
   "outputs": [
    {
     "data": {
      "text/plain": [
       "1"
      ]
     },
     "execution_count": 39,
     "metadata": {},
     "output_type": "execute_result"
    }
   ],
   "source": [
    "x = np.array([1, 3, 2])\n",
    "x.min()"
   ]
  },
  {
   "cell_type": "code",
   "execution_count": 40,
   "id": "ae36fe00-9195-4131-a9dd-eef7ab28edcb",
   "metadata": {},
   "outputs": [
    {
     "data": {
      "text/plain": [
       "3"
      ]
     },
     "execution_count": 40,
     "metadata": {},
     "output_type": "execute_result"
    }
   ],
   "source": [
    "x.max()"
   ]
  },
  {
   "cell_type": "code",
   "execution_count": 41,
   "id": "f8b7b5f6-41f3-4612-a786-2f40802df047",
   "metadata": {},
   "outputs": [
    {
     "data": {
      "text/plain": [
       "0"
      ]
     },
     "execution_count": 41,
     "metadata": {},
     "output_type": "execute_result"
    }
   ],
   "source": [
    "x.argmin() #index of minimum element"
   ]
  },
  {
   "cell_type": "code",
   "execution_count": 42,
   "id": "2d143fd5-7421-474c-9456-ee6aa953ad15",
   "metadata": {},
   "outputs": [
    {
     "data": {
      "text/plain": [
       "1"
      ]
     },
     "execution_count": 42,
     "metadata": {},
     "output_type": "execute_result"
    }
   ],
   "source": [
    "x.argmax() # index of maximum element"
   ]
  },
  {
   "cell_type": "markdown",
   "id": "0c8519db-4b1c-4dd5-bec8-27435dc398c2",
   "metadata": {},
   "source": [
    "### Statistics"
   ]
  },
  {
   "cell_type": "code",
   "execution_count": 43,
   "id": "763602bb-47fb-4d86-b6e3-1888acc99205",
   "metadata": {},
   "outputs": [
    {
     "name": "stdout",
     "output_type": "stream",
     "text": [
      "Array is  [0 1 2 3 4 5 6 7 8 9]\n",
      "min element is  0\n",
      "max element is 9\n",
      "sum of elements in array is 45\n",
      "mean of elements in array is 4.5\n",
      "median of elements in array is 4.5\n",
      "standard deviation of elements in array is 2.8722813232690143\n"
     ]
    }
   ],
   "source": [
    "normal_array = np.arange(0,10,1)\n",
    "print('Array is ',format(normal_array))\n",
    "\n",
    "### min\n",
    "print('min element is ',np.min(normal_array))\n",
    "\n",
    "### max\n",
    "print('max element is',np.max(normal_array))\n",
    "\n",
    "### Sum\n",
    "print('sum of elements in array is',np.sum(normal_array))\n",
    "\n",
    "### Mean\n",
    "print('mean of elements in array is',np.mean(normal_array))\n",
    "\n",
    "### Median\n",
    "print('median of elements in array is',np.median(normal_array))\n",
    "\n",
    "### Sd\n",
    "print('standard deviation of elements in array is',np.std(normal_array))"
   ]
  }
 ],
 "metadata": {
  "kernelspec": {
   "display_name": "Python 3 (ipykernel)",
   "language": "python",
   "name": "python3"
  },
  "language_info": {
   "codemirror_mode": {
    "name": "ipython",
    "version": 3
   },
   "file_extension": ".py",
   "mimetype": "text/x-python",
   "name": "python",
   "nbconvert_exporter": "python",
   "pygments_lexer": "ipython3",
   "version": "3.11.7"
  }
 },
 "nbformat": 4,
 "nbformat_minor": 5
}
