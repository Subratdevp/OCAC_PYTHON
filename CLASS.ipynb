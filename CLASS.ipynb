{
 "cells": [
  {
   "cell_type": "markdown",
   "id": "c87972fa-124a-4811-90b0-b51c73cf275a",
   "metadata": {},
   "source": [
    "## Python Classes/Objects"
   ]
  },
  {
   "cell_type": "markdown",
   "id": "77fffa2b-3a0c-4caf-a668-b1d43bc31d72",
   "metadata": {},
   "source": [
    "##### Python is an object oriented programming language(OOP).\n",
    "##### Almost everything in Python is an object, with its properties and methods.\n",
    "##### A Class is like an object constructor, or a \"blueprint\" for creating objects."
   ]
  },
  {
   "cell_type": "code",
   "execution_count": 1,
   "id": "b302b7eb-afb2-4704-bb12-3e880e6e951e",
   "metadata": {},
   "outputs": [
    {
     "name": "stdout",
     "output_type": "stream",
     "text": [
      "Hello Ankit 5\n"
     ]
    }
   ],
   "source": [
    "# create a class\n",
    "class Myclass:\n",
    "    x=5\n",
    "    print(\"Hello Ankit\",x)"
   ]
  },
  {
   "cell_type": "code",
   "execution_count": 3,
   "id": "a74e80a2-368a-46ad-bdf1-e657bc66e161",
   "metadata": {},
   "outputs": [
    {
     "name": "stdout",
     "output_type": "stream",
     "text": [
      "5\n"
     ]
    }
   ],
   "source": [
    "#Create object, Create an object named p1, and print the value of x:\n",
    "p1 = Myclass()\n",
    "print(p1.x)"
   ]
  },
  {
   "cell_type": "code",
   "execution_count": 5,
   "id": "7c61d085-b8b3-44c8-a2f6-95eb9d740c53",
   "metadata": {},
   "outputs": [
    {
     "name": "stdout",
     "output_type": "stream",
     "text": [
      "5\n",
      "<class '__main__.Myclass'>\n"
     ]
    }
   ],
   "source": [
    "y=Myclass()\n",
    "print(y.x)\n",
    "print(type(y))"
   ]
  },
  {
   "cell_type": "code",
   "execution_count": 7,
   "id": "e830ff9a-2bff-4fab-a161-1612e9f5ad7b",
   "metadata": {},
   "outputs": [
    {
     "name": "stdout",
     "output_type": "stream",
     "text": [
      "Hello Subrat\n",
      "<class '__main__.Students'>\n"
     ]
    }
   ],
   "source": [
    "class Students:\n",
    "    print(\"Hello Subrat\")\n",
    "\n",
    "z = Students()\n",
    "print(type(z))"
   ]
  },
  {
   "cell_type": "code",
   "execution_count": 9,
   "id": "890bf763-0bb6-4611-8aa5-42a36993d539",
   "metadata": {},
   "outputs": [
    {
     "name": "stdout",
     "output_type": "stream",
     "text": [
      "Hello, Welcome to OCAC\n"
     ]
    }
   ],
   "source": [
    "class Student:\n",
    "    def func():\n",
    "        print(\"Hello, Welcome to OCAC\")\n",
    "\n",
    "Student.func()"
   ]
  },
  {
   "cell_type": "code",
   "execution_count": 10,
   "id": "35938de4-a699-4eba-bc96-c8380833f120",
   "metadata": {},
   "outputs": [
    {
     "name": "stdout",
     "output_type": "stream",
     "text": [
      "Hello, Welcome to OCAC 2024\n"
     ]
    }
   ],
   "source": [
    "class Student:\n",
    "    year = 2024\n",
    "    def func(self):\n",
    "        print(\"Hello, Welcome to OCAC\",self.year)\n",
    "x = Student()\n",
    "x.func()"
   ]
  },
  {
   "cell_type": "code",
   "execution_count": 11,
   "id": "f662457e-7835-465a-af95-af884b57e680",
   "metadata": {},
   "outputs": [
    {
     "ename": "TypeError",
     "evalue": "Student.func() missing 1 required positional argument: 'self'",
     "output_type": "error",
     "traceback": [
      "\u001b[1;31m---------------------------------------------------------------------------\u001b[0m",
      "\u001b[1;31mTypeError\u001b[0m                                 Traceback (most recent call last)",
      "Cell \u001b[1;32mIn[11], line 1\u001b[0m\n\u001b[1;32m----> 1\u001b[0m Student\u001b[38;5;241m.\u001b[39mfunc()\n",
      "\u001b[1;31mTypeError\u001b[0m: Student.func() missing 1 required positional argument: 'self'"
     ]
    }
   ],
   "source": [
    "Student.func()"
   ]
  },
  {
   "cell_type": "markdown",
   "id": "ed8ee01a-2d82-490c-b7f8-dce66d51e085",
   "metadata": {},
   "source": [
    "### Note: The init() function is called automatically every time the class is being used to create a new object."
   ]
  },
  {
   "cell_type": "code",
   "execution_count": 12,
   "id": "b9266c2d-7888-4bf0-9a74-4aa7bd21142f",
   "metadata": {},
   "outputs": [
    {
     "name": "stdout",
     "output_type": "stream",
     "text": [
      "Hello my name is  Subrat\n"
     ]
    }
   ],
   "source": [
    " class Person:\n",
    "     def __init__(self, name, age):\n",
    "         self.name = name\n",
    "         self.age = age\n",
    "         \n",
    "     def myfunc(self): \n",
    "         print(\"Hello my name is \" +self.name)\n",
    "\n",
    "p1 = Person(\" Subrat\", 21)\n",
    "p1.myfunc()"
   ]
  },
  {
   "cell_type": "code",
   "execution_count": 1,
   "id": "8fe3c903-f7ce-4092-a64a-8a67560027ad",
   "metadata": {},
   "outputs": [
    {
     "name": "stdout",
     "output_type": "stream",
     "text": [
      "Elon Musk!\n"
     ]
    }
   ],
   "source": [
    "class Student:\n",
    "    def __init__(self,name):\n",
    "        self.name = name # self.name = Attribute initialised\n",
    "#(creating Instance of student class(object of certain class))\n",
    "elon = Student(name='Elon Musk!') # name: argument\n",
    "print(elon.name) #accessing class attribute through object"
   ]
  },
  {
   "cell_type": "code",
   "execution_count": 2,
   "id": "3fc7b851-3b96-4265-86be-94fd82a08f52",
   "metadata": {},
   "outputs": [
    {
     "name": "stdout",
     "output_type": "stream",
     "text": [
      "Elon Musk!\n",
      "I am Champ\n"
     ]
    }
   ],
   "source": [
    "class Student:\n",
    "    def __init__(self,name):\n",
    "        self.name = name\n",
    "\n",
    "elon = Student(name= 'Elon Musk!')\n",
    "champ = Student(name= 'I am Champ')\n",
    "print(elon.name)\n",
    "print(champ.name)"
   ]
  },
  {
   "cell_type": "code",
   "execution_count": 3,
   "id": "ba02ee2a-71ff-4893-a9dd-54f9f3d5c15d",
   "metadata": {},
   "outputs": [
    {
     "name": "stdout",
     "output_type": "stream",
     "text": [
      "Subrat\n",
      "21\n"
     ]
    }
   ],
   "source": [
    "class Person:\n",
    "    def __init__(self, name, age):\n",
    "        self.name = name\n",
    "        self.age = age\n",
    "\n",
    "p1 = Person(\"Subrat\", 21)\n",
    "print(p1.name)\n",
    "print(p1.age)"
   ]
  },
  {
   "cell_type": "code",
   "execution_count": 5,
   "id": "0cbca909-8119-47f7-872b-27ae99391836",
   "metadata": {},
   "outputs": [],
   "source": [
    "class Student:\n",
    "    Total = 500 # Class variable\n",
    "\n",
    "    def __init__(self, marks):\n",
    "        self.marks = marks # Corrected the assignment\n",
    "        print(\"Initialized....\")\n",
    "\n",
    "    def findLoss(self):\n",
    "        return self.Total - self.marks #Corrected the expression\n",
    "        \n",
    "    def findPercentage(self):\n",
    "        return (self.marks / self.Total) * 100 #Corrected the expression"
   ]
  },
  {
   "cell_type": "code",
   "execution_count": 6,
   "id": "55d9f479-1eb2-4346-95c2-d1881209a35f",
   "metadata": {},
   "outputs": [
    {
     "name": "stdout",
     "output_type": "stream",
     "text": [
      "Initialized....\n",
      "Total Marks: 500\n",
      "Lost Marks: 42\n",
      "Percentage is: 91.60000000000001\n",
      "Percentage is: 91.60%\n"
     ]
    }
   ],
   "source": [
    "a = Student(marks=458)\n",
    "print(\"Total Marks:\", a.Total)\n",
    "print(\"Lost Marks:\", a.findLoss()) #Corrected the typo in the string\n",
    "print(\"Percentage is:\", a.findPercentage())\n",
    "print(\"Percentage is: {:.2f}%\".format(a.findPercentage()))"
   ]
  },
  {
   "cell_type": "markdown",
   "id": "fabaff41-07c9-4cb2-85cf-092d6b85e0b4",
   "metadata": {},
   "source": [
    "#### The  __init__  Method"
   ]
  },
  {
   "cell_type": "code",
   "execution_count": 8,
   "id": "019c4e11-a119-4383-a837-f8b7e929f6c1",
   "metadata": {},
   "outputs": [],
   "source": [
    "def __init__(self, marks):\n",
    "    self.marks = marks #Instance variable\n",
    "    print(\"Initialized...\")"
   ]
  },
  {
   "cell_type": "markdown",
   "id": "707fcbec-a434-40c0-ad00-3fe77c16cb4e",
   "metadata": {},
   "source": [
    "#### Breakdown"
   ]
  },
  {
   "cell_type": "markdown",
   "id": "6a892ae9-90b7-48bd-8a77-c3c9036a2c33",
   "metadata": {},
   "source": [
    "#### 1. First self:\n",
    "  ##### . in the Metod Definition(def __init__(self, marks):):\n",
    "  ##### . Here, self is a parameter that refers to the instance of the class that is being created. When you create an instance of Student, for example a = Student(marks=458), self in __init__ refers to this new instance a."
   ]
  },
  {
   "cell_type": "markdown",
   "id": "6fd264f2-c865-4b3d-84a5-dcc6a405a5af",
   "metadata": {},
   "source": [
    "#### 2. Second self:\n",
    "##### . inside the Method Body(self.marks = arks):\n",
    "##### . Here, self is to access and assign an instance variable. Specifically, self.marks creates an attribute named marks for the instance and assigns it the value passed as the marks argument. This means self.marks is an instance variable that will be unique to each instance of the class.\n"
   ]
  },
  {
   "cell_type": "markdown",
   "id": "0bcf5a28-f707-400f-9156-dfdb8862b5ae",
   "metadata": {},
   "source": [
    "#### Example to illustrate:"
   ]
  },
  {
   "cell_type": "markdown",
   "id": "8f8924f4-1531-4cf4-9260-045596f036ac",
   "metadata": {},
   "source": [
    "##### Let's walk through an example where an instance of the Student class is created."
   ]
  },
  {
   "cell_type": "markdown",
   "id": "6dfbd638-e7ea-4065-a02a-89b24ab37c1e",
   "metadata": {},
   "source": [
    "##### Class Definition:"
   ]
  },
  {
   "cell_type": "code",
   "execution_count": 9,
   "id": "f9774f96-3c3c-4a73-a82a-e1a9bea2529d",
   "metadata": {},
   "outputs": [],
   "source": [
    "    class Student:\n",
    "        def __init__(self, marks):\n",
    "            sellf.marks = marks #Instance variable\n",
    "            print(\"Initialized...\")"
   ]
  },
  {
   "cell_type": "markdown",
   "id": "ae0d12e9-afc3-44bc-a91e-94a6b266d737",
   "metadata": {},
   "source": [
    "##### Creating an instance:"
   ]
  },
  {
   "cell_type": "markdown",
   "id": "c8a196fb-0ded-411b-b729-475c0fdf1f07",
   "metadata": {},
   "source": [
    "##### a = Student(marks=458)\n",
    "##### . When Student(marks=458) is executed, the __init__ method is called.\n",
    "##### . The instance a is passed as the self parameter to the __init__ method.\n",
    "##### . The value 458 is passed as the marks parameter."
   ]
  },
  {
   "cell_type": "markdown",
   "id": "5c8634b8-67b6-4af2-9acc-dd1b8032e123",
   "metadata": {},
   "source": [
    "#### Execution of __init__:\n",
    "##### . self refers to the instance a.\n",
    "##### . self.marks = marks assigns the value 458 to the instance variable marks of a."
   ]
  },
  {
   "cell_type": "markdown",
   "id": "03dbfdf2-216f-418f-b7b9-4da6ccf77a29",
   "metadata": {},
   "source": [
    "#### Breakdown of self.marks = marks:\n",
    "##### . self.marks:\n",
    "#####  > This accesses the marks attribute of the instance referred to by self ( which is a ).\n",
    "##### . = marks:\n",
    "##### > This assigns the value of the parameter marks (which is 458) to self.marks."
   ]
  },
  {
   "cell_type": "markdown",
   "id": "d8c5160a-a6b8-4ab3-950b-e250b1669c99",
   "metadata": {},
   "source": [
    "#### Visual Representation:"
   ]
  },
  {
   "cell_type": "markdown",
   "id": "254dac45-b22a-43a6-87f5-67c255c5f6a0",
   "metadata": {},
   "source": [
    "##### Imagine self is a placehoder for the instance a:\n",
    "\n",
    "##### . self.marks become a.marks.\n",
    "##### . marks is the value 458\n",
    "\n",
    "##### So, effectively, the line self.marks = marks is doing:\n",
    "##### . a.marks = 458."
   ]
  },
  {
   "cell_type": "markdown",
   "id": "02bbe8a7-79a4-4848-b2fc-9d6ac69b7044",
   "metadata": {},
   "source": [
    "#### Summary"
   ]
  },
  {
   "cell_type": "markdown",
   "id": "a4f01d73-e163-4522-9956-084d39358963",
   "metadata": {},
   "source": [
    "##### . First self (in the method definition): it represents the instance of the class that is being created.\n",
    "##### . Second self (in the method body): it is used to assign the value of the marks parameter to the instance variable marks of the current instance.\n",
    "\n",
    "##### The use of self ensures that the marks value is stored uniquely in each instance of the "
   ]
  },
  {
   "cell_type": "code",
   "execution_count": 23,
   "id": "5b441311-eee7-4227-8a2e-b7b51b47b85e",
   "metadata": {},
   "outputs": [],
   "source": [
    "class Student:\n",
    "    Total = 500\n",
    "\n",
    "    def __init__(self, name, marks, gender):\n",
    "        self.name=name\n",
    "        self.marks=marks\n",
    "        self.gender=gender\n",
    "        print(\"Initialized..\")\n",
    "\n",
    "    def __len__(self):\n",
    "        return self.marks\n",
    "\n",
    "    def __str__(self):\n",
    "        return \"Name: %s | Marks: %s | Gender: %s\" %(self.name,self.marks,self.gender)\n",
    "\n",
    "    def __del__(self):\n",
    "        print(\"Student Database is Deleted\")"
   ]
  },
  {
   "cell_type": "code",
   "execution_count": 13,
   "id": "bde46948-12d7-43e8-a9b8-f98863e02f2a",
   "metadata": {},
   "outputs": [
    {
     "name": "stdout",
     "output_type": "stream",
     "text": [
      "Initialized..\n",
      "Student Database is Deleted\n",
      "Initialized..\n",
      "Student Database is Deleted\n"
     ]
    }
   ],
   "source": [
    "a = Student('subrat','455','male')\n",
    "B = Student('champu', 459,'female')"
   ]
  },
  {
   "cell_type": "code",
   "execution_count": 34,
   "id": "e0db4059-638a-4414-aaaf-bd7819efa2d1",
   "metadata": {},
   "outputs": [
    {
     "name": "stdout",
     "output_type": "stream",
     "text": [
      "Name: champu | marks: 459 | Gender: female\n"
     ]
    }
   ],
   "source": [
    "print(B)"
   ]
  },
  {
   "cell_type": "code",
   "execution_count": 35,
   "id": "35f8f755-4d8b-4eec-aeff-4f3ecb7c6c5a",
   "metadata": {},
   "outputs": [
    {
     "ename": "NameError",
     "evalue": "name 'a' is not defined",
     "output_type": "error",
     "traceback": [
      "\u001b[1;31m---------------------------------------------------------------------------\u001b[0m",
      "\u001b[1;31mNameError\u001b[0m                                 Traceback (most recent call last)",
      "Cell \u001b[1;32mIn[35], line 1\u001b[0m\n\u001b[1;32m----> 1\u001b[0m \u001b[38;5;28mprint\u001b[39m(\u001b[38;5;124m'\u001b[39m\u001b[38;5;124mMarks:\u001b[39m\u001b[38;5;124m'\u001b[39m,\u001b[38;5;28mlen\u001b[39m(a))\n\u001b[0;32m      2\u001b[0m \u001b[38;5;28;01mdel\u001b[39;00m a\n",
      "\u001b[1;31mNameError\u001b[0m: name 'a' is not defined"
     ]
    }
   ],
   "source": [
    "print('Marks:',len(a))\n",
    "del a"
   ]
  },
  {
   "cell_type": "code",
   "execution_count": 36,
   "id": "1e665284-20f7-4a6f-aa9e-539f34fdc742",
   "metadata": {},
   "outputs": [
    {
     "ename": "NameError",
     "evalue": "name 'a' is not defined",
     "output_type": "error",
     "traceback": [
      "\u001b[1;31m---------------------------------------------------------------------------\u001b[0m",
      "\u001b[1;31mNameError\u001b[0m                                 Traceback (most recent call last)",
      "Cell \u001b[1;32mIn[36], line 1\u001b[0m\n\u001b[1;32m----> 1\u001b[0m \u001b[38;5;28mprint\u001b[39m(a)\n",
      "\u001b[1;31mNameError\u001b[0m: name 'a' is not defined"
     ]
    }
   ],
   "source": [
    "print(a)"
   ]
  },
  {
   "cell_type": "code",
   "execution_count": 3,
   "id": "5e71bbfd-def6-4129-ab1d-bbbc401dc79c",
   "metadata": {},
   "outputs": [
    {
     "name": "stdout",
     "output_type": "stream",
     "text": [
      "Initialized..\n"
     ]
    },
    {
     "data": {
      "text/plain": [
       "150000"
      ]
     },
     "execution_count": 3,
     "metadata": {},
     "output_type": "execute_result"
    }
   ],
   "source": [
    "class Student:\n",
    "    Total = 500 #class variable\n",
    "\n",
    "    def __init__(a,marks):\n",
    "        a.marks=marks\n",
    "        print(\"Initialized..\")\n",
    "\n",
    "    def mul(self):\n",
    "        return self.marks * self.Total\n",
    "\n",
    "p1 = Student(300)\n",
    "p1.mul()"
   ]
  },
  {
   "cell_type": "code",
   "execution_count": 4,
   "id": "9ddaf6dd-eb89-457c-9af0-f5fad26a89bc",
   "metadata": {},
   "outputs": [
    {
     "name": "stdout",
     "output_type": "stream",
     "text": [
      "Initialized...\n",
      "<__main__.Student object at 0x0000019711748B50>\n",
      "marks:  455\n"
     ]
    }
   ],
   "source": [
    "class Student:\n",
    "    Total = 500 #Class variable\n",
    "\n",
    "    def __init__(self, name, marks, gender):\n",
    "        self.name=name\n",
    "        self.marks=marks\n",
    "        self.gender=gender\n",
    "        print(\"Initialized...\")\n",
    "\n",
    "    def __len__(b):\n",
    "        return b.marks\n",
    "\n",
    "a = Student('Subrat', 455, 'male')\n",
    "print(a)\n",
    "print('marks: ',len(a))\n",
    "        \n",
    "        "
   ]
  },
  {
   "cell_type": "markdown",
   "id": "aa9fa4d4-1866-4ace-a32b-e4febbe17f7d",
   "metadata": {},
   "source": [
    "#### Explanation:\n",
    "#### 1. Class Variable Declaration:\n",
    "##### . Total 500 should be Total = 500 . The class variable should be defined with\n",
    "##### an = sign.\n",
    "#### 2. Initialization Method:\n",
    "##### . self.marks marks should be self.marks = marks . The correct syntax for\n",
    "##### assigning a parameter to an instance variable is using = .\n",
    "#### 3. Method findLoss :\n",
    "##### . return self. Total self.marks should be return self.Total -\n",
    "##### self.marks . The correct way to find the loss of marks is by subtracting\n",
    "##### self.marks from self.Total . The . in self. Total should not have a\n",
    "##### space, and the operation should be subtraction ( - ).\n",
    "#### 4. Method findPercentage :\n",
    "\n",
    "##### . return self.marks/self.Total 100 should be return (self.marks /\n",
    "##### self.Total) * 100 . The correct way to calculate the percentage is by dividing\n",
    "##### self.marks by self.Total and then multiplying by 100. The multiplication\n",
    "##### operator * was missing, and the operation should be enclosed in parentheses for\n",
    "##### clarity.\n",
    "#### 5. Typographical Correction in Print Statement:\n",
    "##### . 'Lossed Marks:' should be corrected to 'Lost Marks:' .\n",
    "#### Explanation of the Corrected Code:\n",
    "##### . Class Variable: Total = 500 is a class variable shared among all instances of the\n",
    "##### Student class.\n",
    "##### . Initializer ( __init__ method): The __init__ method initializes the instance\n",
    "##### variable self.marks with the provided marks.\n",
    "##### . findLoss Method: This method calculates and returns the difference between the\n",
    "##### total possible marks and the obtained marks.\n",
    "##### . findPercentage Method: This method calculates and returns the percentage of\n",
    "##### marks obtained.\n",
    "\n",
    "##### Sure! Let's break down and explain each part of the provided Python class code:\n",
    "#### Class Definition:\n",
    "##### class Student:\n",
    "##### Total = 500 # Class variable\n",
    "##### . This defines a class named Student .\n",
    "##### .Total = 500 is a class variable shared among all instances of the Student class. It\n",
    "##### represents a fixed total marks value for all students.\n",
    "#### Initializer ( __init__ method):\n",
    "##### def __init__(self, name, marks, gender):\n",
    "##### self.name = name\n",
    "##### self.marks = marks\n",
    "##### self.gender = gender\n",
    "##### print(\"Initialized...\")\n",
    "##### . This is the initializer method that gets called when a new instance of the Student\n",
    "##### class is created.\n",
    "##### . It takes three parameters in addition to self : name , marks , and gender .\n",
    "##### .It initializes the instance variables self.name , self.marks , and self.gender with\n",
    "##### the provided values.\n",
    "##### It prints \"Initialized...\" when a new Student object is created.\n",
    "#### __len__ Method:\n",
    "##### def __len__(self):\n",
    "##### return self.marks\n",
    "\n",
    "##### . This is a special method that allows the use of the len() function on Student\n",
    "##### objects.\n",
    "##### . It returns the marks of the student, meaning when you call len(a) , it returns\n",
    "##### a.marks .\n",
    "#### __str__ Method:\n",
    "##### def __str__(self):\n",
    "##### return \"Name: %s | Marks: %s | Gender: %s\" % (self.name, self.m\n",
    "##### arks, self.gender)\n",
    "##### . This is a special method that defines the string representation of the Student object.\n",
    "##### . When you print a Student object, it returns a formatted string showing the name,\n",
    "##### marks, and gender of the student.\n",
    "#### __del__ Method:\n",
    "##### def __del__(self):\n",
    "##### print(\"Student Database is Deleted\")\n",
    "##### . This is a special method called a destructor that gets called when an object is about to\n",
    "##### be destroyed (when del is used or when the object goes out of scope).\n",
    "##### . It prints \"Student Database is Deleted\" when the Student object is deleted.\n",
    "#### Creating and Using a Student Object:\n",
    "##### a = Student('champ', 450, 'male')\n",
    "##### . This creates a new Student object with the name 'champ', marks 450, and gender\n",
    "##### 'male'.\n",
    "##### . It calls the __init__ method, which initializes the object and prints \"Initialized...\".\n",
    "#### Printing the Student Object:\n",
    "##### print(a)\n",
    "##### . This calls the __str__ method and prints the string representation of the Student\n",
    "##### object:\n",
    "##### Name: champ | Marks: 450 | Gender: male\n",
    "#### Getting the Length of the Student Object:\n",
    "##### print('Marks: ', len(a))\n",
    "##### . This calls the __len__ method and prints the marks of the student:\n",
    "##### Marks: 450\n",
    "#### Deleting the Student Object:\n",
    "##### del a\n",
    "##### . This calls the __del__ method and deletes the Student object, printing:\n",
    "\n",
    "##### Student Database is Deleted\n",
    "##### This code demonstrates the use of special methods in Python to customize the\n",
    "##### behavior of objects for initialization, string representation, length calculation, and object deletion."
   ]
  },
  {
   "cell_type": "markdown",
   "id": "4689838f-d9dc-4561-8115-43f9ac7ed8c6",
   "metadata": {},
   "source": [
    "### The self Parameter"
   ]
  },
  {
   "cell_type": "markdown",
   "id": "2b65eca4-2369-41b9-87ef-0f1023aebda1",
   "metadata": {},
   "source": [
    "##### The self parameter is a reference to the current instance of the class, and is used to access cariables that belongs to the class."
   ]
  },
  {
   "cell_type": "markdown",
   "id": "898d9b52-e793-4d42-89b8-2d21d5533d5a",
   "metadata": {},
   "source": [
    "##### It does not have to be named itself, you can call it whatever you like, but it has to be the first parameter of any function in the class:"
   ]
  },
  {
   "cell_type": "code",
   "execution_count": 9,
   "id": "9ab03877-0a51-4f9c-b14a-eb00ad2e1d24",
   "metadata": {},
   "outputs": [
    {
     "name": "stdout",
     "output_type": "stream",
     "text": [
      "Hello my name is Subrat and age is 21\n"
     ]
    }
   ],
   "source": [
    "class Person:\n",
    "    def __init__(mysillyobject, name, age):\n",
    "        mysillyobject.name = name\n",
    "        mysillyobject.age = age\n",
    "\n",
    "    def myfunc(abc):\n",
    "        print(\"Hello my name is \" + abc.name,'and age is', + abc.age)\n",
    "\n",
    "p1 = Person(\"Subrat\", 21)\n",
    "p1.myfunc()"
   ]
  },
  {
   "cell_type": "code",
   "execution_count": 10,
   "id": "dc4f27cd-4820-4c00-99ff-3098557450c9",
   "metadata": {},
   "outputs": [
    {
     "name": "stdout",
     "output_type": "stream",
     "text": [
      "Hello my name is Subrat and age is 22\n"
     ]
    }
   ],
   "source": [
    "#Modify object Properties\n",
    "#Set the age of p1 to 40:\n",
    "\n",
    "p1.age = 22\n",
    "p1.myfunc()"
   ]
  },
  {
   "cell_type": "markdown",
   "id": "7ecda9e7-be1c-4c1e-be37-04aa3b5653b2",
   "metadata": {},
   "source": [
    "### Delete Object Properties"
   ]
  },
  {
   "cell_type": "markdown",
   "id": "a365ecdb-f5bb-4a5e-944b-2f1c6a76eee2",
   "metadata": {},
   "source": [
    "##### Delete the age property from the p1 object:"
   ]
  },
  {
   "cell_type": "code",
   "execution_count": 11,
   "id": "382041d3-b577-4738-9927-0f9a8878c6b5",
   "metadata": {},
   "outputs": [
    {
     "ename": "AttributeError",
     "evalue": "'Person' object has no attribute 'age'",
     "output_type": "error",
     "traceback": [
      "\u001b[1;31m---------------------------------------------------------------------------\u001b[0m",
      "\u001b[1;31mAttributeError\u001b[0m                            Traceback (most recent call last)",
      "Cell \u001b[1;32mIn[11], line 2\u001b[0m\n\u001b[0;32m      1\u001b[0m \u001b[38;5;28;01mdel\u001b[39;00m p1\u001b[38;5;241m.\u001b[39mage\n\u001b[1;32m----> 2\u001b[0m p1\u001b[38;5;241m.\u001b[39mmyfunc()\n",
      "Cell \u001b[1;32mIn[9], line 7\u001b[0m, in \u001b[0;36mPerson.myfunc\u001b[1;34m(abc)\u001b[0m\n\u001b[0;32m      6\u001b[0m \u001b[38;5;28;01mdef\u001b[39;00m \u001b[38;5;21mmyfunc\u001b[39m(abc):\n\u001b[1;32m----> 7\u001b[0m     \u001b[38;5;28mprint\u001b[39m(\u001b[38;5;124m\"\u001b[39m\u001b[38;5;124mHello my name is \u001b[39m\u001b[38;5;124m\"\u001b[39m \u001b[38;5;241m+\u001b[39m abc\u001b[38;5;241m.\u001b[39mname,\u001b[38;5;124m'\u001b[39m\u001b[38;5;124mand age is\u001b[39m\u001b[38;5;124m'\u001b[39m, \u001b[38;5;241m+\u001b[39m abc\u001b[38;5;241m.\u001b[39mage)\n",
      "\u001b[1;31mAttributeError\u001b[0m: 'Person' object has no attribute 'age'"
     ]
    }
   ],
   "source": [
    "del p1.age\n",
    "p1.myfunc()"
   ]
  },
  {
   "cell_type": "markdown",
   "id": "490495ba-aecb-4c78-b629-b97c55be5ce5",
   "metadata": {},
   "source": [
    "### Delete objects\n",
    "##### you can delete objects by using the del keyword:"
   ]
  },
  {
   "cell_type": "code",
   "execution_count": 12,
   "id": "e95ec8fd-2ba4-4975-8a68-2eb3309221f2",
   "metadata": {},
   "outputs": [
    {
     "ename": "NameError",
     "evalue": "name 'p1' is not defined",
     "output_type": "error",
     "traceback": [
      "\u001b[1;31m---------------------------------------------------------------------------\u001b[0m",
      "\u001b[1;31mNameError\u001b[0m                                 Traceback (most recent call last)",
      "Cell \u001b[1;32mIn[12], line 2\u001b[0m\n\u001b[0;32m      1\u001b[0m \u001b[38;5;28;01mdel\u001b[39;00m p1\n\u001b[1;32m----> 2\u001b[0m p1\u001b[38;5;241m.\u001b[39mmyfunc()\n",
      "\u001b[1;31mNameError\u001b[0m: name 'p1' is not defined"
     ]
    }
   ],
   "source": [
    "del p1\n",
    "p1.myfunc()"
   ]
  },
  {
   "cell_type": "markdown",
   "id": "51689c77-4c3c-406b-b732-5bd90e193383",
   "metadata": {},
   "source": [
    "### The pass Statement \n",
    "##### class definitions cannot be empty, but if you for some reason have a class definition with no content, put in the pass statement to avoid getting an error."
   ]
  },
  {
   "cell_type": "code",
   "execution_count": 13,
   "id": "298c2483-4e90-41f8-a3a0-7fef379166de",
   "metadata": {},
   "outputs": [],
   "source": [
    "class Person:\n",
    "    pass\n",
    "    "
   ]
  },
  {
   "cell_type": "code",
   "execution_count": 14,
   "id": "86cefdee-f852-4414-9a8e-10ca0a079c47",
   "metadata": {},
   "outputs": [
    {
     "ename": "SyntaxError",
     "evalue": "incomplete input (3523702532.py, line 1)",
     "output_type": "error",
     "traceback": [
      "\u001b[1;36m  Cell \u001b[1;32mIn[14], line 1\u001b[1;36m\u001b[0m\n\u001b[1;33m    class Person:\u001b[0m\n\u001b[1;37m                 ^\u001b[0m\n\u001b[1;31mSyntaxError\u001b[0m\u001b[1;31m:\u001b[0m incomplete input\n"
     ]
    }
   ],
   "source": [
    "class Person:"
   ]
  },
  {
   "cell_type": "markdown",
   "id": "1e7db019-8e8c-4732-a1f7-89984117d384",
   "metadata": {},
   "source": [
    "### Create a Parent Class\n",
    "##### Any class can be a parent class, so the syntax is the same as creating any otehr class:"
   ]
  },
  {
   "cell_type": "code",
   "execution_count": 2,
   "id": "0442b594-36a8-4750-94c0-ebaf34b61b46",
   "metadata": {},
   "outputs": [
    {
     "name": "stdout",
     "output_type": "stream",
     "text": [
      "Subrat Ram\n"
     ]
    }
   ],
   "source": [
    "\n",
    "class Person:\n",
    "    def __init__(self, fname, lname):\n",
    "        self.firstname = fname\n",
    "        self.lastname = lname\n",
    "    def printname(self):\n",
    "        print(self.firstname, self.lastname)\n",
    "\n",
    "x = Person(\"Subrat\", \"Ram\")\n",
    "x.printname()"
   ]
  },
  {
   "cell_type": "markdown",
   "id": "4ebeba50-0fad-46be-84ca-eda2b9362e5c",
   "metadata": {},
   "source": [
    "### Create a Child Class\n",
    "##### To create a class that inherits the functionality from another class, send the parent class as a parameter when creating the child class:"
   ]
  },
  {
   "cell_type": "code",
   "execution_count": 3,
   "id": "a50db41b-6606-4c18-85d7-e0a30c30f8d2",
   "metadata": {},
   "outputs": [],
   "source": [
    "class Student(Person):\n",
    "    pass"
   ]
  },
  {
   "cell_type": "code",
   "execution_count": 4,
   "id": "ad190cfb-35db-441c-9f6f-4895eabdd708",
   "metadata": {},
   "outputs": [
    {
     "name": "stdout",
     "output_type": "stream",
     "text": [
      "Mike Olsen\n"
     ]
    }
   ],
   "source": [
    "x = Student(\"Mike\",\"Olsen\")\n",
    "x.printname()"
   ]
  },
  {
   "cell_type": "markdown",
   "id": "8d6a049e-7e5b-4b27-bd29-b1142508838c",
   "metadata": {},
   "source": [
    "### Add the init() Function\n",
    "##### So far we have created a child class that inherits the properties and methods from its parent.\n",
    "##### We want to add the init() function to the child class (instead of the pass keyword).\n",
    "##### Note: The init() function is called automatically every time the class is being used to create a new object."
   ]
  },
  {
   "cell_type": "code",
   "execution_count": 5,
   "id": "8fa2b05a-227b-4f23-875f-8bcf002cb9ce",
   "metadata": {},
   "outputs": [],
   "source": [
    "# add the __init__() function to the Student class:\n",
    "\n",
    "class Student(Person):\n",
    "    def __init__(self, fname, lname):\n",
    "        pass\n",
    "\n",
    "#add properties etc"
   ]
  },
  {
   "cell_type": "raw",
   "id": "c19ecf40-2fab-4522-9701-aa4ba9a98463",
   "metadata": {},
   "source": [
    "When you add the __init__() function, the child class will no longer\n",
    "inherit the parent's __init__() function.\n",
    "Note: The child's __init__() function overrides the inheritance of the\n",
    "parent's __init__() function.\n",
    "zw\n",
    "To keep the inheritance of the parent's __init__() function, add a call to\n",
    "the parent's __init__() function:"
   ]
  },
  {
   "cell_type": "code",
   "execution_count": 7,
   "id": "1cdd00e8-84de-4178-834f-ad046d5f9169",
   "metadata": {},
   "outputs": [
    {
     "name": "stdout",
     "output_type": "stream",
     "text": [
      "Mike Olsen\n"
     ]
    }
   ],
   "source": [
    "class Student(Person):\n",
    "    def __init__(self, fname, lname):\n",
    "     Person.__init__(self, fname, lname)\n",
    "\n",
    "     x = Student(\"Mike\", \"Olsen\")\n",
    "x.printname()"
   ]
  },
  {
   "cell_type": "markdown",
   "id": "3b1b251c-edb6-45c9-826d-02378b031e98",
   "metadata": {},
   "source": [
    "### Use the super() Function\n",
    "##### Python also has a super() function that will make the child class inherit all the methods and properties from its parent:"
   ]
  },
  {
   "cell_type": "code",
   "execution_count": 8,
   "id": "44d0292e-4c8c-42c8-a6ce-f94a9c35a7bc",
   "metadata": {},
   "outputs": [],
   "source": [
    "class Student(Person):\n",
    "    def __init__(self, fname, lname):\n",
    "      super().__init__(fname, lname)\n",
    "#By using the super() function, you do not hae to use the name of the parent        "
   ]
  },
  {
   "cell_type": "markdown",
   "id": "33577188-810c-4248-a4b6-a1cb58b4f337",
   "metadata": {},
   "source": [
    "### Add Properties"
   ]
  },
  {
   "cell_type": "code",
   "execution_count": 9,
   "id": "85440dce-a63d-49be-9d4b-000f2091d129",
   "metadata": {},
   "outputs": [
    {
     "name": "stdout",
     "output_type": "stream",
     "text": [
      "2019\n",
      "Mike Olsen\n"
     ]
    }
   ],
   "source": [
    "# Add a properties called graduation year to the Student class:\n",
    "class Person:\n",
    "    def __init__(self, fname, lname):\n",
    "        self.firstname = fname\n",
    "        self.lastname = lname\n",
    "\n",
    "    def printname(self):\n",
    "        print(self.firstname, self.lastname)\n",
    "\n",
    "class Student(Person):\n",
    "    def __init__(self, fname, lname):\n",
    "      super().__init__(fname, lname)\n",
    "      self.graduationyear = 2019\n",
    "x = Student(\"Mike\", \"Olsen\")\n",
    "print(x.graduationyear)\n",
    "x.printname()"
   ]
  },
  {
   "cell_type": "code",
   "execution_count": 11,
   "id": "31f147c9-97ee-4091-840d-3660f796b86b",
   "metadata": {},
   "outputs": [
    {
     "name": "stdout",
     "output_type": "stream",
     "text": [
      "2019\n"
     ]
    }
   ],
   "source": [
    "#In the example below, the year 2019 should be a variable,\n",
    "#and passed into the Student class when creating student objects. To do so,\n",
    "#Add a year parameter, and pass the correct year when creating objects:\n",
    "\n",
    "class Person:\n",
    "    def __init__(self, fname, lname):\n",
    "        self.firstname = fname\n",
    "        self.lname = lname\n",
    "\n",
    "    def printname(self):\n",
    "        print(self.firstname, self.lastname)\n",
    "\n",
    "class Student(Person):\n",
    "    def __init__(self, fname, lname, year):\n",
    "        super().__init__(fname, lname)\n",
    "        self.graduationyear = year\n",
    "\n",
    "x = Student(\"mike\", \"olsen\", 2019)\n",
    "print(x.graduationyear)"
   ]
  },
  {
   "cell_type": "markdown",
   "id": "673a2398-67e6-4de7-b7ef-6f94fe50f97f",
   "metadata": {},
   "source": [
    "### Add Methods"
   ]
  },
  {
   "cell_type": "code",
   "execution_count": 18,
   "id": "701e4e2b-d8ba-43b0-a4b5-29ce26a00ad8",
   "metadata": {},
   "outputs": [
    {
     "name": "stdout",
     "output_type": "stream",
     "text": [
      "welcome Mike Olsen to the class of 2019\n"
     ]
    }
   ],
   "source": [
    "#Add a method called welcome to the Student class:\n",
    "\n",
    "class Person:\n",
    "    def __init__(self, fname, lname):\n",
    "        self.firstname = fname\n",
    "        self.lastname = lname\n",
    "\n",
    "    def printname(self):\n",
    "        print(self.firstname, self.lastname)\n",
    "\n",
    "class Student(Person):\n",
    "    def __init__(self, fname, lname, year):\n",
    "        super().__init__(fname, lname)\n",
    "        self.graduationyear = year\n",
    "\n",
    "    def welcome(self):\n",
    "        print(\"welcome\", self.firstname, self.lastname, \"to the class of\", self.graduationyear)\n",
    "\n",
    "x = Student(\"Mike\",\"Olsen\", 2019)\n",
    "x.welcome()"
   ]
  },
  {
   "cell_type": "markdown",
   "id": "4cfb082d-e879-4e65-a919-369ffdd4192e",
   "metadata": {},
   "source": [
    "### Inheritance - Help to reduce complexity of the program"
   ]
  },
  {
   "cell_type": "markdown",
   "id": "9be66682-1ba5-4104-90e9-801ee2803077",
   "metadata": {},
   "source": [
    "### Python Inheritance\n",
    "##### Inheritance allows us to define a class that inherits all the methods and properties from another class.\n",
    "##### Parent class is the class being inherited from, also called base class.\n",
    "##### Child class is the class that inherits from another class, also called derived class."
   ]
  },
  {
   "cell_type": "markdown",
   "id": "5b7d47d6-772b-4072-a5b9-5bf0cd2e1400",
   "metadata": {},
   "source": [
    "##### Based Class & Derived Class:"
   ]
  },
  {
   "cell_type": "code",
   "execution_count": 19,
   "id": "5679d7fb-d742-4b11-af21-3a02cb935640",
   "metadata": {},
   "outputs": [],
   "source": [
    "class Elon:\n",
    "    def __init__(self):\n",
    "        print(\"Profile created\")\n",
    "\n",
    "    def name(self):\n",
    "        print(\"Elon musk\")\n",
    "\n",
    "    def age(self):\n",
    "        print(\"40\")"
   ]
  },
  {
   "cell_type": "code",
   "execution_count": 20,
   "id": "40232257-073c-47c4-9db1-42c2e93bfe50",
   "metadata": {},
   "outputs": [],
   "source": [
    "class Spacex(Elon):\n",
    "    def __init__(self):\n",
    "        super().__init__() # correctly call the parent class's initializer \n",
    "        print(\"Company Profile created\")\n",
    "\n",
    "    def name(self):\n",
    "        print(\"Spacex\")\n",
    "\n",
    "    def type(self):\n",
    "        print(\"Private space travel\")\n",
    "        "
   ]
  },
  {
   "cell_type": "code",
   "execution_count": 21,
   "id": "e560ba38-d745-4bd5-a218-965fd778c0b9",
   "metadata": {},
   "outputs": [
    {
     "name": "stdout",
     "output_type": "stream",
     "text": [
      "Profile created\n",
      "Company Profile created\n",
      "Spacex\n",
      "40\n",
      "Private space travel\n"
     ]
    }
   ],
   "source": [
    "# Creating an instance of the spacex class\n",
    "spacex_profile =  Spacex()\n",
    "\n",
    "# Calling methods on the instance\n",
    "spacex_profile.name()\n",
    "spacex_profile.age()\n",
    "spacex_profile.type()\n"
   ]
  },
  {
   "cell_type": "code",
   "execution_count": 22,
   "id": "1e5c2f09-8c82-4990-8cd4-7e9482654c67",
   "metadata": {},
   "outputs": [
    {
     "name": "stdout",
     "output_type": "stream",
     "text": [
      "Profile created\n",
      "Company Profile created\n"
     ]
    }
   ],
   "source": [
    "a = Spacex()"
   ]
  },
  {
   "cell_type": "markdown",
   "id": "6c3f7179-388f-445b-9e38-f5df928d3892",
   "metadata": {},
   "source": [
    "##### Let's break down and explain the provided code which demonstrates class inheritance in Python."
   ]
  },
  {
   "cell_type": "markdown",
   "id": "595876ee-519b-45ed-9f88-87760b900146",
   "metadata": {},
   "source": [
    "### Class Definitions"
   ]
  },
  {
   "cell_type": "markdown",
   "id": "2275d928-0feb-42dc-8306-b279b4659779",
   "metadata": {},
   "source": [
    "#### 1. Class Elon:"
   ]
  },
  {
   "cell_type": "code",
   "execution_count": 2,
   "id": "9b63c386-6269-415f-9225-cb4ffb2e22a9",
   "metadata": {},
   "outputs": [],
   "source": [
    "class Elon:\n",
    "    def __init__(self):\n",
    "        print(\"Profile created\")\n",
    "\n",
    "    def name(self):\n",
    "        print(\"Elon Musk\")\n",
    "\n",
    "    def age(self):\n",
    "        print(\"40\")"
   ]
  },
  {
   "cell_type": "markdown",
   "id": "909d7f27-35a5-4fce-80d0-163fb95fe04e",
   "metadata": {},
   "source": [
    "##### . __init__ method: This constructor method prints \"Profile created\" when an instance of Elon is created.\n",
    "##### . name method: This method prints \"Elon Musk\".\n",
    "##### . age method: This method prints \"40\"."
   ]
  },
  {
   "cell_type": "markdown",
   "id": "bbccfad3-98ec-492a-a95a-e793ebe96978",
   "metadata": {},
   "source": [
    "#### 2. Class Spacex(inherits from Elon):"
   ]
  },
  {
   "cell_type": "code",
   "execution_count": 3,
   "id": "699bb344-d47c-47a4-bda7-73585042741f",
   "metadata": {},
   "outputs": [],
   "source": [
    "class Spacex(Elon):\n",
    "    def __init__(self):\n",
    "        super().__init__() # Correctly call the parent class's initializer\n",
    "        print(\"Company Profile created\")\n",
    "\n",
    "    def name(self):\n",
    "        print(\"Spacex\")\n",
    "\n",
    "    def type(self):\n",
    "        print(\"Private space travel\")"
   ]
  },
  {
   "cell_type": "markdown",
   "id": "ff18f1e6-8fd6-46e0-b23e-26e3a25fc0b3",
   "metadata": {},
   "source": [
    "##### . __init__ method:\n",
    "##### . Calls the parent class ( Elon ) __init__ method using super().__init__() , which prints \"Profile created\".\n",
    "##### . Then prints \"Company Profile created\".\n",
    "##### . name method: This method overrides the name method from the Elon class and Prints \"Spacex\".\n",
    "##### . type method: This new method prints \"Private Space travel\"."
   ]
  },
  {
   "cell_type": "markdown",
   "id": "404bbf80-5be8-4ab6-bd98-f8e6b50381b8",
   "metadata": {},
   "source": [
    "### Creating an Instance and Calling Methods\n",
    "#Creating an instance of the SpaceX class\n",
    "##### spacex_profile = SpaceX()\n",
    "##### . An instance of SpaceX is created, which triggers the __init__ method of SpaceX .\n",
    "##### . The __init__ method of SpaceX first calls the __init__ method of Elon , printing \"Profile created\".\n",
    "##### . Then it prints \"Company Profile created\".\n",
    "#Calling methods on the instance\n",
    "##### spacex_profile.name() #This will call the overridden name method in Spacex\n",
    "##### spacex_profile.age() #This will call the age method inherited from Elon\n",
    "##### spacex_profile.type() #This will call the type method in SpaceX\n",
    "##### . spacex_profile.name() : Calls the overridden name method in SpaceX , which prints\"Spacex\".\n",
    "##### . spacex_profile.age() : Calls the age method inherited from Elon , which prints \"40\".\n",
    "##### . spacex_profile.type() : Calls the type method in SpaceX , which prints \"Private Space travel\"."
   ]
  },
  {
   "cell_type": "markdown",
   "id": "185682f4-1039-4e0b-9dba-a7a5eb4abb15",
   "metadata": {},
   "source": [
    "### Summary\n",
    "##### Here's the complete code with comments and expected output:"
   ]
  },
  {
   "cell_type": "code",
   "execution_count": 4,
   "id": "fb359f7e-1ba8-4fb1-9dde-079778e4d9a5",
   "metadata": {},
   "outputs": [],
   "source": [
    "class Elon:\n",
    "    def __init__(self):\n",
    "        print(\"Profile created\")\n",
    "\n",
    "    def name(self):\n",
    "        print(\"Elon musk\")\n",
    "\n",
    "    def age(self):\n",
    "        print(\"40\")\n",
    "        "
   ]
  },
  {
   "cell_type": "code",
   "execution_count": 5,
   "id": "0109d9eb-ec3a-40bf-861a-427ae67fd5aa",
   "metadata": {},
   "outputs": [],
   "source": [
    "class Spacex(Elon):\n",
    "    def __init__(self):\n",
    "        super().__init__() # Correctly call the parent class's initializer\n",
    "        print(\"Company Profile created\")\n",
    "\n",
    "    def name(self):\n",
    "        print(\"Spacex\")\n",
    "\n",
    "    def type(self):\n",
    "        print(\"Private Space travel\")"
   ]
  },
  {
   "cell_type": "markdown",
   "id": "68ebc7e4-79b6-4624-abc4-bb17594e9920",
   "metadata": {},
   "source": [
    "#Creating an instance of the SpaceX class\n",
    "##### spacex_profile = SpaceX()\n",
    "#Output:\n",
    "\n",
    "#Profile created\n",
    "\n",
    "#Company Profile created\n",
    "\n",
    "#Calling methods on the instance\n",
    "##### spacex_profile.name()\n",
    "#Output: SpaceX\n",
    "##### spacex_profile.age()\n",
    "#Output: 40\n",
    "##### spacex_profile.type()\n",
    "#Output: Private Space travel"
   ]
  },
  {
   "cell_type": "markdown",
   "id": "3c4ea271-fe69-49a7-83de-dc9c4d31194c",
   "metadata": {},
   "source": [
    "### Explanation of Inheritance\n",
    "##### . Inheritance: SpaceX inherits from Elon , meaning it has access to the methods and attributes of Elon .\n",
    "##### . Overriding: The name method in SpaceX overrides the name method in Elon , providing a different implementation."
   ]
  },
  {
   "cell_type": "markdown",
   "id": "09f608a9-b96e-4ba4-a085-8ced073bd7f7",
   "metadata": {},
   "source": [
    "### Polymorphism"
   ]
  },
  {
   "cell_type": "code",
   "execution_count": 6,
   "id": "cdb0f79b-1a6b-4f51-8b3c-8f538e2c8293",
   "metadata": {},
   "outputs": [],
   "source": [
    "class Elon:\n",
    "    def __init__(self, name):\n",
    "        self.name = name\n",
    "\n",
    "    def type(self):\n",
    "        return \"Entrepreneur\"\n",
    "\n",
    "class Sundar:\n",
    "    def __init__(self, name):\n",
    "        self.name = name\n",
    "\n",
    "    def type(self):\n",
    "        return \"CEO\""
   ]
  },
  {
   "cell_type": "code",
   "execution_count": 8,
   "id": "8d701ab7-4746-4478-8cc6-551fb9317769",
   "metadata": {},
   "outputs": [
    {
     "name": "stdout",
     "output_type": "stream",
     "text": [
      "Elon Musk is a Entrepreneur\n",
      "Sundar Pichai is a CEO\n"
     ]
    }
   ],
   "source": [
    "# Creating instances of Elon and Sundar\n",
    "person1 = Elon('Elon Musk')\n",
    "person2 = Sundar('Sundar Pichai')\n",
    "\n",
    "# Function to demonstrate polymorphism\n",
    "def print_person_type(person):\n",
    "    print(f\"{person.name} is a {person.type()}\")\n",
    "\n",
    "# Calling the function with different objects\n",
    "print_person_type(person1)\n",
    "print_person_type(person2)"
   ]
  },
  {
   "cell_type": "markdown",
   "id": "b1cbd86f-39b5-488b-9559-f9ac166c1384",
   "metadata": {},
   "source": [
    "##### Polymorphism allows different classes to have methods with the same name that can be called in a unified manner.\n",
    "##### The provided code defines two classes, Elon and Sundar , and demonstrates the concept of polymorphism in Python. Let's break down each part:"
   ]
  },
  {
   "cell_type": "markdown",
   "id": "85cad462-3aa9-4fe3-b9fa-216250ed1d6c",
   "metadata": {},
   "source": [
    "### Class Definitions\n",
    "##### 1. Class Elon:"
   ]
  },
  {
   "cell_type": "code",
   "execution_count": 9,
   "id": "ae6665da-9927-4c56-82c5-92d7933c54d9",
   "metadata": {},
   "outputs": [],
   "source": [
    "class Elon:\n",
    "    def __init__(self, name):\n",
    "        self.name = name\n",
    "\n",
    "    def type(self):\n",
    "        return \"Entrepreneur\""
   ]
  },
  {
   "cell_type": "markdown",
   "id": "40ef30f6-8b01-414e-9d85-25aaed24ab51",
   "metadata": {},
   "source": [
    "##### . __init__ method: This is the constructor method that initializes an instance of the class with a name attribute.\n",
    "##### . type method: This method returns the string \"Entrepreneur\"."
   ]
  },
  {
   "cell_type": "markdown",
   "id": "d771c097-37c1-4ab1-b535-89a78a111dd8",
   "metadata": {},
   "source": [
    "##### 2. Class Sundar:"
   ]
  },
  {
   "cell_type": "code",
   "execution_count": 10,
   "id": "8a26d39e-bb9d-40d8-b9a4-b8e701ff4490",
   "metadata": {},
   "outputs": [],
   "source": [
    "class Sundar:\n",
    "    def __init__(self, name):\n",
    "        self.name = name\n",
    "\n",
    "    def type(self):\n",
    "        return \"CEO\""
   ]
  },
  {
   "cell_type": "markdown",
   "id": "2826323a-bb65-43bd-8687-b5382ed606e4",
   "metadata": {},
   "source": [
    "##### . __init__ method: This is the constructor method that initializes an instance of the class with a name attribute.\n",
    "##### . type method: This method returns the string \"CEO\"."
   ]
  },
  {
   "cell_type": "markdown",
   "id": "9af583fa-411e-468b-87de-e4308f6af922",
   "metadata": {},
   "source": [
    "### Creating Instances\n",
    "##### person1 = Elon('Elon Musk')\n",
    "##### person2 = Sundar('Sundar Pichai')\n",
    "##### . person1 : An instance of the Elon class with the name attribute set to \"Elon Musk\".\n",
    "##### . person2 : An instance of the Sundar class with the name attribute set to \"Sundar Pichai\"."
   ]
  },
  {
   "cell_type": "markdown",
   "id": "e2ac7cc3-7633-43c5-aca4-d4dcb300030c",
   "metadata": {},
   "source": [
    "### Polymorphism Demonstration\n",
    "##### def print_person_type(person):\n",
    "##### print(f\"{person.name} is a {person.type()}\")\n",
    "##### . print_person_type function: This function takes an object person as an argument and prints the person's name along with their type.\n",
    "##### . The function uses the name attribute and the type method of the person object."
   ]
  },
  {
   "cell_type": "markdown",
   "id": "2a76bd69-6ec9-4b1c-9fc1-b3413902be2c",
   "metadata": {},
   "source": [
    "### Function Calls\n",
    "##### print_person_type(person1)\n",
    "##### print_person_type(person2)\n",
    "##### . The function print_person_type is called with person1 (an instance of Elon ) and person2 (an instance of Sundar )."
   ]
  },
  {
   "cell_type": "markdown",
   "id": "b7895725-20ff-495a-b453-8bbd8ade25ab",
   "metadata": {},
   "source": [
    "### Output\n",
    "##### The output of the function calls will be:\n",
    "##### Elon Musk is a Entrepreneur\n",
    "##### Sundar Pichai is a CEO"
   ]
  },
  {
   "cell_type": "markdown",
   "id": "b2def8dc-b1fa-402c-aec4-ab931f644da8",
   "metadata": {},
   "source": [
    "### Explanation of Polymorphism\n",
    "##### Polymorphism allows objects of different classes to be treated as objects of a common superclass. In this case:\n",
    "##### . Both Elon and Sundar classes have a type method.\n",
    "##### . The print_person_type function calls the type method on any object passed to it,regardless of whether it's an instance of Elon or Sundar .\n",
    "##### . This demonstrates polymorphism because the function can operate on objects of different classes, provided they have the expected method ( type )."
   ]
  },
  {
   "cell_type": "markdown",
   "id": "fce46f4a-43e8-4e00-9179-6bc74ca8eec2",
   "metadata": {},
   "source": [
    "### Use one function directly in a Class\n",
    "##### To use one function from a class directly, you can use the staticmethod or classmethod decorators if you don't need to create an instance of the class. Here's a guide to both methods:"
   ]
  },
  {
   "cell_type": "markdown",
   "id": "58b77272-07cb-4e1f-81e2-6784f7f0566b",
   "metadata": {},
   "source": [
    "### Using staticmethod\n",
    "##### If the method doesn't require access to instance ( self ) or class ( cls ) attributes, you can use staticmethod ."
   ]
  },
  {
   "cell_type": "code",
   "execution_count": 11,
   "id": "443616aa-e970-44a4-94bf-98d552bd3857",
   "metadata": {},
   "outputs": [
    {
     "name": "stdout",
     "output_type": "stream",
     "text": [
      "3\n"
     ]
    }
   ],
   "source": [
    "class MyClass:\n",
    "    @staticmethod\n",
    "    def my_function(arg1, arg2):\n",
    "        return arg1 + arg2\n",
    "\n",
    "# you can call it directly using the class name\n",
    "result = MyClass.my_function(1,2)\n",
    "print(result) # Output:3"
   ]
  },
  {
   "cell_type": "markdown",
   "id": "89cb6dba-c324-47ce-a45a-f85d836c9fdd",
   "metadata": {},
   "source": [
    "### Using classmethod\n",
    "##### if the method needs access to the class attributes but not instance attribbutes, use classmethod."
   ]
  },
  {
   "cell_type": "code",
   "execution_count": 12,
   "id": "8e129e2b-6e81-4b93-8ade-5d3f19012989",
   "metadata": {},
   "outputs": [
    {
     "name": "stdout",
     "output_type": "stream",
     "text": [
      "15\n"
     ]
    }
   ],
   "source": [
    "class MyClass:\n",
    "    class_variable = 10\n",
    "\n",
    "    @classmethod\n",
    "    def my_function(cls, arg1):\n",
    "        return cls.class_variable + arg1\n",
    "\n",
    "# You can call it directly using the class name\n",
    "result = MyClass.my_function(5)\n",
    "print(result) # output: 15"
   ]
  },
  {
   "cell_type": "markdown",
   "id": "2f9a9cd8-6548-4fa8-9395-2806bf0ec5b1",
   "metadata": {},
   "source": [
    "### Using Regular Methods\n",
    "##### if the method needs access to instance attributes, you'll need to create an instance of the class first."
   ]
  },
  {
   "cell_type": "code",
   "execution_count": 13,
   "id": "230258e1-53a0-4fe9-84e3-469809ee0a2c",
   "metadata": {},
   "outputs": [
    {
     "name": "stdout",
     "output_type": "stream",
     "text": [
      "15\n"
     ]
    }
   ],
   "source": [
    "class MyClass:\n",
    "    def __init__(self, value):\n",
    "        self.value = value\n",
    "\n",
    "    def my_function(self, arg1):\n",
    "        return self.value + arg1\n",
    "\n",
    "# Create an instance of the class\n",
    "instance = MyClass(10)\n",
    "\n",
    "# Call the method using the instance\n",
    "result = instance.my_function(5)\n",
    "print(result) # Output: 15"
   ]
  },
  {
   "cell_type": "markdown",
   "id": "e1646a83-0f2b-41f9-a292-bb0da4a72116",
   "metadata": {},
   "source": [
    "### Encapsulation\n",
    "##### Encapsulation is a fundamental concept in object-oriented programming (OOP) that restricts direct access to some of an object's components, which can prevent the accidental modification of data. In Python, encapsulation is implemented using private and protected members.\n",
    "\n",
    "##### Here's a breakdown of how encapsulation works in Python:"
   ]
  },
  {
   "cell_type": "markdown",
   "id": "0598c96e-cef2-4439-8980-f30eaf125b04",
   "metadata": {},
   "source": [
    "### Public Members\n",
    "##### These are accessible from outside the class. By default, all members of a class are public."
   ]
  },
  {
   "cell_type": "code",
   "execution_count": 14,
   "id": "60aff4cc-784a-4b31-9108-b9ac0cb8597a",
   "metadata": {},
   "outputs": [
    {
     "name": "stdout",
     "output_type": "stream",
     "text": [
      "10\n"
     ]
    }
   ],
   "source": [
    "class MyClass:\n",
    "    def __init__(self, value):\n",
    "        self.value = value\n",
    "\n",
    "obj = MyClass(10)\n",
    "print(obj.value) #output 10"
   ]
  },
  {
   "cell_type": "markdown",
   "id": "3bf1f63d-a9ac-471d-9ed5-39f9f022b445",
   "metadata": {},
   "source": [
    "### Protected Members\n",
    "##### These are indicated by a single underscore _ before the member name. This is a convention and not enforced by Python. It suggests that the member is intended for internal use only."
   ]
  },
  {
   "cell_type": "code",
   "execution_count": 15,
   "id": "26b79a0d-cdd0-4de1-b13f-b670d2992ea7",
   "metadata": {},
   "outputs": [
    {
     "name": "stdout",
     "output_type": "stream",
     "text": [
      "10\n"
     ]
    }
   ],
   "source": [
    "class MyClass:\n",
    "    def __init__(self, value):\n",
    "        self._value = value\n",
    "\n",
    "    def _protected_method(self):\n",
    "        return self._value\n",
    "\n",
    "obj = MyClass(10)\n",
    "print(obj._value) # Output: 10"
   ]
  },
  {
   "cell_type": "code",
   "execution_count": 16,
   "id": "bde0fd2f-0446-443e-b49a-3432ba381ab7",
   "metadata": {},
   "outputs": [
    {
     "data": {
      "text/plain": [
       "10"
      ]
     },
     "execution_count": 16,
     "metadata": {},
     "output_type": "execute_result"
    }
   ],
   "source": [
    "obj._protected_method()"
   ]
  },
  {
   "cell_type": "markdown",
   "id": "7075a3d2-99d5-45dd-8029-a06ecef016e7",
   "metadata": {},
   "source": [
    "### Private Members\n",
    "##### These are indicated by a double underscore __ before the member name. This triggers name mangling, where the interpreter changes the name of the member to include the class name. This makes it harder to access these members from outside the class."
   ]
  },
  {
   "cell_type": "code",
   "execution_count": 17,
   "id": "b5c63f4d-8b8b-4dfe-b412-54244eb7a1a5",
   "metadata": {},
   "outputs": [
    {
     "name": "stdout",
     "output_type": "stream",
     "text": [
      "10\n"
     ]
    }
   ],
   "source": [
    "class MyClass:\n",
    "    def __init__(self, value):\n",
    "        self.__value = value\n",
    "\n",
    "    def get_value(self):\n",
    "        return self.__value\n",
    "\n",
    "obj = MyClass(10)\n",
    "print(obj.get_value())"
   ]
  },
  {
   "cell_type": "code",
   "execution_count": 18,
   "id": "a78fa79e-82ed-4689-818a-e51a71aac0a6",
   "metadata": {},
   "outputs": [
    {
     "ename": "AttributeError",
     "evalue": "'MyClass' object has no attribute '__value'",
     "output_type": "error",
     "traceback": [
      "\u001b[1;31m---------------------------------------------------------------------------\u001b[0m",
      "\u001b[1;31mAttributeError\u001b[0m                            Traceback (most recent call last)",
      "Cell \u001b[1;32mIn[18], line 1\u001b[0m\n\u001b[1;32m----> 1\u001b[0m \u001b[38;5;28mprint\u001b[39m(obj\u001b[38;5;241m.\u001b[39m__value)\n",
      "\u001b[1;31mAttributeError\u001b[0m: 'MyClass' object has no attribute '__value'"
     ]
    }
   ],
   "source": [
    "print(obj.__value)  # This will raise an AttributeError"
   ]
  },
  {
   "cell_type": "code",
   "execution_count": 20,
   "id": "bf3c0b8b-29ee-4678-be0a-d17110f35da3",
   "metadata": {},
   "outputs": [
    {
     "name": "stdout",
     "output_type": "stream",
     "text": [
      "10\n"
     ]
    }
   ],
   "source": [
    "print(obj._MyClass__value)"
   ]
  },
  {
   "cell_type": "markdown",
   "id": "e3f3b626-0eae-4be4-990f-bbc8e5cfd3c1",
   "metadata": {},
   "source": [
    "### Using Getter and Setter Methods"
   ]
  },
  {
   "cell_type": "code",
   "execution_count": 22,
   "id": "7f4a2ab4-a6aa-4c0c-97f4-90fb1f1cedab",
   "metadata": {},
   "outputs": [
    {
     "name": "stdout",
     "output_type": "stream",
     "text": [
      "10\n",
      "20\n"
     ]
    }
   ],
   "source": [
    "class MyClass:\n",
    "    def __init__(self, value):\n",
    "        self.__value = value\n",
    "\n",
    "    def get_value(self):\n",
    "        return self.__value\n",
    "\n",
    "    def set_value(self, value):\n",
    "        self.__value = value\n",
    "\n",
    "obj = MyClass(10)\n",
    "print(obj.get_value())  #output: 10\n",
    "obj.set_value(20)\n",
    "print(obj.get_value())  #output: 20"
   ]
  },
  {
   "cell_type": "markdown",
   "id": "729c10f7-b4fd-45d5-a025-337cd4f10b12",
   "metadata": {},
   "source": [
    "### Properties\n",
    "##### Python provides a more elegant way to use getter and setter methods through properties."
   ]
  },
  {
   "cell_type": "code",
   "execution_count": 33,
   "id": "0b208338-5df1-4968-b498-e036701b2be4",
   "metadata": {},
   "outputs": [
    {
     "name": "stdout",
     "output_type": "stream",
     "text": [
      "10\n",
      "20\n"
     ]
    }
   ],
   "source": [
    "class MyClass:\n",
    "    def __init__(self, value):\n",
    "        self.__value = value\n",
    "        \n",
    "    @property\n",
    "    def value(self):\n",
    "        return self.__value\n",
    "        \n",
    "    @value.setter\n",
    "    def value(self, value):\n",
    "        self.__value = value\n",
    "        \n",
    "obj = MyClass(10)\n",
    "print(obj.value) # Output: 10\n",
    "obj.value = 20\n",
    "print(obj.value) # Output: 20"
   ]
  },
  {
   "cell_type": "markdown",
   "id": "9606e082-9604-439b-9b75-7536d6b1e08e",
   "metadata": {},
   "source": [
    "##### In summary, encapsulation in Python helps protect the internal state of an object by restricting access to private and protected members, promoting modularity and maintainability in the code."
   ]
  },
  {
   "cell_type": "code",
   "execution_count": null,
   "id": "7e089417-8f2e-4de3-aed3-95594a4281f7",
   "metadata": {},
   "outputs": [],
   "source": []
  }
 ],
 "metadata": {
  "kernelspec": {
   "display_name": "Python 3 (ipykernel)",
   "language": "python",
   "name": "python3"
  },
  "language_info": {
   "codemirror_mode": {
    "name": "ipython",
    "version": 3
   },
   "file_extension": ".py",
   "mimetype": "text/x-python",
   "name": "python",
   "nbconvert_exporter": "python",
   "pygments_lexer": "ipython3",
   "version": "3.11.7"
  }
 },
 "nbformat": 4,
 "nbformat_minor": 5
}
