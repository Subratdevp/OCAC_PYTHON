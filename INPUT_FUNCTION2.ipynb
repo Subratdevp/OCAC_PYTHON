{
 "cells": [
  {
   "cell_type": "code",
   "execution_count": 2,
   "id": "32270035-972e-4f62-9985-a3e29a17730d",
   "metadata": {},
   "outputs": [
    {
     "name": "stdin",
     "output_type": "stream",
     "text": [
      " 5\n"
     ]
    },
    {
     "data": {
      "text/plain": [
       "'5'"
      ]
     },
     "execution_count": 2,
     "metadata": {},
     "output_type": "execute_result"
    }
   ],
   "source": [
    "n = input()\n",
    "n"
   ]
  },
  {
   "cell_type": "code",
   "execution_count": 3,
   "id": "1f38ad47-f7c5-46ca-87d0-aef7f40e2f01",
   "metadata": {},
   "outputs": [
    {
     "data": {
      "text/plain": [
       "str"
      ]
     },
     "execution_count": 3,
     "metadata": {},
     "output_type": "execute_result"
    }
   ],
   "source": [
    "type(n)"
   ]
  },
  {
   "cell_type": "code",
   "execution_count": 4,
   "id": "34547987-103f-4a50-94e4-607cded8f042",
   "metadata": {},
   "outputs": [
    {
     "name": "stdin",
     "output_type": "stream",
     "text": [
      " subrat\n"
     ]
    },
    {
     "data": {
      "text/plain": [
       "'subrat'"
      ]
     },
     "execution_count": 4,
     "metadata": {},
     "output_type": "execute_result"
    }
   ],
   "source": [
    "n = input()\n",
    "n"
   ]
  },
  {
   "cell_type": "code",
   "execution_count": 5,
   "id": "2f0b8ada-443b-4c6a-a9a4-a672cf93ed04",
   "metadata": {},
   "outputs": [
    {
     "name": "stdin",
     "output_type": "stream",
     "text": [
      "enter your age: 21\n"
     ]
    },
    {
     "data": {
      "text/plain": [
       "'21'"
      ]
     },
     "execution_count": 5,
     "metadata": {},
     "output_type": "execute_result"
    }
   ],
   "source": [
    "n1=input(\"enter your age:\")\n",
    "n1"
   ]
  },
  {
   "cell_type": "code",
   "execution_count": 6,
   "id": "effb23a7-8ab9-425e-bc7d-1c7e5c7ecad5",
   "metadata": {},
   "outputs": [
    {
     "data": {
      "text/plain": [
       "str"
      ]
     },
     "execution_count": 6,
     "metadata": {},
     "output_type": "execute_result"
    }
   ],
   "source": [
    "type(n1)"
   ]
  },
  {
   "cell_type": "code",
   "execution_count": 7,
   "id": "61a388ac-1345-47f8-8749-c525436db775",
   "metadata": {},
   "outputs": [
    {
     "name": "stdin",
     "output_type": "stream",
     "text": [
      "enter your age: 21\n"
     ]
    },
    {
     "data": {
      "text/plain": [
       "21.0"
      ]
     },
     "execution_count": 7,
     "metadata": {},
     "output_type": "execute_result"
    }
   ],
   "source": [
    "n=float(input(\"enter your age:\"))\n",
    "n"
   ]
  },
  {
   "cell_type": "code",
   "execution_count": 9,
   "id": "1166711d-ab11-4210-9de6-03b811cf08cd",
   "metadata": {},
   "outputs": [
    {
     "name": "stdin",
     "output_type": "stream",
     "text": [
      "What is your name?  Subrat\n"
     ]
    },
    {
     "name": "stdout",
     "output_type": "stream",
     "text": [
      "It was nice talking to you Subrat!\n"
     ]
    }
   ],
   "source": [
    "# Let's have one more example\n",
    "name = input(\"What is your name? \")\n",
    "print(\"It was nice talking to you \" + name + \"!\")"
   ]
  },
  {
   "cell_type": "code",
   "execution_count": 10,
   "id": "ea258655-2edb-4afd-a74c-10130d8cb0cb",
   "metadata": {},
   "outputs": [
    {
     "name": "stdin",
     "output_type": "stream",
     "text": [
      "Enter your age?  21\n"
     ]
    },
    {
     "name": "stdout",
     "output_type": "stream",
     "text": [
      "Hey, you are already 21years old, Subrat!\n"
     ]
    }
   ],
   "source": [
    "age = input(\"Enter your age? \")\n",
    "print(\"Hey, you are already \" + age + \"years old, \" + name + \"!\")"
   ]
  },
  {
   "cell_type": "code",
   "execution_count": 15,
   "id": "8889c27c-ee4b-433d-bb76-b606a8a2ae31",
   "metadata": {},
   "outputs": [
    {
     "name": "stdin",
     "output_type": "stream",
     "text": [
      "Enter your name:  Subrat Rama\n"
     ]
    },
    {
     "name": "stdout",
     "output_type": "stream",
     "text": [
      "Subrat\n",
      "Rama\n"
     ]
    }
   ],
   "source": [
    "# multiple inputs in a single entry\n",
    "var_1, var_2 = input(\"Enter your name: \").split(\" \")\n",
    "print(var_1)\n",
    "print(var_2)"
   ]
  },
  {
   "cell_type": "code",
   "execution_count": null,
   "id": "116a9ac0-2974-43a7-bcec-cc21a03eba6d",
   "metadata": {},
   "outputs": [],
   "source": []
  }
 ],
 "metadata": {
  "kernelspec": {
   "display_name": "Python 3 (ipykernel)",
   "language": "python",
   "name": "python3"
  },
  "language_info": {
   "codemirror_mode": {
    "name": "ipython",
    "version": 3
   },
   "file_extension": ".py",
   "mimetype": "text/x-python",
   "name": "python",
   "nbconvert_exporter": "python",
   "pygments_lexer": "ipython3",
   "version": "3.11.7"
  }
 },
 "nbformat": 4,
 "nbformat_minor": 5
}
