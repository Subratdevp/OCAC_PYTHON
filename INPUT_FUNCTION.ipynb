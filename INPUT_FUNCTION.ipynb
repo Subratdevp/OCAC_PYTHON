{
 "cells": [
  {
   "cell_type": "code",
   "execution_count": 2,
   "id": "8e91e03e-fcd6-4dd9-b0a3-52e4eb0ad264",
   "metadata": {},
   "outputs": [
    {
     "name": "stdin",
     "output_type": "stream",
     "text": [
      "Enter the value of a:  5\n",
      "Enter the value of b:  4\n"
     ]
    },
    {
     "name": "stdout",
     "output_type": "stream",
     "text": [
      "ADD: 9\n",
      "Sum: 9, Diff: 1, mult: 20, Div: 1.25, mod: 1\n"
     ]
    }
   ],
   "source": [
    "a = int(input(\"Enter the value of a: \"))\n",
    "b = int(input(\"Enter the value of b: \"))\n",
    "add=a+b\n",
    "sub=a-b\n",
    "mult=a*b\n",
    "div=a/b\n",
    "mod=a%b\n",
    "print(\"ADD:\",add)\n",
    "print(\"Sum: {0}, Diff: {1}, mult: {2}, Div: {3}, mod: {4}\".format(add,sub,mult,div,mod,))\n",
    "            "
   ]
  },
  {
   "cell_type": "code",
   "execution_count": 3,
   "id": "3e89c2dd-b8cc-4114-8661-1a38f6ead7eb",
   "metadata": {},
   "outputs": [
    {
     "name": "stdout",
     "output_type": "stream",
     "text": [
      "Sum: 9, Diff: 1, Mult: 20, Div: 1.25, Mod: 1\n"
     ]
    }
   ],
   "source": [
    "print(\"Sum: {}, Diff: {}, Mult: {}, Div: {}, Mod: {}\".format(add,sub,mult,div,mod))"
   ]
  },
  {
   "cell_type": "code",
   "execution_count": 7,
   "id": "e82e3502-90db-481b-a2a2-1be224eef302",
   "metadata": {},
   "outputs": [
    {
     "name": "stdout",
     "output_type": "stream",
     "text": [
      "Sum: 9, Diff: 1, Mult: 20, Div:        1.250000, Mod: 1\n"
     ]
    }
   ],
   "source": [
    "print(\"Sum: %d, Diff: %d, Mult: %d, Div: %15.6f, Mod: %d\" %(add,sub,mult,div,mod))"
   ]
  },
  {
   "cell_type": "code",
   "execution_count": 9,
   "id": "8f9a2d4d-a477-4864-b58d-49f34d33c6a6",
   "metadata": {},
   "outputs": [
    {
     "name": "stdout",
     "output_type": "stream",
     "text": [
      "sum: 9, Diff: 1, Mult: 20, Div:      1.25, Mod: 1\n"
     ]
    }
   ],
   "source": [
    "print(\"sum: %d, Diff: %d, Mult: %d, Div: %9.2f, Mod: %d\" %(add,sub,mult,div,mod))"
   ]
  },
  {
   "cell_type": "code",
   "execution_count": 10,
   "id": "baeadb34-8dfe-469e-97dc-24aa7ca27744",
   "metadata": {},
   "outputs": [
    {
     "name": "stdout",
     "output_type": "stream",
     "text": [
      "Sum  | Diff | Mult |  Div\n",
      "9    |  1   |  20  | 1.25\n"
     ]
    }
   ],
   "source": [
    "print('{0:<4} | {1:^4} | {2:^4} | {3:>4}'.format('Sum', 'Diff', 'Mult', 'Div', 'Mod'))\n",
    "print('{0:<4} | {1:^4} | {2:^4} | {3:>4}'.format(add,sub,mult,div))"
   ]
  },
  {
   "cell_type": "code",
   "execution_count": 12,
   "id": "2d5e44a3-0953-4023-a9a9-3a6bb781dd56",
   "metadata": {},
   "outputs": [
    {
     "name": "stdout",
     "output_type": "stream",
     "text": [
      "Sum  | Mult | Diff |  Div\n",
      "9    |  20  |  1   | 1.25\n"
     ]
    }
   ],
   "source": [
    "print('{0: <4} | {2:^4} | {1: ^4} | {3:>4}'.format('Sum','Diff', 'Mult', 'Div'))\n",
    "print('{0: <4} | {2:^4} | {1: ^4} | {3:>4}'.format(add, sub, mult, div))\n"
   ]
  },
  {
   "cell_type": "code",
   "execution_count": 13,
   "id": "8e1a5ab5-361b-44d3-a366-4d01eb76839d",
   "metadata": {},
   "outputs": [
    {
     "name": "stdout",
     "output_type": "stream",
     "text": [
      "Welcome to python Master Class !\n"
     ]
    }
   ],
   "source": [
    "a=\"Master Class\"\n",
    "print(f\"Welcome to python {a} !\") #Formating String Litearls"
   ]
  },
  {
   "cell_type": "code",
   "execution_count": 15,
   "id": "41c48769-040a-4f9e-a509-4f2a8a41ad86",
   "metadata": {},
   "outputs": [
    {
     "name": "stdin",
     "output_type": "stream",
     "text": [
      "Enter a company name -  TCS\n",
      "Enter the number of employees -  98564\n"
     ]
    },
    {
     "name": "stdout",
     "output_type": "stream",
     "text": [
      "The name of the company is and the number of employees are  TCS 98564\n"
     ]
    }
   ],
   "source": [
    "f = input(\"Enter a company name - \")\n",
    "g = input(\"Enter the number of employees - \")\n",
    "print(\"The name of the company is and the number of employees are \",f,g)"
   ]
  },
  {
   "cell_type": "code",
   "execution_count": 16,
   "id": "bf9d454e-378e-421d-a6f9-d475707aaa28",
   "metadata": {},
   "outputs": [
    {
     "name": "stdout",
     "output_type": "stream",
     "text": [
      "The name of the company is TCS and the number of employees are  98564\n"
     ]
    }
   ],
   "source": [
    "print(\"The name of the company is\",f,\"and the number of employees are \",g)"
   ]
  },
  {
   "cell_type": "code",
   "execution_count": 18,
   "id": "a348501c-5695-468c-88bf-5a8886faa0db",
   "metadata": {},
   "outputs": [
    {
     "name": "stdout",
     "output_type": "stream",
     "text": [
      "The name of the company is TCS and the number of employees are 98564\n"
     ]
    }
   ],
   "source": [
    "print(f\"The name of the company is {f} and the number of employees are {g}\")"
   ]
  },
  {
   "cell_type": "code",
   "execution_count": null,
   "id": "04c5b697-2673-407f-8289-569706e3aedf",
   "metadata": {},
   "outputs": [],
   "source": []
  }
 ],
 "metadata": {
  "kernelspec": {
   "display_name": "Python 3 (ipykernel)",
   "language": "python",
   "name": "python3"
  },
  "language_info": {
   "codemirror_mode": {
    "name": "ipython",
    "version": 3
   },
   "file_extension": ".py",
   "mimetype": "text/x-python",
   "name": "python",
   "nbconvert_exporter": "python",
   "pygments_lexer": "ipython3",
   "version": "3.11.7"
  }
 },
 "nbformat": 4,
 "nbformat_minor": 5
}
