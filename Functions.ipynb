{
 "cells": [
  {
   "cell_type": "markdown",
   "id": "075d239a-4855-4e24-b1ab-d3f0f5c9c004",
   "metadata": {},
   "source": [
    "## Python Functions"
   ]
  },
  {
   "cell_type": "markdown",
   "id": "a525de99-ca6a-4bb6-963d-a29d9500c26b",
   "metadata": {},
   "source": [
    "##### .Function is a group of related statements that perform a specific task.\n",
    "##### .A function is a set of statements that take inputs, do some specific computation and produces output.\n",
    "##### .it avoids repetation and makes code reusable.\n",
    "##### .if we use functions written by others in the form of library, it can be termed as library functions."
   ]
  },
  {
   "cell_type": "markdown",
   "id": "bf941b63-504c-4248-9452-4a8476dedc8b",
   "metadata": {},
   "source": [
    "### Types of Functions"
   ]
  },
  {
   "cell_type": "markdown",
   "id": "0e97502f-89ae-4063-9e09-f62b53580f03",
   "metadata": {},
   "source": [
    "###### 1.Built-in Functions\n",
    "###### 2.User-defined Functions"
   ]
  },
  {
   "cell_type": "markdown",
   "id": "05e75945-c9be-4ae3-ab4c-9a6a492528a0",
   "metadata": {},
   "source": [
    "### Built-in Functions"
   ]
  },
  {
   "cell_type": "markdown",
   "id": "1ce72de3-6e46-48e2-ba9a-1b90f6694e3c",
   "metadata": {},
   "source": [
    "#### abs()"
   ]
  },
  {
   "cell_type": "code",
   "execution_count": 1,
   "id": "2ad8c1b3-d778-4b95-ae7e-883e20192c89",
   "metadata": {},
   "outputs": [
    {
     "data": {
      "text/plain": [
       "100"
      ]
     },
     "execution_count": 1,
     "metadata": {},
     "output_type": "execute_result"
    }
   ],
   "source": [
    "# find the absolute value\n",
    "num = -100\n",
    "abs(num)"
   ]
  },
  {
   "cell_type": "markdown",
   "id": "4a1e7597-1e7e-493f-908f-a5068d8c5117",
   "metadata": {},
   "source": [
    "#### divmod()"
   ]
  },
  {
   "cell_type": "markdown",
   "id": "4d52fbd2-7597-48b5-bef8-eaed280a62ac",
   "metadata": {},
   "source": [
    "##### The divmod() method takes two numbers and returns a pair of numbers(a tuple) consisting of their quoient and remainder."
   ]
  },
  {
   "cell_type": "code",
   "execution_count": 2,
   "id": "3537caae-9393-4573-8118-d8e0621e3a3d",
   "metadata": {},
   "outputs": [
    {
     "data": {
      "text/plain": [
       "(1, 2)"
      ]
     },
     "execution_count": 2,
     "metadata": {},
     "output_type": "execute_result"
    }
   ],
   "source": [
    "divmod(6,4)  #print quotient and remainder as a tuple"
   ]
  },
  {
   "cell_type": "markdown",
   "id": "340dfc53-22cd-4431-82c5-c7688f1d346a",
   "metadata": {},
   "source": [
    "### User-defined Functions"
   ]
  },
  {
   "cell_type": "markdown",
   "id": "d14b6cda-6505-48a1-af15-165f923c2e3a",
   "metadata": {},
   "source": [
    "##### Functions that we define ourselves to do certain specific task are referred as user-defined functions"
   ]
  },
  {
   "cell_type": "markdown",
   "id": "0d66fc2c-c61d-4de7-b156-a1d3288907c5",
   "metadata": {},
   "source": [
    "#### Advantages"
   ]
  },
  {
   "cell_type": "markdown",
   "id": "dabeac9b-ed1e-4b58-a671-125ce81cad97",
   "metadata": {},
   "source": [
    "##### 1. User-defined functions help to decompose a large program into small segments which makes program easy to understand, maintain and debug.\n",
    "##### 2. if repeated code occurs in a program.Function can be used to include those codes and execute when needed by calling that function.\n",
    "##### 3. Programmars working on large project can divide the workload by making different functions."
   ]
  },
  {
   "cell_type": "markdown",
   "id": "a1f45178-5c69-430b-8dbd-9b527fdac489",
   "metadata": {},
   "source": [
    "#### Syntax:"
   ]
  },
  {
   "cell_type": "raw",
   "id": "8c705824-1f76-423b-90b0-17419028c5a8",
   "metadata": {},
   "source": [
    "def function_name(parameters):\n",
    "    \"\"\"\n",
    "    doc String\n",
    "    \"\"\"\n",
    "    function body\n",
    "    Statement(s)"
   ]
  },
  {
   "cell_type": "markdown",
   "id": "368d1738-e277-4c29-a123-17b69615431d",
   "metadata": {},
   "source": [
    "##### 1. keyword\"del\" marks the start of function header.\n",
    "##### 2. Parameters(arguments) through which we pass values to a function. These are optional\n",
    "##### 3. A colon(:) to mark the end of function header\n",
    "##### 4. Doc string describe what the function does. This is optional\n",
    "##### 5. \"return\"statement to return a value from the function.This is optional"
   ]
  },
  {
   "cell_type": "markdown",
   "id": "6179a012-3b0f-416a-868f-c2adeec5b5cc",
   "metadata": {},
   "source": [
    "### return Statement"
   ]
  },
  {
   "cell_type": "markdown",
   "id": "198effdc-1589-499d-8f59-e3533f03e3c2",
   "metadata": {},
   "source": [
    "##### The return statement is used to exit a function and go back to the place from where it was called."
   ]
  },
  {
   "cell_type": "raw",
   "id": "05ef438d-7969-46bc-8e36-67978cffc9df",
   "metadata": {},
   "source": [
    "Syntax:\n",
    "    return [expression]"
   ]
  },
  {
   "cell_type": "markdown",
   "id": "acf93292-03c4-4155-b092-6f018c96e639",
   "metadata": {},
   "source": [
    "##### ->return statement can obtain an expression which gets evaluated and the value is returned.\n",
    "##### ->if there is no expression in the statement or the return statement itself is not present inside a function, then the function will return None object"
   ]
  },
  {
   "cell_type": "code",
   "execution_count": 1,
   "id": "ff83a380-bcf6-461b-8d3b-c3b6b742e5f9",
   "metadata": {},
   "outputs": [],
   "source": [
    "# Define the function\n",
    "\n",
    "def double(num):\n",
    "    \"\"\"\n",
    "    whatever the number you enter.... it just double the number\n",
    "    \"\"\"\n",
    "    return 2 * num"
   ]
  },
  {
   "cell_type": "code",
   "execution_count": 2,
   "id": "47345b82-5d89-436d-9af8-74cfa8f77231",
   "metadata": {},
   "outputs": [
    {
     "name": "stdout",
     "output_type": "stream",
     "text": [
      "\n",
      "    whatever the number you enter.... it just double the number\n",
      "    \n"
     ]
    }
   ],
   "source": [
    "print(double.__doc__)"
   ]
  },
  {
   "cell_type": "code",
   "execution_count": 3,
   "id": "7ceedf90-57a3-43ca-9e0d-b0afc2347bf1",
   "metadata": {},
   "outputs": [
    {
     "data": {
      "text/plain": [
       "20"
      ]
     },
     "execution_count": 3,
     "metadata": {},
     "output_type": "execute_result"
    }
   ],
   "source": [
    "# Function call --> once we have defined a function, we can call it from anywhere\n",
    "double(10)"
   ]
  },
  {
   "cell_type": "code",
   "execution_count": 5,
   "id": "173924bb-13d3-4215-a951-dc664a000e43",
   "metadata": {},
   "outputs": [],
   "source": [
    "# Define the function\n",
    "def double(num):\n",
    "    return 2*int(num)"
   ]
  },
  {
   "cell_type": "code",
   "execution_count": 6,
   "id": "47763e74-08f7-4250-8769-c2be7dd2345e",
   "metadata": {},
   "outputs": [
    {
     "data": {
      "text/plain": [
       "20"
      ]
     },
     "execution_count": 6,
     "metadata": {},
     "output_type": "execute_result"
    }
   ],
   "source": [
    "# Function call --> once we have defined a function, we can call it from anywhere\n",
    "double(10.7)"
   ]
  },
  {
   "cell_type": "code",
   "execution_count": 7,
   "id": "23c0c9b3-cc02-4fec-a51e-fda18c2cf629",
   "metadata": {},
   "outputs": [
    {
     "data": {
      "text/plain": [
       "3"
      ]
     },
     "execution_count": 7,
     "metadata": {},
     "output_type": "execute_result"
    }
   ],
   "source": [
    "def sub(num1,num2):\n",
    "    return num1-num2\n",
    "\n",
    "sub(5,2)"
   ]
  },
  {
   "cell_type": "code",
   "execution_count": 8,
   "id": "03e809de-35f5-4890-ab08-9432de0fa9cb",
   "metadata": {},
   "outputs": [],
   "source": [
    "def print_name(x):\n",
    "    print(\"Hello\",x)"
   ]
  },
  {
   "cell_type": "code",
   "execution_count": 9,
   "id": "7b0e6da3-c79a-49f0-9593-4603cad6354b",
   "metadata": {},
   "outputs": [
    {
     "name": "stdout",
     "output_type": "stream",
     "text": [
      "Hello subrat\n"
     ]
    }
   ],
   "source": [
    "print_name(\"subrat\")"
   ]
  },
  {
   "cell_type": "code",
   "execution_count": 10,
   "id": "4960cc9d-3ce5-4a8e-b5df-44abbd8d1fc1",
   "metadata": {},
   "outputs": [
    {
     "name": "stdout",
     "output_type": "stream",
     "text": [
      "Hello 245\n"
     ]
    }
   ],
   "source": [
    "print_name(245)"
   ]
  },
  {
   "cell_type": "code",
   "execution_count": 12,
   "id": "b6492f60-6c2b-4cdd-9254-660767ff8e07",
   "metadata": {},
   "outputs": [
    {
     "data": {
      "text/plain": [
       "10"
      ]
     },
     "execution_count": 12,
     "metadata": {},
     "output_type": "execute_result"
    }
   ],
   "source": [
    "def get_sum(lst):\n",
    "    sum = 0\n",
    "    for num in lst:\n",
    "        sum += num\n",
    "    return sum\n",
    "get_sum([1,2,3,4])"
   ]
  },
  {
   "cell_type": "code",
   "execution_count": 14,
   "id": "bd9085c8-cca4-4b27-a136-731261e5d996",
   "metadata": {},
   "outputs": [
    {
     "name": "stdout",
     "output_type": "stream",
     "text": [
      "5\n",
      "10\n",
      "15\n",
      "20\n",
      "25\n",
      "30\n",
      "40\n",
      "45\n"
     ]
    }
   ],
   "source": [
    "def num_5_7(i):\n",
    "    for num in range(1,i):\n",
    "        if num%5 == 0 and num%7!=0:\n",
    "            print(num)\n",
    "\n",
    "num_5_7(50)"
   ]
  },
  {
   "cell_type": "code",
   "execution_count": 15,
   "id": "a1b03aee-5259-497d-bc5f-6bb239170aef",
   "metadata": {},
   "outputs": [
    {
     "name": "stdout",
     "output_type": "stream",
     "text": [
      "6 9\n"
     ]
    }
   ],
   "source": [
    "lst=[1,2,3,4,5]\n",
    "\n",
    "even_sum=0\n",
    "odd_sum=0\n",
    "for i in lst:\n",
    "    if i%2==0:\n",
    "        even_sum=even_sum+i\n",
    "    else:\n",
    "        odd_sum=odd_sum+i\n",
    "\n",
    "print(even_sum,odd_sum)"
   ]
  },
  {
   "cell_type": "code",
   "execution_count": 16,
   "id": "e7472161-7c91-460d-b0de-da130837e6b5",
   "metadata": {},
   "outputs": [],
   "source": [
    "# Define the function\n",
    "\n",
    "def f_n(l):\n",
    "    even_sum=0\n",
    "    odd_sum=0\n",
    "    for i in l:\n",
    "        if i%2==0:\n",
    "            even_sum=even_sum+i\n",
    "        else:\n",
    "            odd_sum=odd_sum+i\n",
    "    print(even_sum,odd_sum)        "
   ]
  },
  {
   "cell_type": "code",
   "execution_count": 17,
   "id": "be8f7000-983a-4f8c-a666-f57764ac90a3",
   "metadata": {},
   "outputs": [
    {
     "name": "stdout",
     "output_type": "stream",
     "text": [
      "6 9\n"
     ]
    }
   ],
   "source": [
    "# Function call\n",
    "f_n([1,2,3,4,5])"
   ]
  },
  {
   "cell_type": "markdown",
   "id": "03412d2e-7995-4269-891d-4ca5d5077997",
   "metadata": {},
   "source": [
    "### Function Arguments"
   ]
  },
  {
   "cell_type": "code",
   "execution_count": 19,
   "id": "dcdf5a9b-82bf-4c4f-afff-a6fcf6501d19",
   "metadata": {},
   "outputs": [
    {
     "name": "stdout",
     "output_type": "stream",
     "text": [
      "Hello Subrat , Good Morning\n"
     ]
    }
   ],
   "source": [
    "def greet(name,msg):\n",
    "    print(\"Hello {} , {}\".format(name,msg))\n",
    "\n",
    "#call the function with arguments\n",
    "greet(\"Subrat\",\"Good Morning\")"
   ]
  },
  {
   "cell_type": "code",
   "execution_count": 20,
   "id": "eb46b182-d080-45ee-9fb8-2271f97c766e",
   "metadata": {},
   "outputs": [
    {
     "ename": "TypeError",
     "evalue": "greet() missing 1 required positional argument: 'msg'",
     "output_type": "error",
     "traceback": [
      "\u001b[1;31m---------------------------------------------------------------------------\u001b[0m",
      "\u001b[1;31mTypeError\u001b[0m                                 Traceback (most recent call last)",
      "Cell \u001b[1;32mIn[20], line 2\u001b[0m\n\u001b[0;32m      1\u001b[0m \u001b[38;5;66;03m#suppose if we pass one argument\u001b[39;00m\n\u001b[1;32m----> 2\u001b[0m greet(\u001b[38;5;124m\"\u001b[39m\u001b[38;5;124mSubrat\u001b[39m\u001b[38;5;124m\"\u001b[39m)\n",
      "\u001b[1;31mTypeError\u001b[0m: greet() missing 1 required positional argument: 'msg'"
     ]
    }
   ],
   "source": [
    "#suppose if we pass one argument\n",
    "greet(\"Subrat\") #will get an error"
   ]
  },
  {
   "cell_type": "markdown",
   "id": "012aec4c-0aea-4d25-b0f9-4bcc66b9d7d9",
   "metadata": {},
   "source": [
    "### Different Forms of Arguments"
   ]
  },
  {
   "cell_type": "markdown",
   "id": "da30d8a2-ba7a-4e0b-9200-809d7a62734f",
   "metadata": {},
   "source": [
    "#### 1. Function with No Arguments"
   ]
  },
  {
   "cell_type": "code",
   "execution_count": 21,
   "id": "02791b4b-c0ca-4128-9fa2-de4ffde303e7",
   "metadata": {},
   "outputs": [],
   "source": [
    "def even_num():\n",
    "    lb=int(input('enter lower baound values:'))\n",
    "    ub=int(input('enter upper baound values:'))\n",
    "    for i in range(lb,ub+1):\n",
    "        if i%2==0:\n",
    "            print(i)"
   ]
  },
  {
   "cell_type": "code",
   "execution_count": 22,
   "id": "07263b9c-83f2-4207-b667-d51c3b87cc9e",
   "metadata": {},
   "outputs": [
    {
     "name": "stdin",
     "output_type": "stream",
     "text": [
      "enter lower baound values: 10\n",
      "enter upper baound values: 40\n"
     ]
    },
    {
     "name": "stdout",
     "output_type": "stream",
     "text": [
      "10\n",
      "12\n",
      "14\n",
      "16\n",
      "18\n",
      "20\n",
      "22\n",
      "24\n",
      "26\n",
      "28\n",
      "30\n",
      "32\n",
      "34\n",
      "36\n",
      "38\n",
      "40\n"
     ]
    }
   ],
   "source": [
    "even_num()"
   ]
  },
  {
   "cell_type": "markdown",
   "id": "f10e9e4f-f721-460d-a0fb-112b99aa9eb0",
   "metadata": {},
   "source": [
    "#### 2. Default Arguments"
   ]
  },
  {
   "cell_type": "markdown",
   "id": "9b01a6ba-192a-45bd-b096-4eaecc39ca3b",
   "metadata": {},
   "source": [
    "##### We can provide a default value to an argument by using the assignment operator(=)."
   ]
  },
  {
   "cell_type": "code",
   "execution_count": 1,
   "id": "011235b0-68ac-47b3-8824-76acf6dec737",
   "metadata": {},
   "outputs": [
    {
     "name": "stdout",
     "output_type": "stream",
     "text": [
      "Hello subrat , Good Night\n"
     ]
    }
   ],
   "source": [
    "def greet(name,msg=\"Good Morning\"):\n",
    "    print(\"Hello {} , {}\".format(name,msg))\n",
    "\n",
    "greet(\"subrat\",\"Good Night\")"
   ]
  },
  {
   "cell_type": "code",
   "execution_count": 2,
   "id": "085342ee-d299-4b65-b3a3-09c6614eb1ba",
   "metadata": {},
   "outputs": [
    {
     "name": "stdout",
     "output_type": "stream",
     "text": [
      "Hello subrat , Good Morning\n"
     ]
    }
   ],
   "source": [
    "#with out msg argument\n",
    "greet(\"subrat\")"
   ]
  },
  {
   "cell_type": "markdown",
   "id": "275e6ea5-e233-4a46-96cd-71e2dd9e7a02",
   "metadata": {},
   "source": [
    "### 3. keyword Arguments"
   ]
  },
  {
   "cell_type": "markdown",
   "id": "2ec48023-83f4-4ee1-a8ac-6aa5e4639245",
   "metadata": {},
   "source": [
    "##### Kwargs allows you to pass keyworded variable length of arguments to a function. you should use **kwargs if you want to handel named arguments in a function"
   ]
  },
  {
   "cell_type": "code",
   "execution_count": 3,
   "id": "9718b34b-790d-4e99-bb16-85ca6f0d6fdf",
   "metadata": {},
   "outputs": [
    {
     "name": "stdout",
     "output_type": "stream",
     "text": [
      "Hello good , Good Morning\n"
     ]
    }
   ],
   "source": [
    "def greet(**kwargs):\n",
    "    if kwargs:\n",
    "        print(\"Hello {} , {}\".format(kwargs['name'], kwargs['msg']))\n",
    "\n",
    "greet(name=\"good\", msg=\"Good Morning\")"
   ]
  },
  {
   "cell_type": "markdown",
   "id": "30722e46-e2db-4715-bec6-fdb15463f7bd",
   "metadata": {},
   "source": [
    "### 4. Arbitary Arguments"
   ]
  },
  {
   "cell_type": "markdown",
   "id": "bafdd4ad-6815-4ae2-98b4-546a8ee7cd06",
   "metadata": {},
   "source": [
    "##### Sometimes, we do not know in advance the number of arguments that will be passed into a function. Python allows us to handle this kind of situation through funcion calls with arbitrary number of arguments."
   ]
  },
  {
   "cell_type": "code",
   "execution_count": 1,
   "id": "d6fe21ba-c602-404a-a7f5-ecc5dd76abc1",
   "metadata": {},
   "outputs": [],
   "source": [
    "def greet(*names):\n",
    "    print(names)\n",
    "    for name in names:\n",
    "        print(\"Hello, {0} \".format(name))"
   ]
  },
  {
   "cell_type": "code",
   "execution_count": 2,
   "id": "1c25a6b9-9485-48ac-9524-d109debbbc41",
   "metadata": {},
   "outputs": [
    {
     "name": "stdout",
     "output_type": "stream",
     "text": [
      "('subrat', 'rama')\n",
      "Hello, subrat \n",
      "Hello, rama \n"
     ]
    }
   ],
   "source": [
    "greet(\"subrat\",\"rama\")"
   ]
  },
  {
   "cell_type": "markdown",
   "id": "5f6e5605-f88e-4797-bc6c-e600e230a1b4",
   "metadata": {},
   "source": [
    "### Recussive Function or Recurison"
   ]
  },
  {
   "cell_type": "markdown",
   "id": "746dd7b6-ef1a-4d3c-9e14-1f7279b5ae53",
   "metadata": {},
   "source": [
    "##### We know that in Python, a function can call other functions. it is even possible for the function to call itself. These type of construct are termed as recursive functions."
   ]
  },
  {
   "cell_type": "code",
   "execution_count": 3,
   "id": "628a502f-d933-497e-8ff1-8aa378334867",
   "metadata": {},
   "outputs": [],
   "source": [
    "#python program to print factorial of a number using recursion\n",
    "\n",
    "def factorial(num):\n",
    "    if  num==0:\n",
    "        return 1\n",
    "    else:\n",
    "        return num * factorial(num-1)"
   ]
  },
  {
   "cell_type": "code",
   "execution_count": 4,
   "id": "ba533edc-c7a3-41db-8e68-a3f93c9f95b1",
   "metadata": {},
   "outputs": [
    {
     "name": "stdout",
     "output_type": "stream",
     "text": [
      "Factorial of 5 is 120\n"
     ]
    }
   ],
   "source": [
    "num = 5\n",
    "print(\"Factorial of {} is {}\".format(num, factorial(num)))"
   ]
  },
  {
   "cell_type": "markdown",
   "id": "842599ef-d43f-4e34-b9fd-47ae277c3e49",
   "metadata": {},
   "source": [
    "#### Advantages"
   ]
  },
  {
   "cell_type": "markdown",
   "id": "4c96572f-35ec-4980-8e93-903f617e1d01",
   "metadata": {},
   "source": [
    "##### 1. Recursive functions make the code look clean and elegant.\n",
    "##### 2. A complex task can be broken down into simpler sub-problems using recursion.\n",
    "##### 3. Sequence generation is easier with recursion than using some nested iteration."
   ]
  },
  {
   "cell_type": "markdown",
   "id": "f518b205-687b-4ecc-9c5a-a7df01e038db",
   "metadata": {},
   "source": [
    "#### Disadvantages"
   ]
  },
  {
   "cell_type": "markdown",
   "id": "ec905af7-66ff-4a72-af8b-405399903dfe",
   "metadata": {},
   "source": [
    "##### 1. Sometimes the logic behind recursion is hard to follow through.\n",
    "##### 2. Recursive calls are expensive (inefficient) as they take up a lot of memory and time.\n",
    "##### 3. Recursive functions are hard to debug."
   ]
  },
  {
   "cell_type": "markdown",
   "id": "a1bc938c-c722-4955-aa8c-f4bd90a842c5",
   "metadata": {},
   "source": [
    "## Python program to make a simple calculator that can add, subtract, multiply and division"
   ]
  },
  {
   "cell_type": "code",
   "execution_count": 6,
   "id": "0a5bb06a-7289-4974-b67c-25bb212ff6da",
   "metadata": {},
   "outputs": [
    {
     "name": "stdout",
     "output_type": "stream",
     "text": [
      "Select Option\n",
      "1. Addition\n",
      "2. Subtraction\n",
      "3. Multiplication\n",
      "4. Division\n"
     ]
    },
    {
     "name": "stdin",
     "output_type": "stream",
     "text": [
      "Enter choice 1/2/3/4:  3\n",
      "Enter first number:  6\n",
      "Enter second number:  5\n"
     ]
    },
    {
     "name": "stdout",
     "output_type": "stream",
     "text": [
      "Multiplication of 6 and 5 is 30\n"
     ]
    }
   ],
   "source": [
    "def add(a, b):\n",
    "    return a+b\n",
    "\n",
    "def multiply(a, b):\n",
    "    return a*b\n",
    "\n",
    "def subtract(a, b):\n",
    "    return a-b\n",
    "\n",
    "def division(a, b):\n",
    "    return a/b\n",
    "\n",
    "print(\"Select Option\")\n",
    "print(\"1. Addition\")\n",
    "print(\"2. Subtraction\")\n",
    "print(\"3. Multiplication\")\n",
    "print(\"4. Division\")\n",
    "\n",
    "#take input from user\n",
    "choice = int(input(\"Enter choice 1/2/3/4: \"))\n",
    "\n",
    "num1 = int(input(\"Enter first number: \"))\n",
    "num2 = int(input(\"Enter second number: \"))\n",
    "if choice == 1:\n",
    "    print(\"Addition of {} and {} is {}\".format(num1, num2, add(num1, num2)))\n",
    "elif choice == 2:\n",
    "    print(\"Subtraction of {} and {} is {}\".format(num1, num2, subtract(num1, num2)))\n",
    "elif choice == 3:\n",
    "    print(\"Multiplication of {} and {} is {}\".format(num1, num2, multiply(num1, num2)))\n",
    "elif choice == 4:\n",
    "    print(\"Division of {} and {} is {}\".format(num1, num2, division(num1, num2)))\n",
    "else:\n",
    "    print(\"Invalid Choice\")\n",
    "          "
   ]
  }
 ],
 "metadata": {
  "kernelspec": {
   "display_name": "Python 3 (ipykernel)",
   "language": "python",
   "name": "python3"
  },
  "language_info": {
   "codemirror_mode": {
    "name": "ipython",
    "version": 3
   },
   "file_extension": ".py",
   "mimetype": "text/x-python",
   "name": "python",
   "nbconvert_exporter": "python",
   "pygments_lexer": "ipython3",
   "version": "3.11.7"
  }
 },
 "nbformat": 4,
 "nbformat_minor": 5
}
