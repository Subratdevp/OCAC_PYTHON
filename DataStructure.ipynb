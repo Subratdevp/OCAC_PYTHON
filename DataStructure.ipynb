{
 "cells": [
  {
   "cell_type": "markdown",
   "id": "8e9ed9e4-df2a-433f-b512-a4b57de2a193",
   "metadata": {},
   "source": [
    "## List"
   ]
  },
  {
   "cell_type": "code",
   "execution_count": 1,
   "id": "2220446d-99a1-4e92-9d13-d988b0685ae9",
   "metadata": {},
   "outputs": [
    {
     "data": {
      "text/plain": [
       "[]"
      ]
     },
     "execution_count": 1,
     "metadata": {},
     "output_type": "execute_result"
    }
   ],
   "source": [
    "# list\n",
    "l = []\n",
    "l"
   ]
  },
  {
   "cell_type": "code",
   "execution_count": 2,
   "id": "eb1bf1dc-15d1-4a9e-985b-15faf6dc3a9a",
   "metadata": {},
   "outputs": [
    {
     "data": {
      "text/plain": [
       "[]"
      ]
     },
     "execution_count": 2,
     "metadata": {},
     "output_type": "execute_result"
    }
   ],
   "source": [
    "l = list()\n",
    "l"
   ]
  },
  {
   "cell_type": "code",
   "execution_count": 3,
   "id": "bd9671ea-bc0f-4859-b1d9-e671ee5eea3f",
   "metadata": {},
   "outputs": [
    {
     "data": {
      "text/plain": [
       "[1, 2, 3]"
      ]
     },
     "execution_count": 3,
     "metadata": {},
     "output_type": "execute_result"
    }
   ],
   "source": [
    "l=[1,2,3]\n",
    "l"
   ]
  },
  {
   "cell_type": "code",
   "execution_count": 4,
   "id": "f4f5cf27-b13d-4c7a-abeb-55349511d155",
   "metadata": {},
   "outputs": [
    {
     "data": {
      "text/plain": [
       "list"
      ]
     },
     "execution_count": 4,
     "metadata": {},
     "output_type": "execute_result"
    }
   ],
   "source": [
    "type(l)"
   ]
  },
  {
   "cell_type": "code",
   "execution_count": 5,
   "id": "4154097c-cc33-47a1-a4ae-cd3a7f2ab61c",
   "metadata": {},
   "outputs": [
    {
     "data": {
      "text/plain": [
       "[1, 0.2, (1+3j), True, '2', 'rew']"
      ]
     },
     "execution_count": 5,
     "metadata": {},
     "output_type": "execute_result"
    }
   ],
   "source": [
    "# list is a heterogenous (different datatypes)\n",
    "li=[1,0.2,1+3j,True,'2','rew']\n",
    "li"
   ]
  },
  {
   "cell_type": "code",
   "execution_count": 6,
   "id": "36a20c11-5be8-4757-ba2b-9c56fb0fd899",
   "metadata": {},
   "outputs": [
    {
     "name": "stdout",
     "output_type": "stream",
     "text": [
      "[[1, 2], [3, 4], 1, 3]\n"
     ]
    }
   ],
   "source": [
    "# Nested lists (list of lists)\n",
    "lst3 = [[1,2],[3,4],1,3]\n",
    "print(lst3)"
   ]
  },
  {
   "cell_type": "code",
   "execution_count": 8,
   "id": "bd1f92c3-f9c3-41a7-931c-c481a781a9fd",
   "metadata": {},
   "outputs": [
    {
     "name": "stdout",
     "output_type": "stream",
     "text": [
      "8\n"
     ]
    }
   ],
   "source": [
    "# find length of a list\n",
    "lst = ['one','two','three','four',[1,2,3,4],3,4,[1,2]]\n",
    "print(len(lst))"
   ]
  },
  {
   "cell_type": "markdown",
   "id": "a83ee4bc-ebbc-4097-8d22-273964f8372c",
   "metadata": {},
   "source": [
    "### List Indexing"
   ]
  },
  {
   "cell_type": "raw",
   "id": "ad588762-2920-4564-823a-d546ecb5302b",
   "metadata": {},
   "source": [
    "Each item in the list has an assigned indexn avlue starting from 0.Accessing elements in a list is called indexing."
   ]
  },
  {
   "cell_type": "code",
   "execution_count": 10,
   "id": "7bd4d333-c48b-4457-aa77-2f77063e3140",
   "metadata": {},
   "outputs": [
    {
     "name": "stdout",
     "output_type": "stream",
     "text": [
      "Hello\n"
     ]
    }
   ],
   "source": [
    "my_list = [10,20.5,\"Hello\"]\n",
    "\n",
    "#print 1st index element\n",
    "my_list[0]\n",
    "\n",
    "#print last element using negative index\n",
    "print(my_list[-1])"
   ]
  },
  {
   "cell_type": "code",
   "execution_count": 11,
   "id": "4d040a98-2fef-48c7-bcdb-d8dcaae69c0c",
   "metadata": {},
   "outputs": [
    {
     "data": {
      "text/plain": [
       "['NEW', 20.5, 'Hello']"
      ]
     },
     "execution_count": 11,
     "metadata": {},
     "output_type": "execute_result"
    }
   ],
   "source": [
    "# Lists are mutable, meaning, value of elements of a list can be altered.\n",
    "my_list[0] = 'NEW'\n",
    "my_list"
   ]
  },
  {
   "cell_type": "markdown",
   "id": "375c5dce-bdd5-4f6b-8606-656564bca441",
   "metadata": {},
   "source": [
    "### List Slicing"
   ]
  },
  {
   "cell_type": "raw",
   "id": "7c09e782-2b0e-4d44-aa53-d2f179cafabd",
   "metadata": {},
   "source": [
    "Accessing parts of segments is called slicing."
   ]
  },
  {
   "cell_type": "raw",
   "id": "95e9d31a-aace-4ba9-9508-5c7adf19ef18",
   "metadata": {},
   "source": [
    "The key point to remember is that the :end value represents the first value that is not in the selected slice."
   ]
  },
  {
   "cell_type": "code",
   "execution_count": 15,
   "id": "9f35b176-4061-45b0-b7f1-686944e51c16",
   "metadata": {},
   "outputs": [
    {
     "name": "stdout",
     "output_type": "stream",
     "text": [
      "[10, 20, 30, 40, 50, 60, 70, 80]\n",
      "[10, 20, 30, 40]\n",
      "[10, 20, 30]\n",
      "[10, 30, 50, 70]\n",
      "[10, 20, 30, 40, 50, 60, 70, 80]\n",
      "[80, 70, 60, 50, 40, 30, 20, 10]\n"
     ]
    }
   ],
   "source": [
    "numbers = [10,20,30,40,50,60,70,80]\n",
    "#print all numbers\n",
    "print(numbers[:])\n",
    "\n",
    "#print from index 0 to index 3\n",
    "print(numbers[0:4])\n",
    "\n",
    "#print upto index 2\n",
    "print(numbers[:3])\n",
    "\n",
    "#print alternate elements in a list\n",
    "print(numbers[::2])\n",
    "\n",
    "#print elements start from 0 through rest of the list\n",
    "print(numbers[0::])\n",
    "\n",
    "#print element elements in reverse order\n",
    "print(numbers[-1::-1])"
   ]
  },
  {
   "cell_type": "code",
   "execution_count": 20,
   "id": "a046969b-fdfa-4b8a-a375-19721aa85219",
   "metadata": {},
   "outputs": [
    {
     "data": {
      "text/plain": [
       "4"
      ]
     },
     "execution_count": 20,
     "metadata": {},
     "output_type": "execute_result"
    }
   ],
   "source": [
    "nest = [1,2,3,[4,5,['subrat',3,40]]]\n",
    "len(nest)"
   ]
  },
  {
   "cell_type": "code",
   "execution_count": 21,
   "id": "8e17ae85-5e2c-43ff-9379-a2813b28fc0c",
   "metadata": {},
   "outputs": [
    {
     "data": {
      "text/plain": [
       "'subrat'"
      ]
     },
     "execution_count": 21,
     "metadata": {},
     "output_type": "execute_result"
    }
   ],
   "source": [
    "nest[3][2][0]"
   ]
  },
  {
   "cell_type": "code",
   "execution_count": null,
   "id": "01b9198c-c233-4fee-9d9e-f08c6cc35e15",
   "metadata": {},
   "outputs": [],
   "source": []
  },
  {
   "cell_type": "code",
   "execution_count": 3,
   "id": "a6bf30a8-a1bc-4dd3-9fcc-ba918f2add87",
   "metadata": {},
   "outputs": [],
   "source": [
    "lst = [1,2,[3,4],[5,[100,200,['subrat'],23,11],1,7]]\n"
   ]
  },
  {
   "cell_type": "code",
   "execution_count": 4,
   "id": "92cb13cf-6a3b-400c-b23e-b415dcea97a3",
   "metadata": {},
   "outputs": [
    {
     "data": {
      "text/plain": [
       "'subrat'"
      ]
     },
     "execution_count": 4,
     "metadata": {},
     "output_type": "execute_result"
    }
   ],
   "source": [
    "# Given this nested list, use indexing to grab the \"subrat\"\n",
    "lst[3][1][2][0]"
   ]
  },
  {
   "cell_type": "code",
   "execution_count": 5,
   "id": "cb2ec508-b796-4394-914c-b8fcc1874a99",
   "metadata": {},
   "outputs": [
    {
     "data": {
      "text/plain": [
       "[1, 2, [3, 4], [5, [100, 200, ['subrat'], 32, 11], 1, 7]]"
      ]
     },
     "execution_count": 5,
     "metadata": {},
     "output_type": "execute_result"
    }
   ],
   "source": [
    "#replace 23 with 32\n",
    "lst[3][1][3]=32\n",
    "lst"
   ]
  },
  {
   "cell_type": "markdown",
   "id": "b13ac724-7088-4767-a1f0-0ab453399cf7",
   "metadata": {},
   "source": [
    "### List Concatenation"
   ]
  },
  {
   "cell_type": "code",
   "execution_count": 7,
   "id": "a7c8327a-580f-4553-94f7-7ea633a0f30c",
   "metadata": {},
   "outputs": [
    {
     "data": {
      "text/plain": [
       "['sumn', 'b', 'c', 'd', 7, 3.9]"
      ]
     },
     "execution_count": 7,
     "metadata": {},
     "output_type": "execute_result"
    }
   ],
   "source": [
    "l1 = [\"sumn\",'b','c']\n",
    "l2 = ['d',7,3.9]\n",
    "l1 + l2"
   ]
  },
  {
   "cell_type": "markdown",
   "id": "f7999b5d-6005-4400-9f7b-dc7213dd8da2",
   "metadata": {},
   "source": [
    "### List Methods-List inbuilt functions"
   ]
  },
  {
   "cell_type": "markdown",
   "id": "36c63c0e-2690-4382-a18b-8cb206370537",
   "metadata": {},
   "source": [
    "#### Append"
   ]
  },
  {
   "cell_type": "raw",
   "id": "0e1a3f42-98c4-4381-afd0-b0b6aa25c55a",
   "metadata": {},
   "source": [
    "1.append is used to add elements in the list\n",
    "2.append will add the item at the end"
   ]
  },
  {
   "cell_type": "code",
   "execution_count": 9,
   "id": "aac4cb11-a7ce-4e29-bd62-3e53dd1a1d54",
   "metadata": {},
   "outputs": [
    {
     "data": {
      "text/plain": [
       "['a', 'b', 'c', '5']"
      ]
     },
     "execution_count": 9,
     "metadata": {},
     "output_type": "execute_result"
    }
   ],
   "source": [
    "my_list = ['a','b','c']\n",
    "my_list.append('5')\n",
    "my_list"
   ]
  },
  {
   "cell_type": "code",
   "execution_count": 10,
   "id": "ae399ae2-dac8-4d8f-9451-777761af6b45",
   "metadata": {},
   "outputs": [
    {
     "data": {
      "text/plain": [
       "[1, 2, 3, 4, 5, 6, [8, 9]]"
      ]
     },
     "execution_count": 10,
     "metadata": {},
     "output_type": "execute_result"
    }
   ],
   "source": [
    "lst = [1,2,3,4,5,6]\n",
    "lst.append([8,9])\n",
    "lst"
   ]
  },
  {
   "cell_type": "markdown",
   "id": "3b966732-1ce2-415c-bea4-9ce3803b5a01",
   "metadata": {},
   "source": [
    "#### Extend"
   ]
  },
  {
   "cell_type": "code",
   "execution_count": 11,
   "id": "927381cc-cf2b-4fe5-ad2a-99e20eb8f383",
   "metadata": {},
   "outputs": [
    {
     "data": {
      "text/plain": [
       "[1, 2, 3, 4, 5, 6, 8, 9]"
      ]
     },
     "execution_count": 11,
     "metadata": {},
     "output_type": "execute_result"
    }
   ],
   "source": [
    "lst = [1,2,3,4,5,6]\n",
    "lst.extend([8,9])    #same as concatenatation\n",
    "lst"
   ]
  },
  {
   "cell_type": "markdown",
   "id": "7e2168da-afae-4d82-877f-f1e0a96dd2c6",
   "metadata": {},
   "source": [
    "#### Insert"
   ]
  },
  {
   "cell_type": "raw",
   "id": "33df0472-5797-46ec-8421-0cff7ccfb46a",
   "metadata": {},
   "source": [
    "1.insert in a specific order\n",
    "2.list.insert(x,y)-will add element y at location x"
   ]
  },
  {
   "cell_type": "code",
   "execution_count": 12,
   "id": "d5a236a7-8ca0-4eec-bbb1-dc32a6d65463",
   "metadata": {},
   "outputs": [
    {
     "name": "stdout",
     "output_type": "stream",
     "text": [
      "['one', 1, 'two', 'four']\n"
     ]
    }
   ],
   "source": [
    "lst = ['one','two','four']\n",
    "lst.insert(1,1)\n",
    "print(lst)"
   ]
  },
  {
   "cell_type": "markdown",
   "id": "7752855f-8df2-4e30-b7b4-a47bc869ad09",
   "metadata": {},
   "source": [
    "#### Remove"
   ]
  },
  {
   "cell_type": "code",
   "execution_count": 13,
   "id": "92a4184c-54c6-4fa6-9020-791f39f78862",
   "metadata": {},
   "outputs": [
    {
     "data": {
      "text/plain": [
       "[20, 30, 6, 5, 8, 34, 65, 71, 25, 3, 4]"
      ]
     },
     "execution_count": 13,
     "metadata": {},
     "output_type": "execute_result"
    }
   ],
   "source": [
    "#Syntax: lst.remove(x)\n",
    "marks = [10,20,30,6,5,8,34,65,71,25,3,4]\n",
    "marks.remove(10)\n",
    "marks"
   ]
  },
  {
   "cell_type": "code",
   "execution_count": 14,
   "id": "56206abb-417c-49d6-92bb-19dfd40058e2",
   "metadata": {},
   "outputs": [
    {
     "name": "stdout",
     "output_type": "stream",
     "text": [
      "['one', 'three', 'four', 'two']\n"
     ]
    }
   ],
   "source": [
    "lst = ['one',[1,2,'two'],'three','four','two']\n",
    "lst.remove(lst[1])  #it will remove first occurence of 'two' in a given list\n",
    "print(lst)"
   ]
  },
  {
   "cell_type": "markdown",
   "id": "2f3728ee-40af-4294-93a4-2d7ee0f855c7",
   "metadata": {},
   "source": [
    "#### Clear"
   ]
  },
  {
   "cell_type": "code",
   "execution_count": 1,
   "id": "6d602d6e-c008-4513-a5aa-36eaa20e0c88",
   "metadata": {},
   "outputs": [
    {
     "name": "stdout",
     "output_type": "stream",
     "text": [
      "[]\n"
     ]
    }
   ],
   "source": [
    "# Clear-clear all elements in a list and returns empty list \n",
    "a=[1,2,3,4]\n",
    "a.clear()\n",
    "print(a)"
   ]
  },
  {
   "cell_type": "markdown",
   "id": "e3bb9ae0-aa90-4bf7-bc5d-f2f9ee8aa25c",
   "metadata": {},
   "source": [
    "#### Pop"
   ]
  },
  {
   "cell_type": "code",
   "execution_count": 2,
   "id": "45f925e7-0663-4916-b140-28584cb49d93",
   "metadata": {},
   "outputs": [
    {
     "name": "stdout",
     "output_type": "stream",
     "text": [
      "[1, 2, 3, 4]\n"
     ]
    }
   ],
   "source": [
    "lst=[1,2,3,4,5]\n",
    "lst.pop()\n",
    "print(lst)"
   ]
  },
  {
   "cell_type": "code",
   "execution_count": 3,
   "id": "810b67cf-860e-4d2b-8541-ee5ba45702e8",
   "metadata": {},
   "outputs": [
    {
     "name": "stdout",
     "output_type": "stream",
     "text": [
      "['one', 'three', 'four', 'five']\n"
     ]
    }
   ],
   "source": [
    "# or we can use pop() method\n",
    "lst = ['one','two','three','four','five']\n",
    "lst.pop(1)\n",
    "print(lst)"
   ]
  },
  {
   "cell_type": "markdown",
   "id": "f3a20531-23ce-4ab0-a4f5-c86e7ea018dc",
   "metadata": {},
   "source": [
    "#### Delete"
   ]
  },
  {
   "cell_type": "code",
   "execution_count": 4,
   "id": "3cbdd21c-7ec1-42cd-9d14-a230646d5a73",
   "metadata": {},
   "outputs": [
    {
     "name": "stdout",
     "output_type": "stream",
     "text": [
      "['two', 'three', 'four', 'five']\n"
     ]
    }
   ],
   "source": [
    "#del to remove item based on index position\n",
    "lst = ['one','two','three','four','five']\n",
    "del lst[0]\n",
    "print(lst)"
   ]
  },
  {
   "cell_type": "code",
   "execution_count": 6,
   "id": "cdb721f4-4f1a-4385-999c-f6bf846884ad",
   "metadata": {},
   "outputs": [
    {
     "data": {
      "text/plain": [
       "[75, 31, 28]"
      ]
     },
     "execution_count": 6,
     "metadata": {},
     "output_type": "execute_result"
    }
   ],
   "source": [
    "marks = [1,2,24,12,54,35,23,16,42,20,75,31,28]\n",
    "del marks[0:10]\n",
    "marks"
   ]
  },
  {
   "cell_type": "markdown",
   "id": "d9b948fe-6b9c-44b1-8d8a-3636254ed9e0",
   "metadata": {},
   "source": [
    "#### Reverse"
   ]
  },
  {
   "cell_type": "code",
   "execution_count": 7,
   "id": "4ef8b624-9963-47c7-b689-522371be1b6a",
   "metadata": {},
   "outputs": [
    {
     "name": "stdout",
     "output_type": "stream",
     "text": [
      "['four', 'three', 'two', 'one']\n"
     ]
    }
   ],
   "source": [
    "#reverse is revrsses the entire list\n",
    "lst = ['one','two','three','four']\n",
    "lst.reverse()\n",
    "print(lst)"
   ]
  },
  {
   "cell_type": "markdown",
   "id": "5687619e-f937-4c72-8bd4-5c41075ca816",
   "metadata": {},
   "source": [
    "#### Sorting"
   ]
  },
  {
   "cell_type": "raw",
   "id": "976969fa-5f6f-4736-a691-171dcad5b9a6",
   "metadata": {},
   "source": [
    "1.The easiest way to sort a List is with the sorted(list) function.\n",
    "2.That takes a list and returns a new list with those elements in sorted order.\n",
    "3.The original list is not changed.\n",
    "4.The sorted() optional arguments reverse=True,e.g.sorted(list,reverse=True),makes it sort backwards."
   ]
  },
  {
   "cell_type": "code",
   "execution_count": 8,
   "id": "a0e0a86b-8a32-48d2-bf0e-b4c1784f20d8",
   "metadata": {},
   "outputs": [
    {
     "data": {
      "text/plain": [
       "[2, 4, 5, 6, 7, 9]"
      ]
     },
     "execution_count": 8,
     "metadata": {},
     "output_type": "execute_result"
    }
   ],
   "source": [
    "numbers=[2,5,4,6,9,7]\n",
    "sorted(numbers)"
   ]
  },
  {
   "cell_type": "code",
   "execution_count": 9,
   "id": "4c2d2d13-089b-44bb-bb4f-9e3c3d294d5c",
   "metadata": {},
   "outputs": [
    {
     "data": {
      "text/plain": [
       "[9, 7, 6, 5, 4, 2]"
      ]
     },
     "execution_count": 9,
     "metadata": {},
     "output_type": "execute_result"
    }
   ],
   "source": [
    "sorted(numbers,reverse=True)"
   ]
  },
  {
   "cell_type": "code",
   "execution_count": 10,
   "id": "3b6860eb-d2f7-40a4-b499-16b7bfa39f96",
   "metadata": {},
   "outputs": [
    {
     "data": {
      "text/plain": [
       "[1, 5, 7, 9.8, 34]"
      ]
     },
     "execution_count": 10,
     "metadata": {},
     "output_type": "execute_result"
    }
   ],
   "source": [
    "lst = [1,34,5,7,9.8]\n",
    "lst.sort()\n",
    "lst"
   ]
  },
  {
   "cell_type": "code",
   "execution_count": 11,
   "id": "0189ec6b-c653-424d-8ea5-81e18959a958",
   "metadata": {},
   "outputs": [
    {
     "ename": "TypeError",
     "evalue": "'<' not supported between instances of 'str' and 'int'",
     "output_type": "error",
     "traceback": [
      "\u001b[1;31m---------------------------------------------------------------------------\u001b[0m",
      "\u001b[1;31mTypeError\u001b[0m                                 Traceback (most recent call last)",
      "Cell \u001b[1;32mIn[11], line 4\u001b[0m\n\u001b[0;32m      1\u001b[0m \u001b[38;5;66;03m#Sort is applicable for either only alphabet or only numeric values only\u001b[39;00m\n\u001b[0;32m      3\u001b[0m lst \u001b[38;5;241m=\u001b[39m [\u001b[38;5;241m1\u001b[39m,\u001b[38;5;241m24\u001b[39m,\u001b[38;5;124m'\u001b[39m\u001b[38;5;124mb\u001b[39m\u001b[38;5;124m'\u001b[39m,\u001b[38;5;241m8\u001b[39m,\u001b[38;5;124m'\u001b[39m\u001b[38;5;124mk\u001b[39m\u001b[38;5;124m'\u001b[39m]\n\u001b[1;32m----> 4\u001b[0m \u001b[38;5;28mprint\u001b[39m(lst\u001b[38;5;241m.\u001b[39msort())\n",
      "\u001b[1;31mTypeError\u001b[0m: '<' not supported between instances of 'str' and 'int'"
     ]
    }
   ],
   "source": [
    "#Sort is applicable for either only alphabet or only numeric values only\n",
    "\n",
    "lst = [1,24,'b',8,'k']\n",
    "print(lst.sort())"
   ]
  },
  {
   "cell_type": "markdown",
   "id": "155e18ab-35e1-4249-ad77-3bd2ee1c70d2",
   "metadata": {},
   "source": [
    "#### Count"
   ]
  },
  {
   "cell_type": "code",
   "execution_count": 12,
   "id": "2da136c5-b390-4a04-9dd4-cd1b42bb6fb6",
   "metadata": {},
   "outputs": [
    {
     "name": "stdout",
     "output_type": "stream",
     "text": [
      "2\n",
      "3\n"
     ]
    }
   ],
   "source": [
    "numbers = [1,3,4,2,5,6,2,1,0,8,2]\n",
    "print(numbers.count(1))  #frequency of 1 in a list\n",
    "print(numbers.count(2))  #frequency of 2 in a list"
   ]
  },
  {
   "cell_type": "markdown",
   "id": "cb2ff465-3f2a-4eed-a8c6-1f0db3808681",
   "metadata": {},
   "source": [
    "#### Copy"
   ]
  },
  {
   "cell_type": "code",
   "execution_count": 13,
   "id": "67b64ebf-df72-49d5-9161-8c1dca0a7c9a",
   "metadata": {},
   "outputs": [
    {
     "name": "stdout",
     "output_type": "stream",
     "text": [
      "[1, 2, 3, 4]\n",
      "[1, 2, 3, 4]\n"
     ]
    }
   ],
   "source": [
    "#Shallow Copy\n",
    "l1=[1,2,3]\n",
    "l2=l1\n",
    "l2.append(4)\n",
    "print(l1)\n",
    "print(l2)"
   ]
  },
  {
   "cell_type": "code",
   "execution_count": 14,
   "id": "bcd5d11b-06ed-4544-a532-f353f725c18e",
   "metadata": {},
   "outputs": [
    {
     "name": "stdout",
     "output_type": "stream",
     "text": [
      "[1, 2, 3]\n",
      "[1, 2, 3, 4]\n"
     ]
    }
   ],
   "source": [
    "#Deep Copy\n",
    "l1=[1,2,3]\n",
    "l2=l1.copy()\n",
    "l2.append(4)\n",
    "print(l1)\n",
    "print(l2)"
   ]
  },
  {
   "cell_type": "code",
   "execution_count": 16,
   "id": "55138d1c-a8d7-4bc1-ba1b-66a3be3186d6",
   "metadata": {},
   "outputs": [
    {
     "data": {
      "text/plain": [
       "3"
      ]
     },
     "execution_count": 16,
     "metadata": {},
     "output_type": "execute_result"
    }
   ],
   "source": [
    "#index(): Returns the index of first occurrence.Start and End index are not necessary parameters\n",
    "lst = [1,23,41,52]\n",
    "lst.index(52)"
   ]
  },
  {
   "cell_type": "code",
   "execution_count": 17,
   "id": "01a41f30-2415-4661-b759-84c2c188efaa",
   "metadata": {},
   "outputs": [
    {
     "data": {
      "text/plain": [
       "1"
      ]
     },
     "execution_count": 17,
     "metadata": {},
     "output_type": "execute_result"
    }
   ],
   "source": [
    "## Min\n",
    "min(lst)"
   ]
  },
  {
   "cell_type": "code",
   "execution_count": 18,
   "id": "ba5a7fb2-b096-4f22-ae58-67064e18af8c",
   "metadata": {},
   "outputs": [
    {
     "data": {
      "text/plain": [
       "52"
      ]
     },
     "execution_count": 18,
     "metadata": {},
     "output_type": "execute_result"
    }
   ],
   "source": [
    "## Max\n",
    "max(lst)"
   ]
  },
  {
   "cell_type": "code",
   "execution_count": 19,
   "id": "5d2ba058-a9c3-4287-bc12-8f114219b949",
   "metadata": {},
   "outputs": [
    {
     "data": {
      "text/plain": [
       "15"
      ]
     },
     "execution_count": 19,
     "metadata": {},
     "output_type": "execute_result"
    }
   ],
   "source": [
    "lst = [1,2,3,4,5]\n",
    "sum(lst)"
   ]
  },
  {
   "cell_type": "markdown",
   "id": "24b3081b-9fab-43f1-8ad6-1b089d7779ec",
   "metadata": {},
   "source": [
    "## Tuples"
   ]
  },
  {
   "cell_type": "raw",
   "id": "c8932237-c96e-443e-88ac-6eea8e0b2f6f",
   "metadata": {},
   "source": [
    "1.Tuple is similar to List except that the objects in tuple are immutable which means we cannot change the elements of a tuple once assigned.\n",
    "2.When we do not want to change the data over time, tuple is a preferred data type.\n",
    "3.Iterating over the elements of a tuple is fatser compared to iterating over a list."
   ]
  },
  {
   "cell_type": "markdown",
   "id": "80809169-8880-4137-8677-7561e225421a",
   "metadata": {},
   "source": [
    "#### Tuple Creation "
   ]
  },
  {
   "cell_type": "code",
   "execution_count": 1,
   "id": "48e8f0c2-f5ca-4900-aafa-5b1a5ee29a2e",
   "metadata": {},
   "outputs": [
    {
     "data": {
      "text/plain": [
       "tuple"
      ]
     },
     "execution_count": 1,
     "metadata": {},
     "output_type": "execute_result"
    }
   ],
   "source": [
    "tup1 = ()   #Empty tuple\n",
    "type(tup1)"
   ]
  },
  {
   "cell_type": "code",
   "execution_count": 2,
   "id": "9a46c7ab-8afd-47d2-8bc3-4d45ced105d8",
   "metadata": {},
   "outputs": [
    {
     "data": {
      "text/plain": [
       "tuple"
      ]
     },
     "execution_count": 2,
     "metadata": {},
     "output_type": "execute_result"
    }
   ],
   "source": [
    "tup2=tuple()\n",
    "type(tup2)"
   ]
  },
  {
   "cell_type": "code",
   "execution_count": 3,
   "id": "df9fef8b-627f-4918-8e4e-3d61d4911997",
   "metadata": {},
   "outputs": [
    {
     "data": {
      "text/plain": [
       "(100, 'subrat', 15.774)"
      ]
     },
     "execution_count": 3,
     "metadata": {},
     "output_type": "execute_result"
    }
   ],
   "source": [
    "tup3 = (100,'subrat',15.774)       # Tuple of mixed data types\n",
    "tup3"
   ]
  },
  {
   "cell_type": "code",
   "execution_count": 13,
   "id": "0abb1266-62f0-4840-977d-2c424d09a7d4",
   "metadata": {},
   "outputs": [],
   "source": [
    "tup4 = ('subrat',24,(40,100),(120,80))       # nested tuples"
   ]
  },
  {
   "cell_type": "code",
   "execution_count": 5,
   "id": "b9bafe09-cc1a-4bab-a812-ac07b3e3d958",
   "metadata": {},
   "outputs": [],
   "source": [
    "tup5 = ('subrat',24,[40,100],[120,80],{'Jhon','David'},(88,55,66))"
   ]
  },
  {
   "cell_type": "code",
   "execution_count": 6,
   "id": "de6a0d0c-652f-427a-ad61-f624db63be65",
   "metadata": {},
   "outputs": [],
   "source": [
    "tup5[3][0]=200"
   ]
  },
  {
   "cell_type": "code",
   "execution_count": 7,
   "id": "e545640a-7f5e-414b-b248-e82e6337e525",
   "metadata": {},
   "outputs": [
    {
     "data": {
      "text/plain": [
       "('subrat', 24, [40, 100], [200, 80], {'David', 'Jhon'}, (88, 55, 66))"
      ]
     },
     "execution_count": 7,
     "metadata": {},
     "output_type": "execute_result"
    }
   ],
   "source": [
    "tup5"
   ]
  },
  {
   "cell_type": "code",
   "execution_count": 8,
   "id": "cd960d2f-3a2d-4bb8-8caa-3c1e8c15cb86",
   "metadata": {},
   "outputs": [
    {
     "data": {
      "text/plain": [
       "6"
      ]
     },
     "execution_count": 8,
     "metadata": {},
     "output_type": "execute_result"
    }
   ],
   "source": [
    "len(tup5)  #Length of List"
   ]
  },
  {
   "cell_type": "markdown",
   "id": "cbedc3e7-a708-4660-830e-06f9a40c6458",
   "metadata": {},
   "source": [
    " #### Tuple Indexing"
   ]
  },
  {
   "cell_type": "code",
   "execution_count": 9,
   "id": "85788a15-dc8a-4e58-ae8b-9b32e9148314",
   "metadata": {},
   "outputs": [
    {
     "data": {
      "text/plain": [
       "'subrat'"
      ]
     },
     "execution_count": 9,
     "metadata": {},
     "output_type": "execute_result"
    }
   ],
   "source": [
    "tup5[0]  # Retreive first element of the tuole"
   ]
  },
  {
   "cell_type": "code",
   "execution_count": 11,
   "id": "883c3af2-be34-457c-a9db-e3c3d1d1db95",
   "metadata": {},
   "outputs": [
    {
     "data": {
      "text/plain": [
       "40"
      ]
     },
     "execution_count": 11,
     "metadata": {},
     "output_type": "execute_result"
    }
   ],
   "source": [
    "tup5[2][0] # Nested indexing - Access the first character of the first tuple element"
   ]
  },
  {
   "cell_type": "code",
   "execution_count": 14,
   "id": "e7c2eca5-e5d1-44c3-a3b1-c1ed13506675",
   "metadata": {},
   "outputs": [
    {
     "data": {
      "text/plain": [
       "(120, 80)"
      ]
     },
     "execution_count": 14,
     "metadata": {},
     "output_type": "execute_result"
    }
   ],
   "source": [
    "tup4[-1]  # Last item of the tuple"
   ]
  },
  {
   "cell_type": "markdown",
   "id": "360aef01-de74-45cc-82da-b8a0aab245b9",
   "metadata": {},
   "source": [
    "### Tuple Slicing"
   ]
  },
  {
   "cell_type": "code",
   "execution_count": 15,
   "id": "3534cd59-a0a9-4d84-9757-39cdd847a053",
   "metadata": {},
   "outputs": [],
   "source": [
    "mytuple = ('one','two','three','four','five','six','seven','eight')"
   ]
  },
  {
   "cell_type": "code",
   "execution_count": 16,
   "id": "8721dcf6-736d-4979-a17e-e327f2a90823",
   "metadata": {},
   "outputs": [
    {
     "data": {
      "text/plain": [
       "('one', 'two', 'three')"
      ]
     },
     "execution_count": 16,
     "metadata": {},
     "output_type": "execute_result"
    }
   ],
   "source": [
    "mytuple[0:3] # Return all items from 0th to 3rd index location excluding the item"
   ]
  },
  {
   "cell_type": "code",
   "execution_count": 17,
   "id": "db0bb6d0-4dd6-414f-b485-9e071415d371",
   "metadata": {},
   "outputs": [
    {
     "data": {
      "text/plain": [
       "('three', 'four', 'five')"
      ]
     },
     "execution_count": 17,
     "metadata": {},
     "output_type": "execute_result"
    }
   ],
   "source": [
    "mytuple[2:5] # List all item from 2nd to 5th index location excluding the item "
   ]
  },
  {
   "cell_type": "code",
   "execution_count": 18,
   "id": "ddeda08e-c56a-430e-9f7d-2f6869198034",
   "metadata": {},
   "outputs": [
    {
     "data": {
      "text/plain": [
       "('one', 'two', 'three')"
      ]
     },
     "execution_count": 18,
     "metadata": {},
     "output_type": "execute_result"
    }
   ],
   "source": [
    "mytuple[:3] # Return first three item "
   ]
  },
  {
   "cell_type": "code",
   "execution_count": 19,
   "id": "f2e3ff93-ffd4-405e-a5b5-d7363ce60199",
   "metadata": {},
   "outputs": [
    {
     "data": {
      "text/plain": [
       "('six', 'seven', 'eight')"
      ]
     },
     "execution_count": 19,
     "metadata": {},
     "output_type": "execute_result"
    }
   ],
   "source": [
    "mytuple[-3:] # Return last three item"
   ]
  },
  {
   "cell_type": "code",
   "execution_count": 20,
   "id": "ccdffabb-9217-4281-8e46-0c9fa6f70625",
   "metadata": {},
   "outputs": [
    {
     "data": {
      "text/plain": [
       "('six', 'five', 'four', 'three', 'two', 'one')"
      ]
     },
     "execution_count": 20,
     "metadata": {},
     "output_type": "execute_result"
    }
   ],
   "source": [
    "mytuple[-3::-1]"
   ]
  },
  {
   "cell_type": "code",
   "execution_count": 21,
   "id": "55110666-ebae-40b2-87a8-76eb78f0c984",
   "metadata": {},
   "outputs": [
    {
     "data": {
      "text/plain": [
       "('one', 'two')"
      ]
     },
     "execution_count": 21,
     "metadata": {},
     "output_type": "execute_result"
    }
   ],
   "source": [
    "mytuple[:2] # Return first two item"
   ]
  },
  {
   "cell_type": "code",
   "execution_count": 22,
   "id": "77434b16-341a-4351-b2e0-89b1cd52185d",
   "metadata": {},
   "outputs": [
    {
     "data": {
      "text/plain": [
       "('seven', 'eight')"
      ]
     },
     "execution_count": 22,
     "metadata": {},
     "output_type": "execute_result"
    }
   ],
   "source": [
    "mytuple[-2:] # Return last two item"
   ]
  },
  {
   "cell_type": "markdown",
   "id": "93fecd90-12f8-4239-9901-24a612129d97",
   "metadata": {},
   "source": [
    "## Remove & Change Items"
   ]
  },
  {
   "cell_type": "code",
   "execution_count": 23,
   "id": "e782b02e-d7a8-479a-a218-f4c89363cd13",
   "metadata": {},
   "outputs": [
    {
     "data": {
      "text/plain": [
       "('one', 'two', 'three', 'four', 'five', 'six', 'seven', 'eight')"
      ]
     },
     "execution_count": 23,
     "metadata": {},
     "output_type": "execute_result"
    }
   ],
   "source": [
    "mytuple"
   ]
  },
  {
   "cell_type": "code",
   "execution_count": 24,
   "id": "4c61a15a-fc42-4ae6-8913-ce35ff5a6924",
   "metadata": {},
   "outputs": [
    {
     "ename": "TypeError",
     "evalue": "'tuple' object doesn't support item deletion",
     "output_type": "error",
     "traceback": [
      "\u001b[1;31m---------------------------------------------------------------------------\u001b[0m",
      "\u001b[1;31mTypeError\u001b[0m                                 Traceback (most recent call last)",
      "Cell \u001b[1;32mIn[24], line 1\u001b[0m\n\u001b[1;32m----> 1\u001b[0m \u001b[38;5;28;01mdel\u001b[39;00m mytuple[\u001b[38;5;241m0\u001b[39m]\n",
      "\u001b[1;31mTypeError\u001b[0m: 'tuple' object doesn't support item deletion"
     ]
    }
   ],
   "source": [
    "del mytuple[0] # Tuples are immutable which means we can't DELETE tuple items"
   ]
  },
  {
   "cell_type": "code",
   "execution_count": 25,
   "id": "43a4360f-7450-43f8-97ae-9d4af071f5b4",
   "metadata": {},
   "outputs": [
    {
     "ename": "TypeError",
     "evalue": "'tuple' object does not support item assignment",
     "output_type": "error",
     "traceback": [
      "\u001b[1;31m---------------------------------------------------------------------------\u001b[0m",
      "\u001b[1;31mTypeError\u001b[0m                                 Traceback (most recent call last)",
      "Cell \u001b[1;32mIn[25], line 1\u001b[0m\n\u001b[1;32m----> 1\u001b[0m mytuple[\u001b[38;5;241m0\u001b[39m] \u001b[38;5;241m=\u001b[39m \u001b[38;5;241m1\u001b[39m\n",
      "\u001b[1;31mTypeError\u001b[0m: 'tuple' object does not support item assignment"
     ]
    }
   ],
   "source": [
    "mytuple[0] = 1 # Tuples are immutable which means we can't change tuple items"
   ]
  },
  {
   "cell_type": "code",
   "execution_count": 26,
   "id": "d8b566eb-2eae-4ef0-9c79-05f61e485ccd",
   "metadata": {},
   "outputs": [],
   "source": [
    "del mytuple # Deleting entire tuple object is possible"
   ]
  },
  {
   "cell_type": "markdown",
   "id": "6d0a62d2-870c-4f9b-84fb-822595a469e7",
   "metadata": {},
   "source": [
    "## Tuples Methods"
   ]
  },
  {
   "cell_type": "code",
   "execution_count": 27,
   "id": "bcb1c2be-92df-461e-962c-040b83547187",
   "metadata": {},
   "outputs": [],
   "source": [
    "mytuple1 = ('one','two','three','four','one','one','two','three')"
   ]
  },
  {
   "cell_type": "markdown",
   "id": "1c940329-e3b4-47da-a0a1-0dd085af0fc1",
   "metadata": {},
   "source": [
    "### Count"
   ]
  },
  {
   "cell_type": "code",
   "execution_count": 28,
   "id": "81011477-cf5c-4781-aff0-5de19075a83a",
   "metadata": {},
   "outputs": [
    {
     "data": {
      "text/plain": [
       "3"
      ]
     },
     "execution_count": 28,
     "metadata": {},
     "output_type": "execute_result"
    }
   ],
   "source": [
    "mytuple1.count('one') #Number of times item \"one\" occured in the tuple."
   ]
  },
  {
   "cell_type": "code",
   "execution_count": 29,
   "id": "bb1dbc8c-01ac-42f6-a965-70811173b35c",
   "metadata": {},
   "outputs": [
    {
     "data": {
      "text/plain": [
       "2"
      ]
     },
     "execution_count": 29,
     "metadata": {},
     "output_type": "execute_result"
    }
   ],
   "source": [
    "mytuple1.count('two') #Occurence of item 'two' in the tuple"
   ]
  },
  {
   "cell_type": "markdown",
   "id": "3b36303f-88f0-450a-9c62-60b13d59ab4b",
   "metadata": {},
   "source": [
    "### Indexing Position"
   ]
  },
  {
   "cell_type": "code",
   "execution_count": 31,
   "id": "30694bf9-1751-446c-bfa0-2dd63f687d2b",
   "metadata": {},
   "outputs": [
    {
     "data": {
      "text/plain": [
       "0"
      ]
     },
     "execution_count": 31,
     "metadata": {},
     "output_type": "execute_result"
    }
   ],
   "source": [
    "mytuple1.index('one') #Index of first element equal to 'one'"
   ]
  },
  {
   "cell_type": "code",
   "execution_count": 32,
   "id": "8fe68ac9-ccb0-4fe8-b799-b9f7a55c54fa",
   "metadata": {},
   "outputs": [
    {
     "ename": "ValueError",
     "evalue": "tuple.index(x): x not in tuple",
     "output_type": "error",
     "traceback": [
      "\u001b[1;31m---------------------------------------------------------------------------\u001b[0m",
      "\u001b[1;31mValueError\u001b[0m                                Traceback (most recent call last)",
      "Cell \u001b[1;32mIn[32], line 1\u001b[0m\n\u001b[1;32m----> 1\u001b[0m mytuple1\u001b[38;5;241m.\u001b[39mindex(\u001b[38;5;124m'\u001b[39m\u001b[38;5;124mfive\u001b[39m\u001b[38;5;124m'\u001b[39m)\n",
      "\u001b[1;31mValueError\u001b[0m: tuple.index(x): x not in tuple"
     ]
    }
   ],
   "source": [
    "mytuple1.index('five') # Index of first element equal to 'five' "
   ]
  },
  {
   "cell_type": "markdown",
   "id": "ac7c848b-2b78-4145-8109-47efafcb1db5",
   "metadata": {},
   "source": [
    "### Sorting"
   ]
  },
  {
   "cell_type": "code",
   "execution_count": 33,
   "id": "2286c792-32da-4211-b3c8-f85634d428e8",
   "metadata": {},
   "outputs": [],
   "source": [
    "mytuple2 = (45,75,64,23,14,35,5)"
   ]
  },
  {
   "cell_type": "code",
   "execution_count": 35,
   "id": "27f82c14-6573-4e77-a10b-517b1b1aa1e8",
   "metadata": {},
   "outputs": [
    {
     "data": {
      "text/plain": [
       "[5, 14, 23, 35, 45, 64, 75]"
      ]
     },
     "execution_count": 35,
     "metadata": {},
     "output_type": "execute_result"
    }
   ],
   "source": [
    "sorted(mytuple2) # Returns a new sorted list and doesn't change original tuple"
   ]
  },
  {
   "cell_type": "code",
   "execution_count": 36,
   "id": "68029ba0-1efa-4ad5-a874-7180c3d96388",
   "metadata": {},
   "outputs": [
    {
     "data": {
      "text/plain": [
       "[75, 64, 45, 35, 23, 14, 5]"
      ]
     },
     "execution_count": 36,
     "metadata": {},
     "output_type": "execute_result"
    }
   ],
   "source": [
    "sorted(mytuple2, reverse=True) # Sort in descending order"
   ]
  },
  {
   "cell_type": "code",
   "execution_count": 37,
   "id": "1afb3a3e-b1ee-4dd6-ae13-471e88b8a853",
   "metadata": {},
   "outputs": [
    {
     "data": {
      "text/plain": [
       "(45, 75, 64, 23, 14, 35, 5)"
      ]
     },
     "execution_count": 37,
     "metadata": {},
     "output_type": "execute_result"
    }
   ],
   "source": [
    "mytuple2"
   ]
  },
  {
   "cell_type": "markdown",
   "id": "1c85c7b9-353f-4c3d-bcaa-3218b913bfad",
   "metadata": {},
   "source": [
    "### Tuple Membership"
   ]
  },
  {
   "cell_type": "code",
   "execution_count": 38,
   "id": "e44cca93-1ee3-49e7-bf79-f174dba395b9",
   "metadata": {},
   "outputs": [],
   "source": [
    "mytuple = ('one','two','three','four','five','six','seven','eight')"
   ]
  },
  {
   "cell_type": "code",
   "execution_count": 39,
   "id": "70f56683-7d3b-4550-8493-453b7e16ba1f",
   "metadata": {},
   "outputs": [
    {
     "data": {
      "text/plain": [
       "True"
      ]
     },
     "execution_count": 39,
     "metadata": {},
     "output_type": "execute_result"
    }
   ],
   "source": [
    "'one' in mytuple # Check if 'one' exist in the list "
   ]
  },
  {
   "cell_type": "code",
   "execution_count": 40,
   "id": "f2b641a0-43d0-403c-92e8-3f280d90e103",
   "metadata": {},
   "outputs": [
    {
     "data": {
      "text/plain": [
       "False"
      ]
     },
     "execution_count": 40,
     "metadata": {},
     "output_type": "execute_result"
    }
   ],
   "source": [
    "'ten' in mytuple # Check if 'ten' exist in the list"
   ]
  },
  {
   "cell_type": "markdown",
   "id": "ac348e0b-1b8f-405c-a25c-a1de5c459480",
   "metadata": {},
   "source": [
    "## Sets"
   ]
  },
  {
   "cell_type": "raw",
   "id": "6c41ba28-f958-4ae0-ae0b-2af3f23f0ed9",
   "metadata": {},
   "source": [
    "1.A set is an unordered collection of items.\n",
    "2.Every element is unique(no duplicates)\n",
    "3.The set itself is mutable-->We can add or remove items from it.\n",
    "4.In set,multiple datatype items are not applicable(Ex:{1,2,(1,2)}--is not applicable\n",
    "5.Set is defined by values separated by comma inside braces{}."
   ]
  },
  {
   "cell_type": "raw",
   "id": "c5ced164-c512-4d1c-af7d-23bf72b3e67c",
   "metadata": {},
   "source": [
    "->Sets can be used to perform mathematical set operations like union, intersection, symmetric difference etc."
   ]
  },
  {
   "cell_type": "code",
   "execution_count": 1,
   "id": "a25c9baa-a92c-412d-bdbf-2bb51674e31c",
   "metadata": {},
   "outputs": [
    {
     "name": "stdout",
     "output_type": "stream",
     "text": [
      "set()\n",
      "<class 'set'>\n"
     ]
    }
   ],
   "source": [
    "# Defining an empty set \n",
    "set_var= set()\n",
    "print(set_var)\n",
    "print(type(set_var))"
   ]
  },
  {
   "cell_type": "code",
   "execution_count": 2,
   "id": "3c72d2d1-2e42-4b0f-b126-c0860471d71c",
   "metadata": {},
   "outputs": [
    {
     "name": "stdout",
     "output_type": "stream",
     "text": [
      "{'s', 20, 5, 40, 10, 30}\n"
     ]
    }
   ],
   "source": [
    "a = {10,30,40,20,5,'s'}\n",
    "print(a)"
   ]
  },
  {
   "cell_type": "code",
   "execution_count": 3,
   "id": "6c115cf3-61ec-4658-8179-4e6a6c263722",
   "metadata": {},
   "outputs": [
    {
     "name": "stdout",
     "output_type": "stream",
     "text": [
      "{10, 20, 30}\n"
     ]
    }
   ],
   "source": [
    "#automatically set won't consider duplicate elements\n",
    "s = {10,20,20,30,30,30}\n",
    "print(s)"
   ]
  },
  {
   "cell_type": "code",
   "execution_count": 4,
   "id": "9b5c7a93-835c-498b-bc34-502e8a575270",
   "metadata": {},
   "outputs": [
    {
     "ename": "TypeError",
     "evalue": "'set' object is not subscriptable",
     "output_type": "error",
     "traceback": [
      "\u001b[1;31m---------------------------------------------------------------------------\u001b[0m",
      "\u001b[1;31mTypeError\u001b[0m                                 Traceback (most recent call last)",
      "Cell \u001b[1;32mIn[4], line 2\u001b[0m\n\u001b[0;32m      1\u001b[0m \u001b[38;5;66;03m#set object doesn't support indexing\u001b[39;00m\n\u001b[1;32m----> 2\u001b[0m \u001b[38;5;28mprint\u001b[39m(s[\u001b[38;5;241m1\u001b[39m])\n",
      "\u001b[1;31mTypeError\u001b[0m: 'set' object is not subscriptable"
     ]
    }
   ],
   "source": [
    "#set object doesn't support indexing\n",
    "print(s[1]) #we can't print particular element in set because\n",
    "            #it's unorder collection of items"
   ]
  },
  {
   "cell_type": "code",
   "execution_count": 5,
   "id": "95814410-593b-45c9-9422-08b116869cf3",
   "metadata": {},
   "outputs": [
    {
     "name": "stdout",
     "output_type": "stream",
     "text": [
      "[1, 2, 3]\n"
     ]
    }
   ],
   "source": [
    "#we can make set from a list\n",
    "s = list(set([1,2,3,2,1,3,1,2,]))\n",
    "print(s)"
   ]
  },
  {
   "cell_type": "code",
   "execution_count": 6,
   "id": "5aaf7047-eebe-445a-8bb4-046ab3f448b4",
   "metadata": {},
   "outputs": [
    {
     "data": {
      "text/plain": [
       "{'a', 'b', 'c'}"
      ]
     },
     "execution_count": 6,
     "metadata": {},
     "output_type": "execute_result"
    }
   ],
   "source": [
    "tup_set = set(('a', 'b','c'))\n",
    "tup_set"
   ]
  },
  {
   "cell_type": "code",
   "execution_count": 9,
   "id": "ba404d4f-00b6-48ca-9283-51f763523429",
   "metadata": {},
   "outputs": [
    {
     "data": {
      "text/plain": [
       "{3, 5, 7, 9, 11, 13, 15, 17, 19}"
      ]
     },
     "execution_count": 9,
     "metadata": {},
     "output_type": "execute_result"
    }
   ],
   "source": [
    "i = set(range(3,20,2))\n",
    "i"
   ]
  },
  {
   "cell_type": "markdown",
   "id": "56ab8624-6db1-4a5e-b9fc-5be6b7aef8ba",
   "metadata": {},
   "source": [
    "### Set Methods"
   ]
  },
  {
   "cell_type": "code",
   "execution_count": 10,
   "id": "e2d432c0-dfa5-4be1-886d-eb4d57610206",
   "metadata": {},
   "outputs": [
    {
     "data": {
      "text/plain": [
       "set()"
      ]
     },
     "execution_count": 10,
     "metadata": {},
     "output_type": "execute_result"
    }
   ],
   "source": [
    "c = set()\n",
    "c"
   ]
  },
  {
   "cell_type": "markdown",
   "id": "65924fc2-e85b-480e-981e-903e5abedc5d",
   "metadata": {},
   "source": [
    "#### add()--> we can add single element"
   ]
  },
  {
   "cell_type": "code",
   "execution_count": 11,
   "id": "997c893b-0e16-44a5-a476-b415fa21e046",
   "metadata": {},
   "outputs": [
    {
     "data": {
      "text/plain": [
       "{3}"
      ]
     },
     "execution_count": 11,
     "metadata": {},
     "output_type": "execute_result"
    }
   ],
   "source": [
    "c.add(3)\n",
    "c"
   ]
  },
  {
   "cell_type": "code",
   "execution_count": 12,
   "id": "ec843e1e-6204-4b09-afe2-0febf24a9fcd",
   "metadata": {},
   "outputs": [
    {
     "data": {
      "text/plain": [
       "{3, 4, 5, 'a'}"
      ]
     },
     "execution_count": 12,
     "metadata": {},
     "output_type": "execute_result"
    }
   ],
   "source": [
    "c.add(4)\n",
    "c.add(5)\n",
    "c.add('a')\n",
    "c"
   ]
  },
  {
   "cell_type": "markdown",
   "id": "41c0f12c-b95b-4ded-8e76-9e801353501e",
   "metadata": {},
   "source": [
    "#### update()--> add multiple elements"
   ]
  },
  {
   "cell_type": "code",
   "execution_count": 14,
   "id": "bb70811a-42a4-47ac-a95f-a53af6ee43bb",
   "metadata": {},
   "outputs": [
    {
     "data": {
      "text/plain": [
       "{3, 4, 8}"
      ]
     },
     "execution_count": 14,
     "metadata": {},
     "output_type": "execute_result"
    }
   ],
   "source": [
    "#add multiple elements\n",
    "s=set()\n",
    "s.update([4,8,3])\n",
    "s"
   ]
  },
  {
   "cell_type": "code",
   "execution_count": 17,
   "id": "f706acb2-d94f-4749-b27a-c4cb5e9b88ed",
   "metadata": {},
   "outputs": [
    {
     "data": {
      "text/plain": [
       "{1, 2, 3, 4, 5, 6, 8, 13}"
      ]
     },
     "execution_count": 17,
     "metadata": {},
     "output_type": "execute_result"
    }
   ],
   "source": [
    "#add list and set\n",
    "s.update([5,2], {13,1,6})\n",
    "s"
   ]
  },
  {
   "cell_type": "markdown",
   "id": "faf7a7fc-dfd1-47b9-bb55-8462339bdae8",
   "metadata": {},
   "source": [
    "#### copy()--> copy complete set"
   ]
  },
  {
   "cell_type": "code",
   "execution_count": 18,
   "id": "a4f72659-a6da-4782-854b-cf1368e89bde",
   "metadata": {},
   "outputs": [
    {
     "data": {
      "text/plain": [
       "{3, 4, 5, 'a'}"
      ]
     },
     "execution_count": 18,
     "metadata": {},
     "output_type": "execute_result"
    }
   ],
   "source": [
    "d = c.copy()\n",
    "d"
   ]
  },
  {
   "cell_type": "code",
   "execution_count": 19,
   "id": "6261afc5-4fdb-4c35-95b5-81add205e5b8",
   "metadata": {},
   "outputs": [
    {
     "data": {
      "text/plain": [
       "{3, 4, 5, 6, 'a'}"
      ]
     },
     "execution_count": 19,
     "metadata": {},
     "output_type": "execute_result"
    }
   ],
   "source": [
    "d.add(6)\n",
    "d"
   ]
  },
  {
   "cell_type": "code",
   "execution_count": 20,
   "id": "535d3856-1497-4624-84fa-c57d5ddf2f93",
   "metadata": {},
   "outputs": [
    {
     "data": {
      "text/plain": [
       "{3, 4, 5, 'a'}"
      ]
     },
     "execution_count": 20,
     "metadata": {},
     "output_type": "execute_result"
    }
   ],
   "source": [
    "c"
   ]
  },
  {
   "cell_type": "markdown",
   "id": "4cdd549f-0178-417f-9e5b-3a00291609b5",
   "metadata": {},
   "source": [
    "#### Delete elements from a set"
   ]
  },
  {
   "cell_type": "raw",
   "id": "5107deef-fa98-44cd-95b8-52ab05e75c2b",
   "metadata": {},
   "source": [
    "--A particular item can be removed from set using methods.\n",
    "1.discard()\n",
    "2.remove()"
   ]
  },
  {
   "cell_type": "code",
   "execution_count": 21,
   "id": "a599c42e-e11c-4873-9665-986148f46334",
   "metadata": {},
   "outputs": [
    {
     "name": "stdout",
     "output_type": "stream",
     "text": [
      "{1, 2, 3, 4, 5}\n",
      "{1, 2, 3, 5}\n"
     ]
    }
   ],
   "source": [
    "s = {1,2,3,5,4}\n",
    "print(s)\n",
    "s.discard(4)    #4 is removed from set s\n",
    "print(s)"
   ]
  },
  {
   "cell_type": "code",
   "execution_count": 22,
   "id": "7b169ccc-e363-4228-9f4e-e5a5ef8c6d70",
   "metadata": {},
   "outputs": [
    {
     "name": "stdout",
     "output_type": "stream",
     "text": [
      "{1, 2, 3, 5}\n"
     ]
    }
   ],
   "source": [
    "#discard an element not present in a set s\n",
    "s.discard(8)\n",
    "print(s)"
   ]
  },
  {
   "cell_type": "code",
   "execution_count": 23,
   "id": "b0ada73a-1b58-4c59-a18b-cdc65e781915",
   "metadata": {},
   "outputs": [
    {
     "name": "stdout",
     "output_type": "stream",
     "text": [
      "{1, 3, 5}\n"
     ]
    }
   ],
   "source": [
    "#remove an element\n",
    "s.remove(2)\n",
    "print(s)"
   ]
  },
  {
   "cell_type": "code",
   "execution_count": 24,
   "id": "572883ed-cee5-4ce0-ad24-bb0d3d95161f",
   "metadata": {},
   "outputs": [
    {
     "ename": "KeyError",
     "evalue": "7",
     "output_type": "error",
     "traceback": [
      "\u001b[1;31m---------------------------------------------------------------------------\u001b[0m",
      "\u001b[1;31mKeyError\u001b[0m                                  Traceback (most recent call last)",
      "Cell \u001b[1;32mIn[24], line 2\u001b[0m\n\u001b[0;32m      1\u001b[0m \u001b[38;5;66;03m#remove an element not present in a set s\u001b[39;00m\n\u001b[1;32m----> 2\u001b[0m s\u001b[38;5;241m.\u001b[39mremove(\u001b[38;5;241m7\u001b[39m)\n",
      "\u001b[1;31mKeyError\u001b[0m: 7"
     ]
    }
   ],
   "source": [
    "#remove an element not present in a set s\n",
    "s.remove(7) # will get keyError"
   ]
  },
  {
   "cell_type": "code",
   "execution_count": 25,
   "id": "c0ea0a4c-d8d5-4a13-8ccb-c0fd5445b5cb",
   "metadata": {},
   "outputs": [
    {
     "name": "stdout",
     "output_type": "stream",
     "text": [
      "{3, 5, 6, 'rama', 'subrat'}\n"
     ]
    }
   ],
   "source": [
    "# we can 1st item using pop() method\n",
    "s = {2,2,3,3,6,5,'subrat','rama'}\n",
    "s.pop()\n",
    "print(s)"
   ]
  },
  {
   "cell_type": "code",
   "execution_count": 26,
   "id": "11cc7771-9feb-41e8-9559-efad265f6575",
   "metadata": {},
   "outputs": [
    {
     "name": "stdout",
     "output_type": "stream",
     "text": [
      "set()\n"
     ]
    }
   ],
   "source": [
    "s = {1,3,5,6,7}\n",
    "s.clear()   #remove all items in set using clear() method\n",
    "print(s)"
   ]
  },
  {
   "cell_type": "code",
   "execution_count": 27,
   "id": "8714d8c5-37ab-49ae-b4e1-0801b0a3a5a4",
   "metadata": {},
   "outputs": [],
   "source": [
    "s = {1,3,5,2,6}\n",
    "del s #delete the variable"
   ]
  },
  {
   "cell_type": "code",
   "execution_count": 28,
   "id": "84f1151b-5df5-4a86-9c98-6b7172cb69cb",
   "metadata": {},
   "outputs": [
    {
     "ename": "NameError",
     "evalue": "name 's' is not defined",
     "output_type": "error",
     "traceback": [
      "\u001b[1;31m---------------------------------------------------------------------------\u001b[0m",
      "\u001b[1;31mNameError\u001b[0m                                 Traceback (most recent call last)",
      "Cell \u001b[1;32mIn[28], line 1\u001b[0m\n\u001b[1;32m----> 1\u001b[0m \u001b[38;5;28mprint\u001b[39m(s)\n",
      "\u001b[1;31mNameError\u001b[0m: name 's' is not defined"
     ]
    }
   ],
   "source": [
    "print(s)"
   ]
  },
  {
   "cell_type": "markdown",
   "id": "85ca000c-9745-407f-ae0c-8f83f658fa83",
   "metadata": {},
   "source": [
    "### Set Operations"
   ]
  },
  {
   "cell_type": "markdown",
   "id": "ab48ed70-91cb-4181-904c-9631ecb40385",
   "metadata": {},
   "source": [
    "#### union"
   ]
  },
  {
   "cell_type": "code",
   "execution_count": 3,
   "id": "4f078d4c-8332-467b-917a-6fda78231304",
   "metadata": {},
   "outputs": [],
   "source": [
    "set1 = {1,2,3,4,5}\n",
    "set2 = {3,4,5,6,7}"
   ]
  },
  {
   "cell_type": "code",
   "execution_count": 4,
   "id": "d8304549-ec22-4536-9439-bc665b38b1aa",
   "metadata": {},
   "outputs": [
    {
     "name": "stdout",
     "output_type": "stream",
     "text": [
      "{1, 2, 3, 4, 5, 6, 7}\n"
     ]
    }
   ],
   "source": [
    "#union of 2 sets using | operator\n",
    "print(set1 | set2)"
   ]
  },
  {
   "cell_type": "code",
   "execution_count": 5,
   "id": "1fa1c92a-629b-4242-b6ce-d4867a521cc7",
   "metadata": {},
   "outputs": [
    {
     "data": {
      "text/plain": [
       "{1, 2, 3, 4, 5}"
      ]
     },
     "execution_count": 5,
     "metadata": {},
     "output_type": "execute_result"
    }
   ],
   "source": [
    "set1"
   ]
  },
  {
   "cell_type": "markdown",
   "id": "bb944425-aa46-4334-ac49-2ace0e2f9a33",
   "metadata": {},
   "source": [
    "#### intersection"
   ]
  },
  {
   "cell_type": "code",
   "execution_count": 6,
   "id": "2a7082a2-fb95-4225-b96b-3f9f6cd83554",
   "metadata": {},
   "outputs": [
    {
     "name": "stdout",
     "output_type": "stream",
     "text": [
      "{3, 4, 5}\n"
     ]
    }
   ],
   "source": [
    "# intersection of 2 sets using & operator\n",
    "print(set1 & set2)"
   ]
  },
  {
   "cell_type": "code",
   "execution_count": 7,
   "id": "f15d4e64-71f9-4805-ab1a-fbe017587a08",
   "metadata": {},
   "outputs": [
    {
     "name": "stdout",
     "output_type": "stream",
     "text": [
      "{3, 4, 5}\n"
     ]
    }
   ],
   "source": [
    "#use intersection function\n",
    "print(set1.intersection(set2))"
   ]
  },
  {
   "cell_type": "markdown",
   "id": "45257582-c679-42b2-8ae2-866835a0ccf3",
   "metadata": {},
   "source": [
    "#### difference"
   ]
  },
  {
   "cell_type": "code",
   "execution_count": 8,
   "id": "054f4a20-a58b-453b-b9e8-618ac4897802",
   "metadata": {},
   "outputs": [
    {
     "name": "stdout",
     "output_type": "stream",
     "text": [
      "{1, 2}\n"
     ]
    }
   ],
   "source": [
    "# Set Difference: set of elements that are only in set1 but not in set2\n",
    "print(set1-set2)"
   ]
  },
  {
   "cell_type": "code",
   "execution_count": 9,
   "id": "fc20c81d-c8ee-41f1-981d-41d3bf906427",
   "metadata": {},
   "outputs": [
    {
     "name": "stdout",
     "output_type": "stream",
     "text": [
      "{1, 2}\n"
     ]
    }
   ],
   "source": [
    "#use difference fiunction\n",
    "print(set1.difference(set2))"
   ]
  },
  {
   "cell_type": "code",
   "execution_count": 10,
   "id": "469840de-6cc6-4edf-b2fc-695cc1b3df08",
   "metadata": {},
   "outputs": [
    {
     "name": "stdout",
     "output_type": "stream",
     "text": [
      "{6, 7}\n"
     ]
    }
   ],
   "source": [
    "print(set2-set1)"
   ]
  },
  {
   "cell_type": "markdown",
   "id": "0d58403c-7ff9-4e10-b6a3-1eb4b9965d8c",
   "metadata": {},
   "source": [
    "#### difference_update"
   ]
  },
  {
   "cell_type": "code",
   "execution_count": 12,
   "id": "d6b18087-a775-4ba8-af3a-c47443aa05a9",
   "metadata": {},
   "outputs": [
    {
     "data": {
      "text/plain": [
       "{1, 2}"
      ]
     },
     "execution_count": 12,
     "metadata": {},
     "output_type": "execute_result"
    }
   ],
   "source": [
    "set1.difference_update(set2)\n",
    "set1"
   ]
  },
  {
   "cell_type": "code",
   "execution_count": 13,
   "id": "b6104462-dd67-47ec-8650-e7754d8fb4f9",
   "metadata": {},
   "outputs": [
    {
     "data": {
      "text/plain": [
       "{3, 4, 5, 6, 7}"
      ]
     },
     "execution_count": 13,
     "metadata": {},
     "output_type": "execute_result"
    }
   ],
   "source": [
    "set2.difference_update(set1)\n",
    "set2"
   ]
  },
  {
   "cell_type": "markdown",
   "id": "0bdfe638-f456-49ef-986f-fec3928ac400",
   "metadata": {},
   "source": [
    "##### .symmetric difference: set of elements in both set1 and set2(except those that are common in both.)"
   ]
  },
  {
   "cell_type": "code",
   "execution_count": 14,
   "id": "2c704b5e-2340-468d-a10b-6a5f4e83243a",
   "metadata": {},
   "outputs": [],
   "source": [
    "set1 = {1,2,3,4,5}\n",
    "set2 = {3,4,5,6,7}"
   ]
  },
  {
   "cell_type": "code",
   "execution_count": 15,
   "id": "326c0405-f26a-441e-ae39-fb725f9084ed",
   "metadata": {},
   "outputs": [
    {
     "name": "stdout",
     "output_type": "stream",
     "text": [
      "{1, 2, 6, 7}\n"
     ]
    }
   ],
   "source": [
    "#use ^ operator\n",
    "print(set1^set2)"
   ]
  },
  {
   "cell_type": "code",
   "execution_count": 17,
   "id": "68973109-fc71-418d-84cd-02f77e4241f1",
   "metadata": {},
   "outputs": [
    {
     "name": "stdout",
     "output_type": "stream",
     "text": [
      "{1, 2, 6, 7}\n"
     ]
    }
   ],
   "source": [
    "#use symmetric_difference function\n",
    "print(set1.symmetric_difference(set2))"
   ]
  },
  {
   "cell_type": "markdown",
   "id": "cac21ab4-3845-44c9-8232-6287fc9e0cb1",
   "metadata": {},
   "source": [
    "#### symmetric_difference_update()"
   ]
  },
  {
   "cell_type": "code",
   "execution_count": 18,
   "id": "a4dbe77f-10be-4953-b112-279ef4adde9a",
   "metadata": {},
   "outputs": [
    {
     "data": {
      "text/plain": [
       "{1, 2, 6, 7}"
      ]
     },
     "execution_count": 18,
     "metadata": {},
     "output_type": "execute_result"
    }
   ],
   "source": [
    "set2.symmetric_difference_update(set1)\n",
    "set2"
   ]
  },
  {
   "cell_type": "markdown",
   "id": "21ca36ab-743a-4d2d-af19-7f500e500352",
   "metadata": {},
   "source": [
    "##### .issubset()"
   ]
  },
  {
   "cell_type": "code",
   "execution_count": 19,
   "id": "aa807803-a3db-4703-be80-e41cbe3f7336",
   "metadata": {},
   "outputs": [],
   "source": [
    "c = {3,4,5}\n",
    "d = {3,4,5,6}"
   ]
  },
  {
   "cell_type": "code",
   "execution_count": 20,
   "id": "ebc746d6-8cec-478b-aa18-01e87b0c89e7",
   "metadata": {},
   "outputs": [
    {
     "data": {
      "text/plain": [
       "True"
      ]
     },
     "execution_count": 20,
     "metadata": {},
     "output_type": "execute_result"
    }
   ],
   "source": [
    "c.issubset(d)"
   ]
  },
  {
   "cell_type": "code",
   "execution_count": 21,
   "id": "c8340349-6335-43ff-a591-5ad64279fefd",
   "metadata": {},
   "outputs": [
    {
     "data": {
      "text/plain": [
       "False"
      ]
     },
     "execution_count": 21,
     "metadata": {},
     "output_type": "execute_result"
    }
   ],
   "source": [
    "d.issubset(c)"
   ]
  },
  {
   "cell_type": "markdown",
   "id": "f887ac70-9818-4e35-a3d7-bdfd08f7e4e3",
   "metadata": {},
   "source": [
    "##### .issuperset()"
   ]
  },
  {
   "cell_type": "code",
   "execution_count": 22,
   "id": "793217c5-2497-4953-a1ad-5d3dfccb3b4c",
   "metadata": {},
   "outputs": [
    {
     "data": {
      "text/plain": [
       "True"
      ]
     },
     "execution_count": 22,
     "metadata": {},
     "output_type": "execute_result"
    }
   ],
   "source": [
    "d.issuperset(c)"
   ]
  },
  {
   "cell_type": "markdown",
   "id": "8c374a29-a6dc-480b-976e-7840aa9e3afa",
   "metadata": {},
   "source": [
    "##### .isdisjoint()"
   ]
  },
  {
   "cell_type": "code",
   "execution_count": 23,
   "id": "12898461-9505-4151-aea3-c10b702e41f5",
   "metadata": {},
   "outputs": [
    {
     "data": {
      "text/plain": [
       "False"
      ]
     },
     "execution_count": 23,
     "metadata": {},
     "output_type": "execute_result"
    }
   ],
   "source": [
    "c.isdisjoint(d)"
   ]
  },
  {
   "cell_type": "markdown",
   "id": "22243420-ebcf-47b1-8ddb-2a6f17cf816e",
   "metadata": {},
   "source": [
    "### Dictionaries"
   ]
  },
  {
   "cell_type": "raw",
   "id": "5974c5b9-1f71-4596-b086-a7bf11a539a6",
   "metadata": {},
   "source": [
    "1.Dictionary is an unordered collection of key-value pairs.\n",
    "2.dictionary is a collection which is unordered, changeable and indexed.\n",
    "3.In Python, dictionaries are defined within braces{} with eaach item being a pair in the from key: value.\n",
    "4.Key and value can be of any type."
   ]
  },
  {
   "cell_type": "code",
   "execution_count": 25,
   "id": "3183d33b-1730-40dd-b977-bd76ee4f8b38",
   "metadata": {},
   "outputs": [
    {
     "data": {
      "text/plain": [
       "dict"
      ]
     },
     "execution_count": 25,
     "metadata": {},
     "output_type": "execute_result"
    }
   ],
   "source": [
    "dic = {}\n",
    "type(dic)"
   ]
  },
  {
   "cell_type": "code",
   "execution_count": 26,
   "id": "2bb69ffc-b60f-4f83-a2c1-1ba6ad8059ca",
   "metadata": {},
   "outputs": [
    {
     "name": "stdout",
     "output_type": "stream",
     "text": [
      "{}\n"
     ]
    }
   ],
   "source": [
    "print(dic)"
   ]
  },
  {
   "cell_type": "code",
   "execution_count": 27,
   "id": "4d64227f-43c3-49f7-b048-4e0daafca832",
   "metadata": {},
   "outputs": [
    {
     "data": {
      "text/plain": [
       "dict"
      ]
     },
     "execution_count": 27,
     "metadata": {},
     "output_type": "execute_result"
    }
   ],
   "source": [
    "d=dict()\n",
    "type(d)"
   ]
  },
  {
   "cell_type": "code",
   "execution_count": 28,
   "id": "82918d9a-0d5f-4be8-ae69-edaa5f1952a6",
   "metadata": {},
   "outputs": [
    {
     "name": "stdout",
     "output_type": "stream",
     "text": [
      "{}\n"
     ]
    }
   ],
   "source": [
    "print(d)"
   ]
  },
  {
   "cell_type": "code",
   "execution_count": 50,
   "id": "3b92a0d4-6c10-41d0-9138-2e334abc814d",
   "metadata": {},
   "outputs": [
    {
     "data": {
      "text/plain": [
       "dict"
      ]
     },
     "execution_count": 50,
     "metadata": {},
     "output_type": "execute_result"
    }
   ],
   "source": [
    "# Let create a dictionary \n",
    "my_dict = {\"Car1\":\"Audi\", \"Car2\":\"BMW\", \"Car3\":\"Mercedes Benz\"}\n",
    "type(my_dict)"
   ]
  },
  {
   "cell_type": "code",
   "execution_count": 51,
   "id": "dcd936df-69b5-4312-bf30-f4dbcefb606c",
   "metadata": {},
   "outputs": [
    {
     "data": {
      "text/plain": [
       "'Audi'"
      ]
     },
     "execution_count": 51,
     "metadata": {},
     "output_type": "execute_result"
    }
   ],
   "source": [
    "#Access the item values based on keys\n",
    "my_dict['Car1']"
   ]
  },
  {
   "cell_type": "code",
   "execution_count": 20,
   "id": "1fbfdc30-52fd-471f-8b43-632f8d737c06",
   "metadata": {},
   "outputs": [],
   "source": [
    "dict1 = {'key1': 433, 'key2': [5,3,64], 'key3': (65,5,34), 'key4': ['item1', 'item2','item3']}"
   ]
  },
  {
   "cell_type": "code",
   "execution_count": 52,
   "id": "d6c84b58-35bc-4d3c-9230-d83ee154f358",
   "metadata": {},
   "outputs": [
    {
     "data": {
      "text/plain": [
       "[5, 3, 64]"
      ]
     },
     "execution_count": 52,
     "metadata": {},
     "output_type": "execute_result"
    }
   ],
   "source": [
    "dict1['key2']"
   ]
  },
  {
   "cell_type": "code",
   "execution_count": 53,
   "id": "aee3cc93-5e23-4719-a1e9-54c29782902b",
   "metadata": {},
   "outputs": [
    {
     "data": {
      "text/plain": [
       "dict_keys(['key1', 'key2', 'key3', 'key4'])"
      ]
     },
     "execution_count": 53,
     "metadata": {},
     "output_type": "execute_result"
    }
   ],
   "source": [
    "dict1.keys()"
   ]
  },
  {
   "cell_type": "code",
   "execution_count": 54,
   "id": "0d3379a9-8ff9-411e-b9cc-88d04ac89e47",
   "metadata": {},
   "outputs": [
    {
     "data": {
      "text/plain": [
       "dict_values([433, [5, 3, 64], (65, 5, 34), ['item1', 'item2', 'item3']])"
      ]
     },
     "execution_count": 54,
     "metadata": {},
     "output_type": "execute_result"
    }
   ],
   "source": [
    "dict1.values()"
   ]
  },
  {
   "cell_type": "code",
   "execution_count": 55,
   "id": "688975c4-771e-412e-b578-b77e34594e10",
   "metadata": {},
   "outputs": [
    {
     "data": {
      "text/plain": [
       "dict_items([('Car1', 'Audi'), ('Car2', 'BMW'), ('Car3', 'Mercedes Benz')])"
      ]
     },
     "execution_count": 55,
     "metadata": {},
     "output_type": "execute_result"
    }
   ],
   "source": [
    "my_dict.items()"
   ]
  },
  {
   "cell_type": "code",
   "execution_count": 56,
   "id": "156c4296-78d3-47b0-81c8-4792c73d9a21",
   "metadata": {},
   "outputs": [],
   "source": [
    "#Adding items in dictionaries\n",
    "my_dict['Car4']='Audi 2.0'"
   ]
  },
  {
   "cell_type": "code",
   "execution_count": 57,
   "id": "393e6188-bdeb-46e1-821d-b7b24c2d957f",
   "metadata": {},
   "outputs": [
    {
     "data": {
      "text/plain": [
       "{'Car1': 'Audi', 'Car2': 'BMW', 'Car3': 'Mercedes Benz', 'Car4': 'Audi 2.0'}"
      ]
     },
     "execution_count": 57,
     "metadata": {},
     "output_type": "execute_result"
    }
   ],
   "source": [
    "my_dict"
   ]
  },
  {
   "cell_type": "code",
   "execution_count": 58,
   "id": "c2b55f47-36cd-4344-89eb-307aca966cb3",
   "metadata": {},
   "outputs": [],
   "source": [
    "my_dict['Car1']='Maruti'"
   ]
  },
  {
   "cell_type": "code",
   "execution_count": 59,
   "id": "42dcb1e1-273b-458d-9b3b-4168fdd99445",
   "metadata": {},
   "outputs": [
    {
     "data": {
      "text/plain": [
       "{'Car1': 'Maruti', 'Car2': 'BMW', 'Car3': 'Mercedes Benz', 'Car4': 'Audi 2.0'}"
      ]
     },
     "execution_count": 59,
     "metadata": {},
     "output_type": "execute_result"
    }
   ],
   "source": [
    "my_dict"
   ]
  },
  {
   "cell_type": "markdown",
   "id": "3411337e-0ece-4c84-b505-ebcef47a6b65",
   "metadata": {},
   "source": [
    "### Nested Dictionary"
   ]
  },
  {
   "cell_type": "code",
   "execution_count": 2,
   "id": "cc2ca3b3-0046-4d44-806b-8ebf5eae70cd",
   "metadata": {},
   "outputs": [],
   "source": [
    "car1_model={'Mercedes':1960}\n",
    "car2_model={'Audi':1970}\n",
    "car3_model={'Ambassador':1980}\n",
    "\n",
    "car_type={'car1':car1_model,'car2':car2_model,'car3':car3_model}"
   ]
  },
  {
   "cell_type": "code",
   "execution_count": 3,
   "id": "6f6d9187-d2fa-4b33-aab6-e30d9ad0b8e4",
   "metadata": {},
   "outputs": [
    {
     "name": "stdout",
     "output_type": "stream",
     "text": [
      "{'car1': {'Mercedes': 1960}, 'car2': {'Audi': 1970}, 'car3': {'Ambassador': 1980}}\n"
     ]
    }
   ],
   "source": [
    "print(car_type)"
   ]
  },
  {
   "cell_type": "code",
   "execution_count": 4,
   "id": "e85ad386-ba93-4cde-8e28-ea599ff616ab",
   "metadata": {},
   "outputs": [
    {
     "name": "stdout",
     "output_type": "stream",
     "text": [
      "{'Mercedes': 1960}\n"
     ]
    }
   ],
   "source": [
    "#Accessing the items in the dictionary\n",
    "print(car_type['car1'])"
   ]
  },
  {
   "cell_type": "code",
   "execution_count": 5,
   "id": "0903f57b-8122-4e13-a340-c8c207471234",
   "metadata": {},
   "outputs": [
    {
     "name": "stdout",
     "output_type": "stream",
     "text": [
      "1960\n"
     ]
    }
   ],
   "source": [
    "print(car_type['car1']['Mercedes'])"
   ]
  },
  {
   "cell_type": "code",
   "execution_count": 14,
   "id": "c2ff4fe9-f96f-4df6-9c17-5470c9557df4",
   "metadata": {},
   "outputs": [],
   "source": [
    "marks={'math':72,'Geography':65,'Hindi':54}"
   ]
  },
  {
   "cell_type": "code",
   "execution_count": 15,
   "id": "9e4e2efa-0c67-4dfb-b492-c0008249a835",
   "metadata": {},
   "outputs": [
    {
     "data": {
      "text/plain": [
       "{'math': 72, 'Geography': 65, 'Hindi': 54, 'English': 68}"
      ]
     },
     "execution_count": 15,
     "metadata": {},
     "output_type": "execute_result"
    }
   ],
   "source": [
    "#adding elements\n",
    "marks['English']=68\n",
    "marks"
   ]
  },
  {
   "cell_type": "code",
   "execution_count": 16,
   "id": "923c470b-957f-48a2-93f7-b356eef59210",
   "metadata": {},
   "outputs": [
    {
     "data": {
      "text/plain": [
       "{'math': 72,\n",
       " 'Geography': 65,\n",
       " 'Hindi': 54,\n",
       " 'English': 68,\n",
       " 'Chemistry': 74,\n",
       " 'Physics': 95}"
      ]
     },
     "execution_count": 16,
     "metadata": {},
     "output_type": "execute_result"
    }
   ],
   "source": [
    "marks.update({'Chemistry':74,'Physics':95})\n",
    "marks"
   ]
  },
  {
   "cell_type": "code",
   "execution_count": 17,
   "id": "e10972af-74d6-48d9-9eea-398ce6bd7512",
   "metadata": {},
   "outputs": [
    {
     "data": {
      "text/plain": [
       "{'math': 72,\n",
       " 'Geography': 65,\n",
       " 'Hindi': 65,\n",
       " 'English': 68,\n",
       " 'Chemistry': 74,\n",
       " 'Physics': 95}"
      ]
     },
     "execution_count": 17,
     "metadata": {},
     "output_type": "execute_result"
    }
   ],
   "source": [
    "marks['Hindi']=65\n",
    "marks"
   ]
  },
  {
   "cell_type": "code",
   "execution_count": 18,
   "id": "eef14fe7-2294-49a0-8bcc-1db1d8eda92f",
   "metadata": {},
   "outputs": [
    {
     "data": {
      "text/plain": [
       "{'math': 72, 'Geography': 65, 'English': 68, 'Chemistry': 74, 'Physics': 95}"
      ]
     },
     "execution_count": 18,
     "metadata": {},
     "output_type": "execute_result"
    }
   ],
   "source": [
    "del marks['Hindi']\n",
    "marks"
   ]
  },
  {
   "cell_type": "code",
   "execution_count": 21,
   "id": "f57f1b9e-7ec9-464c-b128-c231cc3a9530",
   "metadata": {},
   "outputs": [
    {
     "data": {
      "text/plain": [
       "{'key1': 433,\n",
       " 'key2': [5, 3, 64],\n",
       " 'key3': (65, 5, 34),\n",
       " 'key4': ['item1', 'item2', 'item3']}"
      ]
     },
     "execution_count": 21,
     "metadata": {},
     "output_type": "execute_result"
    }
   ],
   "source": [
    "dict1"
   ]
  },
  {
   "cell_type": "code",
   "execution_count": 23,
   "id": "4c046d47-5d63-4222-865f-cf800ef856e2",
   "metadata": {},
   "outputs": [],
   "source": [
    "del dict1['key4'][1]"
   ]
  },
  {
   "cell_type": "code",
   "execution_count": 24,
   "id": "3980e764-022e-480e-b869-2b9e345b3225",
   "metadata": {},
   "outputs": [
    {
     "data": {
      "text/plain": [
       "{'key1': 433,\n",
       " 'key2': [5, 3, 64],\n",
       " 'key3': (65, 5, 34),\n",
       " 'key4': ['item1', 'item3']}"
      ]
     },
     "execution_count": 24,
     "metadata": {},
     "output_type": "execute_result"
    }
   ],
   "source": [
    "dict1"
   ]
  },
  {
   "cell_type": "code",
   "execution_count": 25,
   "id": "07494397-85e6-4376-bd75-17d25c34409f",
   "metadata": {},
   "outputs": [
    {
     "data": {
      "text/plain": [
       "[5, 3, 64]"
      ]
     },
     "execution_count": 25,
     "metadata": {},
     "output_type": "execute_result"
    }
   ],
   "source": [
    "dict1.pop('key2')"
   ]
  },
  {
   "cell_type": "code",
   "execution_count": 26,
   "id": "018402e9-c830-4122-91fc-c2d6af08d3f4",
   "metadata": {},
   "outputs": [
    {
     "data": {
      "text/plain": [
       "{'key1': 433, 'key3': (65, 5, 34), 'key4': ['item1', 'item3']}"
      ]
     },
     "execution_count": 26,
     "metadata": {},
     "output_type": "execute_result"
    }
   ],
   "source": [
    "dict1"
   ]
  },
  {
   "cell_type": "code",
   "execution_count": 27,
   "id": "6cfab910-00db-4e0f-9dc2-a77a84a7bd0a",
   "metadata": {},
   "outputs": [],
   "source": [
    "mix_dict = {1:54, 2:'stringvalue', 'name':['subrat','pintu','rama'],'key4':['person',4,9,21]}"
   ]
  },
  {
   "cell_type": "code",
   "execution_count": 29,
   "id": "5704a7f9-e4bd-4564-a549-541b1b882322",
   "metadata": {},
   "outputs": [
    {
     "data": {
      "text/plain": [
       "4"
      ]
     },
     "execution_count": 29,
     "metadata": {},
     "output_type": "execute_result"
    }
   ],
   "source": [
    "len(mix_dict['key4'])"
   ]
  },
  {
   "cell_type": "code",
   "execution_count": 30,
   "id": "ecb3f6f3-8152-4046-a00c-ea3190619f6a",
   "metadata": {},
   "outputs": [
    {
     "data": {
      "text/plain": [
       "['subrat', 'pintu', 'rama']"
      ]
     },
     "execution_count": 30,
     "metadata": {},
     "output_type": "execute_result"
    }
   ],
   "source": [
    "mix_dict['name']"
   ]
  },
  {
   "cell_type": "code",
   "execution_count": 31,
   "id": "51ec9c73-7548-4748-bf08-85ad9f298a28",
   "metadata": {},
   "outputs": [
    {
     "data": {
      "text/plain": [
       "'subrat'"
      ]
     },
     "execution_count": 31,
     "metadata": {},
     "output_type": "execute_result"
    }
   ],
   "source": [
    "mix_dict['name'][0]"
   ]
  }
 ],
 "metadata": {
  "kernelspec": {
   "display_name": "Python 3 (ipykernel)",
   "language": "python",
   "name": "python3"
  },
  "language_info": {
   "codemirror_mode": {
    "name": "ipython",
    "version": 3
   },
   "file_extension": ".py",
   "mimetype": "text/x-python",
   "name": "python",
   "nbconvert_exporter": "python",
   "pygments_lexer": "ipython3",
   "version": "3.11.7"
  }
 },
 "nbformat": 4,
 "nbformat_minor": 5
}
