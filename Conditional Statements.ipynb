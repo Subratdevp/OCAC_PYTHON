{
 "cells": [
  {
   "cell_type": "markdown",
   "id": "2c44e042-0384-4468-846b-b60ec41663d2",
   "metadata": {},
   "source": [
    "## Conditional Statements in Python"
   ]
  },
  {
   "cell_type": "raw",
   "id": "42e86c90-57e5-4385-b5fb-198dc974b161",
   "metadata": {},
   "source": [
    ".decision making statements\n",
    "1.if\n",
    "2.if-elif\n",
    "3.if-else\n",
    "4.if-elif-else\n",
    "5.nested if"
   ]
  },
  {
   "cell_type": "markdown",
   "id": "ccbd441b-f942-4bc9-8e84-39e2bc690a98",
   "metadata": {},
   "source": [
    "## if:"
   ]
  },
  {
   "cell_type": "raw",
   "id": "e0f1c20e-6cc8-4641-b05a-ceb8801e9cb3",
   "metadata": {},
   "source": [
    ".if statement syntax\n",
    "     *if test expression:\n",
    "           statement(s)\n",
    "\n",
    "The program evaluates the test expression and will execute statement(s) only if the test expression is True.\n",
    "if the test expression is False, the statement(s) is not executed."
   ]
  },
  {
   "cell_type": "markdown",
   "id": "546f2b98-f0a5-4b02-a641-c5ca9a515f8c",
   "metadata": {},
   "source": [
    "## Block Structure"
   ]
  },
  {
   "cell_type": "raw",
   "id": "e060ff2f-df20-42c4-b852-33a4d4fa5c51",
   "metadata": {},
   "source": [
    ".The code that is executed when a specific condition is met is defined in a \"block\".\n",
    ".in Python, the block structure is signalled by changes in indentation.\n",
    ".Each line of code in a certain block level must be indented equally and indented more   indented more than the surrounding scope.\n",
    ".The standard is to use 4 spaces for each level of block indentation.\n",
    ".Statements preceding blocks generally end with a colon(:)."
   ]
  },
  {
   "cell_type": "code",
   "execution_count": 2,
   "id": "9147ff7b-14b8-4675-883a-1b0686724493",
   "metadata": {},
   "outputs": [
    {
     "name": "stdout",
     "output_type": "stream",
     "text": [
      "Hi!\n",
      "subrat\n"
     ]
    }
   ],
   "source": [
    "if 1<2:\n",
    "    print('Hi!')\n",
    "    print('subrat')"
   ]
  },
  {
   "cell_type": "code",
   "execution_count": 4,
   "id": "96ef4cee-91a0-444a-a960-998c0fdbee55",
   "metadata": {},
   "outputs": [],
   "source": [
    "if 1>2:\n",
    "    print('Hi!')"
   ]
  },
  {
   "cell_type": "code",
   "execution_count": 5,
   "id": "6e9b9cd1-c3f3-4e95-be68-644da2f95669",
   "metadata": {},
   "outputs": [
    {
     "name": "stdout",
     "output_type": "stream",
     "text": [
      "subrat\n"
     ]
    }
   ],
   "source": [
    "if 1>2:\n",
    "    print('Hi!')\n",
    "print(\"subrat\")    "
   ]
  },
  {
   "cell_type": "code",
   "execution_count": 7,
   "id": "b002446d-367f-4dc7-836d-b636781ae68e",
   "metadata": {},
   "outputs": [
    {
     "name": "stdin",
     "output_type": "stream",
     "text": [
      "Enter Name: subrat\n"
     ]
    },
    {
     "name": "stdout",
     "output_type": "stream",
     "text": [
      "Hello subrat Good Morning\n"
     ]
    }
   ],
   "source": [
    "name=input(\"Enter Name:\")\n",
    "if name ==\"subrat\" :\n",
    "    print(\"Hello subrat Good Morning\")"
   ]
  },
  {
   "cell_type": "markdown",
   "id": "4f485983-528b-4bf6-98a0-69f81e9f369f",
   "metadata": {},
   "source": [
    "## if-else Syntax:"
   ]
  },
  {
   "cell_type": "raw",
   "id": "8c28ac3b-a513-41d3-92a0-6dcf7a793c35",
   "metadata": {},
   "source": [
    "if test expression:\n",
    "\n",
    "     Body of if\n",
    "else:\n",
    "     Body of else"
   ]
  },
  {
   "cell_type": "code",
   "execution_count": 8,
   "id": "ec7f1bc9-1d0b-4eed-8550-e3fb834e6888",
   "metadata": {},
   "outputs": [
    {
     "name": "stdout",
     "output_type": "stream",
     "text": [
      "first\n"
     ]
    }
   ],
   "source": [
    "if 1<2:\n",
    "    print('first')\n",
    "else:\n",
    "    print('last')"
   ]
  },
  {
   "cell_type": "code",
   "execution_count": 9,
   "id": "9f45e1cb-95d0-4138-aec8-257cda7a743a",
   "metadata": {},
   "outputs": [
    {
     "name": "stdout",
     "output_type": "stream",
     "text": [
      "last\n"
     ]
    }
   ],
   "source": [
    "if 1>2:\n",
    "    print('first')\n",
    "else:\n",
    "    print('last')"
   ]
  },
  {
   "cell_type": "code",
   "execution_count": 12,
   "id": "c67e30c7-ddbc-4b9b-afae-442ea68472e5",
   "metadata": {},
   "outputs": [
    {
     "name": "stdin",
     "output_type": "stream",
     "text": [
      "enter a number: 8\n"
     ]
    },
    {
     "name": "stdout",
     "output_type": "stream",
     "text": [
      "8 is even number\n"
     ]
    }
   ],
   "source": [
    "# Take a variable x and print \"Even\" if the number is divisible by 2, otherwise print \"odd\".\n",
    "x=int(input('enter a number:'))\n",
    "if (x%2==0):\n",
    "    print(x,'is even number')\n",
    "else:\n",
    "    print(x,'is odd number')"
   ]
  },
  {
   "cell_type": "code",
   "execution_count": 14,
   "id": "414ed505-6dc6-42eb-88aa-fbf6dbff3361",
   "metadata": {},
   "outputs": [
    {
     "name": "stdin",
     "output_type": "stream",
     "text": [
      "Enter Name: pintu\n"
     ]
    },
    {
     "name": "stdout",
     "output_type": "stream",
     "text": [
      "Hello pintu Good Morning\n"
     ]
    }
   ],
   "source": [
    "name=input(\"Enter Name:\")\n",
    "if name==\"subrat\":\n",
    "    print(\"Hello subrat Good Morning\")\n",
    "else:\n",
    "    print(\"Hello\",name,\"Good Morning\")"
   ]
  },
  {
   "cell_type": "code",
   "execution_count": 15,
   "id": "a06db14b-1d2f-4cb5-a2e0-41bf635addee",
   "metadata": {},
   "outputs": [
    {
     "name": "stdout",
     "output_type": "stream",
     "text": [
      "AI\n",
      "ML\n"
     ]
    }
   ],
   "source": [
    "#keyword 'in' is used to test if an item is in a list\n",
    "lst = ['one','two','three','four']\n",
    "\n",
    "if 'two' in lst:\n",
    "    print('AI')\n",
    "#keyword 'not' can combined with 'in'\n",
    "if 'six' not in lst:\n",
    "    print('ML')"
   ]
  },
  {
   "cell_type": "code",
   "execution_count": 23,
   "id": "f808b5e6-9010-44aa-9f63-9732959be99b",
   "metadata": {},
   "outputs": [
    {
     "name": "stdin",
     "output_type": "stream",
     "text": [
      " 4\n"
     ]
    },
    {
     "name": "stdout",
     "output_type": "stream",
     "text": [
      "4 is positive\n"
     ]
    }
   ],
   "source": [
    "#given number is positive or negative\n",
    "a=int(input())\n",
    "if(a>=0):\n",
    "    print(a,'is positive')\n",
    "else:\n",
    "    print(a,'is negative number')"
   ]
  },
  {
   "cell_type": "code",
   "execution_count": 26,
   "id": "76d93a93-6106-4870-8813-d34b6dc021a3",
   "metadata": {},
   "outputs": [
    {
     "name": "stdout",
     "output_type": "stream",
     "text": [
      "8 is even number\n",
      "this is out of if else block\n"
     ]
    }
   ],
   "source": [
    "x = 8\n",
    "if x%2 == 0 :\n",
    "    print(x,\"is even number\")\n",
    "else:\n",
    "    print(x,\"is odd number\")\n",
    "print(\"this is out of if else block\")    "
   ]
  },
  {
   "cell_type": "markdown",
   "id": "0bb4b126-076a-48b9-b2af-aa354873fa47",
   "metadata": {},
   "source": [
    "## if-elif-else Syntax:"
   ]
  },
  {
   "cell_type": "raw",
   "id": "9b432337-db98-46c8-9cb7-f96961e66f65",
   "metadata": {},
   "source": [
    "if test expression:\n",
    "         Body of if\n",
    "\n",
    "elif test expression:\n",
    "         Body of elif\n",
    "\n",
    "else:\n",
    "         Body of else"
   ]
  },
  {
   "cell_type": "code",
   "execution_count": 8,
   "id": "08fdf1b7-cd42-4536-889e-8ace72398af2",
   "metadata": {},
   "outputs": [
    {
     "name": "stdout",
     "output_type": "stream",
     "text": [
      "first\n"
     ]
    }
   ],
   "source": [
    "if 2 == 2:\n",
    "    print('first')\n",
    "elif 3 == 3:\n",
    "    print('middle')"
   ]
  },
  {
   "cell_type": "code",
   "execution_count": 9,
   "id": "34462a22-5991-4d95-bd24-a726069fb1a4",
   "metadata": {},
   "outputs": [
    {
     "name": "stdout",
     "output_type": "stream",
     "text": [
      "Grade C\n"
     ]
    }
   ],
   "source": [
    "#Take a variable y and print \"Grade A\" if y is greater than 90,\"Grade B\" if y is greater than 60 but less than or equal to 90 and \"Grade F\" Otherwise.\n",
    "y=60\n",
    "\n",
    "if y>90:\n",
    "    print(\"Grade A\")\n",
    "elif y>60:\n",
    "    print(\"Grade B\")\n",
    "elif y>40:\n",
    "    print(\"Grade C\")\n",
    "else:\n",
    "    print(\"Grade F\")"
   ]
  },
  {
   "cell_type": "code",
   "execution_count": 13,
   "id": "d47bcf6d-4fdd-44e4-85bc-e0373030a22c",
   "metadata": {},
   "outputs": [
    {
     "name": "stdout",
     "output_type": "stream",
     "text": [
      "I am in elif block\n",
      "x is negative\n"
     ]
    }
   ],
   "source": [
    "x=-45.99\n",
    "\n",
    "if ((x>0) or (x==-100)):\n",
    "    print(\"x is positive value or -100\")\n",
    "    print(\"I am if loop\")\n",
    "elif (x<0):\n",
    "    print(\"I am in elif block\")\n",
    "    print(\"x is negative\")\n",
    "else:\n",
    "    print(\"x is zero\")"
   ]
  },
  {
   "cell_type": "code",
   "execution_count": 14,
   "id": "149cc1df-f8b8-4347-aaf9-8991cbcb6ce1",
   "metadata": {},
   "outputs": [
    {
     "name": "stdout",
     "output_type": "stream",
     "text": [
      "negative\n",
      "I am out of IF block\n"
     ]
    }
   ],
   "source": [
    "x=-20\n",
    "\n",
    "if x > 0:\n",
    "    print('positive')\n",
    "    print('hello')\n",
    "elif x == 0:\n",
    "    print('zero')\n",
    "else:\n",
    "    print('negative')\n",
    "print(\"I am out of IF block\")      "
   ]
  },
  {
   "cell_type": "code",
   "execution_count": 16,
   "id": "351cfd82-8ccb-41d5-91cb-784d72798b58",
   "metadata": {},
   "outputs": [
    {
     "name": "stdin",
     "output_type": "stream",
     "text": [
      "Enter your Favourite Brand: FO\n"
     ]
    },
    {
     "name": "stdout",
     "output_type": "stream",
     "text": [
      "Buy one get free One\n"
     ]
    }
   ],
   "source": [
    "brand=input(\"Enter your Favourite Brand:\")\n",
    "if brand==\"RC\":\n",
    "    print(\"It is childrens brand\")\n",
    "elif brand==\"KF\":\n",
    "    print(\"It is not that much kick\")\n",
    "elif brand==\"FO\":\n",
    "    print(\"Buy one get free One\")\n",
    "elif brand==\"RC\":\n",
    "    print(\"It is brand\")\n",
    "else:\n",
    "    print(\"other Brands are not recommended\")"
   ]
  },
  {
   "cell_type": "code",
   "execution_count": 17,
   "id": "6aa5a080-3d56-4db8-96a1-f73c3b3fe621",
   "metadata": {},
   "outputs": [
    {
     "name": "stdout",
     "output_type": "stream",
     "text": [
      "All is well with the world\n"
     ]
    },
    {
     "name": "stderr",
     "output_type": "stream",
     "text": [
      "<>:1: SyntaxWarning: \"is\" with a literal. Did you mean \"==\"?\n",
      "<>:1: SyntaxWarning: \"is\" with a literal. Did you mean \"==\"?\n",
      "C:\\Users\\Subrat Jena\\AppData\\Local\\Temp\\ipykernel_18988\\2903924622.py:1: SyntaxWarning: \"is\" with a literal. Did you mean \"==\"?\n",
      "  if 1 is 3:\n"
     ]
    }
   ],
   "source": [
    "if 1 is 3:\n",
    "    print(\"How did that happen?\")\n",
    "elif 1 > 3:\n",
    "    print(\"Yikes\")\n",
    "else:\n",
    "    print(\"All is well with the world\")"
   ]
  },
  {
   "cell_type": "code",
   "execution_count": 19,
   "id": "90fa5808-f9d7-4091-a191-b3f4b8790cca",
   "metadata": {},
   "outputs": [
    {
     "name": "stdin",
     "output_type": "stream",
     "text": [
      "enter marks: 95\n"
     ]
    },
    {
     "name": "stdout",
     "output_type": "stream",
     "text": [
      "95  A grade\n"
     ]
    }
   ],
   "source": [
    "'''findout the grades based on student marks\n",
    "85-100 - A grade\n",
    "75-85 - b grade\n",
    "65-75 - c grade\n",
    "55-65 - d grade\n",
    "45-55 - e grade\n",
    "0-45 - fail\n",
    "'''\n",
    "a=int(float(input('enter marks:')))\n",
    "\n",
    "if (a>85 and a<=100):\n",
    "    print(a,' A grade')\n",
    "elif (a<=85 and a>75):\n",
    "    print(a,' B grade')\n",
    "elif (a<=75 and a>65):\n",
    "    print(a,' C grade')\n",
    "elif (a<=65 and a>55):\n",
    "    print(a,' D grade')\n",
    "elif (a<=55 and a>45):\n",
    "    print(a,' E grade')\n",
    "else:\n",
    "    print(a,'fail')"
   ]
  },
  {
   "cell_type": "code",
   "execution_count": 20,
   "id": "da5eb1e4-3575-4046-a34b-4c77ad9982fa",
   "metadata": {},
   "outputs": [
    {
     "name": "stdin",
     "output_type": "stream",
     "text": [
      "Enter First Number: 8\n",
      "Enter Second Number: 14\n"
     ]
    },
    {
     "name": "stdout",
     "output_type": "stream",
     "text": [
      "Biggest Number is: 14\n"
     ]
    }
   ],
   "source": [
    "# Write a program to find Biggest of given 2 Numbers from the input console?\n",
    "\n",
    "n1=int(input(\"Enter First Number:\"))\n",
    "n2=int(input(\"Enter Second Number:\"))\n",
    "if n1>n2:\n",
    "    print(\"Biggest Number is:\",n1)\n",
    "else:\n",
    "    print(\"Biggest Number is:\",n2)"
   ]
  },
  {
   "cell_type": "code",
   "execution_count": 21,
   "id": "549c5a5b-4132-49ee-a201-4107e1918900",
   "metadata": {},
   "outputs": [
    {
     "name": "stdin",
     "output_type": "stream",
     "text": [
      "Enter First Number: 6\n",
      "Enter Second Number: 9\n",
      "Enter Third Number: 43\n"
     ]
    },
    {
     "name": "stdout",
     "output_type": "stream",
     "text": [
      "43 is the Largest\n"
     ]
    }
   ],
   "source": [
    "# Write a program to find largest of given 3 Numbers from the input console?\n",
    "n1=int(input(\"Enter First Number:\"))\n",
    "n2=int(input(\"Enter Second Number:\"))\n",
    "n3=int(input(\"Enter Third Number:\"))\n",
    "if n1>n2 and n1>n3:\n",
    "    print(n1,\"is the Largest\")\n",
    "elif n2>n3:\n",
    "    print(n2,\"is the Largest\")\n",
    "else:\n",
    "    print(n3,\"is the Largest\")"
   ]
  },
  {
   "cell_type": "code",
   "execution_count": 22,
   "id": "fa0db729-c8d0-4bd9-93a5-dd941d83cc9e",
   "metadata": {},
   "outputs": [
    {
     "name": "stdin",
     "output_type": "stream",
     "text": [
      "Enter first string: subrat\n",
      "Enter second string: pintu\n"
     ]
    },
    {
     "name": "stdout",
     "output_type": "stream",
     "text": [
      "First string is greater than second string\n"
     ]
    }
   ],
   "source": [
    "# Comparison of Strings: We can use comparison operators (<,<=,>,>=) and equality operators (==,!=) for Strings.Comparison will be performed based on alphabetical order.\n",
    "s1=input(\"Enter first string:\")\n",
    "s2=input(\"Enter second string:\")\n",
    "if s1==s2:\n",
    "    print(\"Both strings are equal\")\n",
    "elif s1<s2:\n",
    "    print(\"First string is less than second string\")\n",
    "else:\n",
    "    print(\"First string is greater than second string\")"
   ]
  },
  {
   "cell_type": "markdown",
   "id": "7331283d-e3d3-45dc-bcf5-0134a9853d69",
   "metadata": {},
   "source": [
    "## Nested if Statements"
   ]
  },
  {
   "cell_type": "raw",
   "id": "192dbc00-24f6-404a-8782-c7d1e2d93b3b",
   "metadata": {},
   "source": [
    "We can have a if...elif...else statement inside another if...elif...else statement. This is called nesting in computer programming."
   ]
  },
  {
   "cell_type": "code",
   "execution_count": 24,
   "id": "0ea57562-9c82-42fd-9cc1-ea762956602f",
   "metadata": {},
   "outputs": [
    {
     "name": "stdout",
     "output_type": "stream",
     "text": [
      "Positive Number\n"
     ]
    }
   ],
   "source": [
    "num = 10\n",
    "\n",
    "if num >= 0:\n",
    "    if num == 0:\n",
    "        print(\"not\")\n",
    "    else:\n",
    "        print(\"Positive Number\")\n",
    "else:\n",
    "    print(\"Negative Number\")"
   ]
  },
  {
   "cell_type": "code",
   "execution_count": 27,
   "id": "8fa20243-96c6-41d2-a6e4-aed8cac8a326",
   "metadata": {},
   "outputs": [
    {
     "name": "stdout",
     "output_type": "stream",
     "text": [
      "less than 4\n",
      "ye looo\n"
     ]
    }
   ],
   "source": [
    "i = 2.1\n",
    "if(i < 4):\n",
    "    print('less than 4')\n",
    "    if i>2:\n",
    "        print(\"ye looo\")\n",
    "elif i < 8:\n",
    "    print('less than 8')\n",
    "else:\n",
    "    print('8 or more')"
   ]
  },
  {
   "cell_type": "code",
   "execution_count": 31,
   "id": "92610ed2-c20e-4ee5-8608-375e3e731465",
   "metadata": {},
   "outputs": [
    {
     "name": "stdin",
     "output_type": "stream",
     "text": [
      "enter your pin 1234\n",
      "with draw amount: 25000\n"
     ]
    },
    {
     "name": "stdout",
     "output_type": "stream",
     "text": [
      "25000 not sufficient amounts in your account\n"
     ]
    }
   ],
   "source": [
    "# next program on bank transction using conditional statements\n",
    "amount=20000\n",
    "pin=1234\n",
    "if (int(input('enter your pin'))==1234):\n",
    "    with_draw=int(input('with draw amount:'))\n",
    "    if (with_draw<=amount):\n",
    "        print(with_draw,'successfully transaction completed')\n",
    "    else:\n",
    "        print(with_draw,'not sufficient amounts in your account')\n",
    "else:\n",
    "    print('invalid pin number')"
   ]
  }
 ],
 "metadata": {
  "kernelspec": {
   "display_name": "Python 3 (ipykernel)",
   "language": "python",
   "name": "python3"
  },
  "language_info": {
   "codemirror_mode": {
    "name": "ipython",
    "version": 3
   },
   "file_extension": ".py",
   "mimetype": "text/x-python",
   "name": "python",
   "nbconvert_exporter": "python",
   "pygments_lexer": "ipython3",
   "version": "3.11.7"
  }
 },
 "nbformat": 4,
 "nbformat_minor": 5
}
