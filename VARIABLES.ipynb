{
 "cells": [
  {
   "cell_type": "code",
   "execution_count": 1,
   "id": "7758b7d8-da5f-4b12-9dcd-ac5a16e7f753",
   "metadata": {},
   "outputs": [
    {
     "data": {
      "text/plain": [
       "'SUBRAT'"
      ]
     },
     "execution_count": 1,
     "metadata": {},
     "output_type": "execute_result"
    }
   ],
   "source": [
    "C = 'SUBRAT'\n",
    "C"
   ]
  },
  {
   "cell_type": "code",
   "execution_count": 3,
   "id": "337649c2-f78c-49ae-aea6-60f2e822afb7",
   "metadata": {},
   "outputs": [
    {
     "ename": "NameError",
     "evalue": "name 'b' is not defined",
     "output_type": "error",
     "traceback": [
      "\u001b[1;31m---------------------------------------------------------------------------\u001b[0m",
      "\u001b[1;31mNameError\u001b[0m                                 Traceback (most recent call last)",
      "Cell \u001b[1;32mIn[3], line 1\u001b[0m\n\u001b[1;32m----> 1\u001b[0m \u001b[38;5;28mprint\u001b[39m(b)\n",
      "\u001b[1;31mNameError\u001b[0m: name 'b' is not defined"
     ]
    }
   ],
   "source": [
    "print(b)"
   ]
  },
  {
   "cell_type": "code",
   "execution_count": 4,
   "id": "3cf301ee-7113-4854-b8d8-25df14f7106f",
   "metadata": {},
   "outputs": [
    {
     "data": {
      "text/plain": [
       "34"
      ]
     },
     "execution_count": 4,
     "metadata": {},
     "output_type": "execute_result"
    }
   ],
   "source": [
    "a = 34\n",
    "a"
   ]
  },
  {
   "cell_type": "code",
   "execution_count": 5,
   "id": "c5c1ad9c-43d6-4aa4-ae3b-d3f0306f5cf9",
   "metadata": {},
   "outputs": [
    {
     "data": {
      "text/plain": [
       "int"
      ]
     },
     "execution_count": 5,
     "metadata": {},
     "output_type": "execute_result"
    }
   ],
   "source": [
    "type(a)"
   ]
  },
  {
   "cell_type": "code",
   "execution_count": 6,
   "id": "e7c4d067-1314-4df3-b4e9-244fd1e9c48f",
   "metadata": {},
   "outputs": [
    {
     "ename": "NameError",
     "evalue": "name 'b' is not defined",
     "output_type": "error",
     "traceback": [
      "\u001b[1;31m---------------------------------------------------------------------------\u001b[0m",
      "\u001b[1;31mNameError\u001b[0m                                 Traceback (most recent call last)",
      "Cell \u001b[1;32mIn[6], line 1\u001b[0m\n\u001b[1;32m----> 1\u001b[0m \u001b[38;5;28mtype\u001b[39m(b)\n",
      "\u001b[1;31mNameError\u001b[0m: name 'b' is not defined"
     ]
    }
   ],
   "source": [
    "type(b)"
   ]
  },
  {
   "cell_type": "code",
   "execution_count": 7,
   "id": "9fa5d16b-c2eb-44b9-b499-f1ef99066b74",
   "metadata": {},
   "outputs": [
    {
     "data": {
      "text/plain": [
       "'SUBRAT'"
      ]
     },
     "execution_count": 7,
     "metadata": {},
     "output_type": "execute_result"
    }
   ],
   "source": [
    "b = 'SUBRAT'\n",
    "b"
   ]
  },
  {
   "cell_type": "code",
   "execution_count": 8,
   "id": "9f14731a-a05a-4c4b-9676-29ff620f9e35",
   "metadata": {},
   "outputs": [
    {
     "data": {
      "text/plain": [
       "65"
      ]
     },
     "execution_count": 8,
     "metadata": {},
     "output_type": "execute_result"
    }
   ],
   "source": [
    "ib = 65\n",
    "ib"
   ]
  },
  {
   "cell_type": "code",
   "execution_count": 11,
   "id": "5a9fb89f-cd7b-49b6-8a9d-1fb74d75b3e1",
   "metadata": {},
   "outputs": [
    {
     "data": {
      "text/plain": [
       "'74'"
      ]
     },
     "execution_count": 11,
     "metadata": {},
     "output_type": "execute_result"
    }
   ],
   "source": [
    "c = \"74\"\n",
    "c"
   ]
  },
  {
   "cell_type": "code",
   "execution_count": 12,
   "id": "bb84cad3-4060-480d-ae46-d4f977af8067",
   "metadata": {},
   "outputs": [
    {
     "data": {
      "text/plain": [
       "str"
      ]
     },
     "execution_count": 12,
     "metadata": {},
     "output_type": "execute_result"
    }
   ],
   "source": [
    "type(c)"
   ]
  },
  {
   "cell_type": "code",
   "execution_count": 13,
   "id": "eda0f188-a4fd-4325-a9ad-47ba6baa9e5a",
   "metadata": {},
   "outputs": [
    {
     "data": {
      "text/plain": [
       "'85a'"
      ]
     },
     "execution_count": 13,
     "metadata": {},
     "output_type": "execute_result"
    }
   ],
   "source": [
    "cd = \"85a\"\n",
    "cd"
   ]
  },
  {
   "cell_type": "code",
   "execution_count": 14,
   "id": "be18ce42-df29-42be-a9bc-39edf1071891",
   "metadata": {},
   "outputs": [
    {
     "data": {
      "text/plain": [
       "str"
      ]
     },
     "execution_count": 14,
     "metadata": {},
     "output_type": "execute_result"
    }
   ],
   "source": [
    "type(cd)"
   ]
  },
  {
   "cell_type": "code",
   "execution_count": 15,
   "id": "f135cf72-2e2a-43c3-9d27-89299e66ccda",
   "metadata": {},
   "outputs": [
    {
     "name": "stdout",
     "output_type": "stream",
     "text": [
      "['False', 'None', 'True', 'and', 'as', 'assert', 'async', 'await', 'break', 'class', 'continue', 'def', 'del', 'elif', 'else', 'except', 'finally', 'for', 'from', 'global', 'if', 'import', 'in', 'is', 'lambda', 'nonlocal', 'not', 'or', 'pass', 'raise', 'return', 'try', 'while', 'with', 'yield']\n"
     ]
    }
   ],
   "source": [
    "import keyword\n",
    "print(keyword.kwlist)"
   ]
  },
  {
   "cell_type": "code",
   "execution_count": 17,
   "id": "d0065882-3380-4474-a7d0-8197efe9bbf3",
   "metadata": {},
   "outputs": [
    {
     "data": {
      "text/plain": [
       "35"
      ]
     },
     "execution_count": 17,
     "metadata": {},
     "output_type": "execute_result"
    }
   ],
   "source": [
    "len(keyword.kwlist)"
   ]
  },
  {
   "cell_type": "code",
   "execution_count": 18,
   "id": "a5767f31-539e-4b60-ba61-2366c8b6a485",
   "metadata": {},
   "outputs": [
    {
     "ename": "SyntaxError",
     "evalue": "cannot assign to False (980383117.py, line 1)",
     "output_type": "error",
     "traceback": [
      "\u001b[1;36m  Cell \u001b[1;32mIn[18], line 1\u001b[1;36m\u001b[0m\n\u001b[1;33m    False = \"3654\"\u001b[0m\n\u001b[1;37m    ^\u001b[0m\n\u001b[1;31mSyntaxError\u001b[0m\u001b[1;31m:\u001b[0m cannot assign to False\n"
     ]
    }
   ],
   "source": [
    "False = \"3654\"\n",
    "False"
   ]
  },
  {
   "cell_type": "code",
   "execution_count": 19,
   "id": "994ae11b-e2a5-461f-bb3f-ed8fb66a920e",
   "metadata": {},
   "outputs": [
    {
     "data": {
      "text/plain": [
       "54"
      ]
     },
     "execution_count": 19,
     "metadata": {},
     "output_type": "execute_result"
    }
   ],
   "source": [
    "a1 = 54\n",
    "a1"
   ]
  },
  {
   "cell_type": "code",
   "execution_count": 20,
   "id": "82f4f687-af75-4a93-bfec-3bde0ae39bfe",
   "metadata": {},
   "outputs": [
    {
     "ename": "SyntaxError",
     "evalue": "invalid decimal literal (3942057495.py, line 1)",
     "output_type": "error",
     "traceback": [
      "\u001b[1;36m  Cell \u001b[1;32mIn[20], line 1\u001b[1;36m\u001b[0m\n\u001b[1;33m    1b = 35\u001b[0m\n\u001b[1;37m    ^\u001b[0m\n\u001b[1;31mSyntaxError\u001b[0m\u001b[1;31m:\u001b[0m invalid decimal literal\n"
     ]
    }
   ],
   "source": [
    "1b = 35\n",
    "1b"
   ]
  },
  {
   "cell_type": "code",
   "execution_count": 21,
   "id": "7e83c3c3-f888-4505-9033-4a2d9a8f449c",
   "metadata": {},
   "outputs": [
    {
     "ename": "SyntaxError",
     "evalue": "invalid syntax (3442118336.py, line 1)",
     "output_type": "error",
     "traceback": [
      "\u001b[1;36m  Cell \u001b[1;32mIn[21], line 1\u001b[1;36m\u001b[0m\n\u001b[1;33m    b$7 = 65\u001b[0m\n\u001b[1;37m     ^\u001b[0m\n\u001b[1;31mSyntaxError\u001b[0m\u001b[1;31m:\u001b[0m invalid syntax\n"
     ]
    }
   ],
   "source": [
    "b$7 = 65\n",
    "b$7 "
   ]
  },
  {
   "cell_type": "code",
   "execution_count": 22,
   "id": "dffdd0a6-f611-46ed-b27b-43885234150c",
   "metadata": {},
   "outputs": [
    {
     "data": {
      "text/plain": [
       "624"
      ]
     },
     "execution_count": 22,
     "metadata": {},
     "output_type": "execute_result"
    }
   ],
   "source": [
    "b_6 = 624\n",
    "b_6"
   ]
  },
  {
   "cell_type": "code",
   "execution_count": 23,
   "id": "36d9eea5-d7d6-4c58-a94d-b00fbf056653",
   "metadata": {},
   "outputs": [
    {
     "data": {
      "text/plain": [
       "2566676598288"
      ]
     },
     "execution_count": 23,
     "metadata": {},
     "output_type": "execute_result"
    }
   ],
   "source": [
    "#StorageLocation\n",
    "id(b_6)"
   ]
  },
  {
   "cell_type": "code",
   "execution_count": 24,
   "id": "9e180b72-9b10-4cc2-9510-79315d9091fa",
   "metadata": {},
   "outputs": [
    {
     "data": {
      "text/plain": [
       "2566676599568"
      ]
     },
     "execution_count": 24,
     "metadata": {},
     "output_type": "execute_result"
    }
   ],
   "source": [
    "v = 605\n",
    "v\n",
    "id(v)"
   ]
  },
  {
   "cell_type": "code",
   "execution_count": 25,
   "id": "6712f7e4-0d0d-4c10-b8c7-3676385dc5b7",
   "metadata": {},
   "outputs": [
    {
     "data": {
      "text/plain": [
       "2566676599440"
      ]
     },
     "execution_count": 25,
     "metadata": {},
     "output_type": "execute_result"
    }
   ],
   "source": [
    "v = 604\n",
    "id(v)"
   ]
  },
  {
   "cell_type": "code",
   "execution_count": 26,
   "id": "6de40f57-24d6-4960-a72c-bd7341f9808b",
   "metadata": {},
   "outputs": [
    {
     "data": {
      "text/plain": [
       "140728701210024"
      ]
     },
     "execution_count": 26,
     "metadata": {},
     "output_type": "execute_result"
    }
   ],
   "source": [
    "b = 85\n",
    "c = 74\n",
    "id(b)"
   ]
  },
  {
   "cell_type": "code",
   "execution_count": 27,
   "id": "9ac37867-5bf2-4432-80d1-403cd688c443",
   "metadata": {},
   "outputs": [
    {
     "data": {
      "text/plain": [
       "140728701209672"
      ]
     },
     "execution_count": 27,
     "metadata": {},
     "output_type": "execute_result"
    }
   ],
   "source": [
    "id(c)"
   ]
  },
  {
   "cell_type": "code",
   "execution_count": 28,
   "id": "387ee957-d9ac-4508-9209-f41308f24a48",
   "metadata": {},
   "outputs": [
    {
     "data": {
      "text/plain": [
       "140728701209448"
      ]
     },
     "execution_count": 28,
     "metadata": {},
     "output_type": "execute_result"
    }
   ],
   "source": [
    "d = 67\n",
    "id(d)"
   ]
  },
  {
   "cell_type": "code",
   "execution_count": 30,
   "id": "b4d2dda8-08cb-420e-8fb6-5be82ffe7795",
   "metadata": {},
   "outputs": [
    {
     "data": {
      "text/plain": [
       "140728701209384"
      ]
     },
     "execution_count": 30,
     "metadata": {},
     "output_type": "execute_result"
    }
   ],
   "source": [
    "d = 65\n",
    "id(d)"
   ]
  },
  {
   "cell_type": "code",
   "execution_count": 33,
   "id": "9bf9a22a-d39a-49e2-b455-57715f48b5c7",
   "metadata": {},
   "outputs": [
    {
     "name": "stdout",
     "output_type": "stream",
     "text": [
      "the summation of two numbers are  35\n"
     ]
    }
   ],
   "source": [
    "a = 20\n",
    "b = 15\n",
    "sum = a+b\n",
    "print(\"the summation of two numbers are \", sum)"
   ]
  },
  {
   "cell_type": "code",
   "execution_count": 34,
   "id": "c6ba7bfb-5f81-4229-b688-2ba192ecc5e8",
   "metadata": {},
   "outputs": [
    {
     "name": "stdout",
     "output_type": "stream",
     "text": [
      "the summation of two numbers are sum  35\n"
     ]
    }
   ],
   "source": [
    "a = 20\n",
    "b = 15\n",
    "sum = a+b\n",
    "print(\"the summation of two numbers are sum \", sum)"
   ]
  },
  {
   "cell_type": "code",
   "execution_count": 35,
   "id": "d62de494-7af4-4dce-80c5-71f8c90a95c9",
   "metadata": {},
   "outputs": [
    {
     "data": {
      "text/plain": [
       "('the summation of two numbers are sum ', 35)"
      ]
     },
     "execution_count": 35,
     "metadata": {},
     "output_type": "execute_result"
    }
   ],
   "source": [
    "\"the summation of two numbers are sum \", sum"
   ]
  },
  {
   "cell_type": "code",
   "execution_count": 36,
   "id": "6d90f324-c881-41f9-9f86-46b51ed40f5e",
   "metadata": {},
   "outputs": [
    {
     "data": {
      "text/plain": [
       "35"
      ]
     },
     "execution_count": 36,
     "metadata": {},
     "output_type": "execute_result"
    }
   ],
   "source": [
    "sum"
   ]
  },
  {
   "cell_type": "code",
   "execution_count": 37,
   "id": "c29b20a1-ebe8-4570-978a-c538f45d19ae",
   "metadata": {},
   "outputs": [
    {
     "data": {
      "text/plain": [
       "6"
      ]
     },
     "execution_count": 37,
     "metadata": {},
     "output_type": "execute_result"
    }
   ],
   "source": [
    "a = b =c =6\n",
    "a"
   ]
  },
  {
   "cell_type": "code",
   "execution_count": 38,
   "id": "b47f6935-88f5-4734-b1f2-ddbc5dafd779",
   "metadata": {},
   "outputs": [
    {
     "data": {
      "text/plain": [
       "6"
      ]
     },
     "execution_count": 38,
     "metadata": {},
     "output_type": "execute_result"
    }
   ],
   "source": [
    "b"
   ]
  },
  {
   "cell_type": "code",
   "execution_count": 39,
   "id": "f4d024a6-1524-40cd-bf6a-54bf2cec818f",
   "metadata": {},
   "outputs": [
    {
     "data": {
      "text/plain": [
       "6"
      ]
     },
     "execution_count": 39,
     "metadata": {},
     "output_type": "execute_result"
    }
   ],
   "source": [
    "c"
   ]
  },
  {
   "cell_type": "code",
   "execution_count": 40,
   "id": "57349b20-a9fd-4a91-94c1-f6cc78eb51ee",
   "metadata": {},
   "outputs": [
    {
     "name": "stdout",
     "output_type": "stream",
     "text": [
      "67 74 84\n"
     ]
    }
   ],
   "source": [
    "a = 67\n",
    "b = 74\n",
    "c = 84\n",
    "abc = 92\n",
    "print(a,b,c)"
   ]
  },
  {
   "cell_type": "code",
   "execution_count": 42,
   "id": "42d70fd6-1191-4c91-93a3-bb7bc92c2e8d",
   "metadata": {},
   "outputs": [
    {
     "name": "stdout",
     "output_type": "stream",
     "text": [
      "92\n"
     ]
    }
   ],
   "source": [
    "print(abc)"
   ]
  },
  {
   "cell_type": "code",
   "execution_count": 43,
   "id": "63b41193-b3c1-4905-95f8-7c034a5b9c3a",
   "metadata": {},
   "outputs": [
    {
     "name": "stdout",
     "output_type": "stream",
     "text": [
      "85\n"
     ]
    }
   ],
   "source": [
    "a = 85\n",
    "print(a)"
   ]
  },
  {
   "cell_type": "code",
   "execution_count": 44,
   "id": "d6c9e5bc-6a11-41a1-ab75-1c7004270008",
   "metadata": {},
   "outputs": [],
   "source": [
    "#Delete Element\n",
    "del(a)"
   ]
  },
  {
   "cell_type": "code",
   "execution_count": 45,
   "id": "6a30b43d-480e-457a-898b-a1d653fdf4d4",
   "metadata": {},
   "outputs": [
    {
     "ename": "NameError",
     "evalue": "name 'a' is not defined",
     "output_type": "error",
     "traceback": [
      "\u001b[1;31m---------------------------------------------------------------------------\u001b[0m",
      "\u001b[1;31mNameError\u001b[0m                                 Traceback (most recent call last)",
      "Cell \u001b[1;32mIn[45], line 1\u001b[0m\n\u001b[1;32m----> 1\u001b[0m \u001b[38;5;28mprint\u001b[39m(a)\n",
      "\u001b[1;31mNameError\u001b[0m: name 'a' is not defined"
     ]
    }
   ],
   "source": [
    "print(a)"
   ]
  },
  {
   "cell_type": "code",
   "execution_count": 46,
   "id": "d5d56bee-8e4e-44ee-86f6-df7907b9d928",
   "metadata": {},
   "outputs": [],
   "source": [
    "# to Clear Var ab explorer.\n",
    "a = 20\n",
    "b = 10\n",
    "c = 30\n",
    "del a,b"
   ]
  },
  {
   "cell_type": "code",
   "execution_count": 47,
   "id": "2a259e1d-7333-42b0-9b9d-9bff96454c85",
   "metadata": {},
   "outputs": [
    {
     "name": "stdout",
     "output_type": "stream",
     "text": [
      "30\n"
     ]
    }
   ],
   "source": [
    "print(c)"
   ]
  },
  {
   "cell_type": "code",
   "execution_count": 48,
   "id": "28cdbab6-8e47-48a2-9df4-1be991753575",
   "metadata": {},
   "outputs": [
    {
     "ename": "SyntaxError",
     "evalue": "invalid decimal literal (1624669357.py, line 1)",
     "output_type": "error",
     "traceback": [
      "\u001b[1;36m  Cell \u001b[1;32mIn[48], line 1\u001b[1;36m\u001b[0m\n\u001b[1;33m    1a = 70\u001b[0m\n\u001b[1;37m    ^\u001b[0m\n\u001b[1;31mSyntaxError\u001b[0m\u001b[1;31m:\u001b[0m invalid decimal literal\n"
     ]
    }
   ],
   "source": [
    "1a = 70"
   ]
  },
  {
   "cell_type": "code",
   "execution_count": 51,
   "id": "672f7e56-50e4-44f8-97fd-6a160afc6b37",
   "metadata": {},
   "outputs": [
    {
     "ename": "SyntaxError",
     "evalue": "cannot assign to expression here. Maybe you meant '==' instead of '='? (1147410628.py, line 1)",
     "output_type": "error",
     "traceback": [
      "\u001b[1;36m  Cell \u001b[1;32mIn[51], line 1\u001b[1;36m\u001b[0m\n\u001b[1;33m    a@1 = 50\u001b[0m\n\u001b[1;37m    ^\u001b[0m\n\u001b[1;31mSyntaxError\u001b[0m\u001b[1;31m:\u001b[0m cannot assign to expression here. Maybe you meant '==' instead of '='?\n"
     ]
    }
   ],
   "source": [
    "a@1 = 50"
   ]
  },
  {
   "cell_type": "code",
   "execution_count": 52,
   "id": "399fd923-60a6-48fd-ad61-487397e22572",
   "metadata": {},
   "outputs": [
    {
     "name": "stdout",
     "output_type": "stream",
     "text": [
      "10 20 30\n"
     ]
    }
   ],
   "source": [
    "a = 10\n",
    "b = 20\n",
    "c = 30\n",
    "print(a,b,c)"
   ]
  },
  {
   "cell_type": "code",
   "execution_count": 53,
   "id": "6b837abb-04f5-48af-a853-fcf208c77dbe",
   "metadata": {},
   "outputs": [
    {
     "name": "stdout",
     "output_type": "stream",
     "text": [
      "20 10 30\n"
     ]
    }
   ],
   "source": [
    "# We can assign multiple variables in a single line\n",
    "a,b,c = 20,10,30\n",
    "print(a,b,c)"
   ]
  },
  {
   "cell_type": "code",
   "execution_count": 54,
   "id": "940351a1-a41b-48c5-a5b5-134795c1e252",
   "metadata": {},
   "outputs": [
    {
     "name": "stdout",
     "output_type": "stream",
     "text": [
      "AI\n"
     ]
    }
   ],
   "source": [
    "# assign the same value to multiple variables at once \n",
    "a = b = c = \"AI\"\n",
    "print(c)"
   ]
  },
  {
   "cell_type": "code",
   "execution_count": 55,
   "id": "84359783-996a-480c-a5fc-f4b220480880",
   "metadata": {},
   "outputs": [
    {
     "name": "stdout",
     "output_type": "stream",
     "text": [
      "5\n"
     ]
    }
   ],
   "source": [
    "#use of print() function\n",
    "print(5)"
   ]
  },
  {
   "cell_type": "code",
   "execution_count": 56,
   "id": "2d20f273-3473-4418-8b0c-9f9e44141eef",
   "metadata": {},
   "outputs": [
    {
     "name": "stdout",
     "output_type": "stream",
     "text": [
      "subrat\n"
     ]
    }
   ],
   "source": [
    "print(\"subrat\")"
   ]
  },
  {
   "cell_type": "code",
   "execution_count": 57,
   "id": "46ba3419-da0b-4e75-9479-5d3d80196e7b",
   "metadata": {},
   "outputs": [
    {
     "name": "stdout",
     "output_type": "stream",
     "text": [
      "kgsdgsg %$%^\n"
     ]
    }
   ],
   "source": [
    "print(\"kgsdgsg %$%^\")"
   ]
  },
  {
   "cell_type": "code",
   "execution_count": 58,
   "id": "ee61dcf6-48ae-401e-b7a1-eba054822c06",
   "metadata": {},
   "outputs": [
    {
     "name": "stdout",
     "output_type": "stream",
     "text": [
      "50\n"
     ]
    }
   ],
   "source": [
    "b = 50\n",
    "print(b)"
   ]
  },
  {
   "cell_type": "code",
   "execution_count": 59,
   "id": "2208f494-9332-4277-a004-168041c77992",
   "metadata": {},
   "outputs": [
    {
     "name": "stdout",
     "output_type": "stream",
     "text": [
      "20\n"
     ]
    }
   ],
   "source": [
    "pintu = 20\n",
    "print(pintu)"
   ]
  },
  {
   "cell_type": "code",
   "execution_count": 61,
   "id": "dd1a790a-c52b-45af-809f-22a82423837a",
   "metadata": {},
   "outputs": [
    {
     "name": "stdout",
     "output_type": "stream",
     "text": [
      "pintu\n"
     ]
    }
   ],
   "source": [
    "print(\"pintu\")"
   ]
  },
  {
   "cell_type": "code",
   "execution_count": 62,
   "id": "db02e60c-9cb3-4089-a048-18be7e8d06e3",
   "metadata": {},
   "outputs": [
    {
     "name": "stdout",
     "output_type": "stream",
     "text": [
      "20 30 40 50\n"
     ]
    }
   ],
   "source": [
    "a=20\n",
    "b=30\n",
    "c=40\n",
    "d=50\n",
    "print(a,b,c,d)"
   ]
  },
  {
   "cell_type": "code",
   "execution_count": 63,
   "id": "a27bb2c1-c9e8-460d-b411-bc1dc35adea6",
   "metadata": {},
   "outputs": [
    {
     "name": "stdout",
     "output_type": "stream",
     "text": [
      "4\n"
     ]
    },
    {
     "data": {
      "text/plain": [
       "int"
      ]
     },
     "execution_count": 63,
     "metadata": {},
     "output_type": "execute_result"
    }
   ],
   "source": [
    "a=4\n",
    "print(a)\n",
    "type(a)"
   ]
  },
  {
   "cell_type": "code",
   "execution_count": 64,
   "id": "fa80c008-d6eb-4795-8a84-761e2b4dc16e",
   "metadata": {},
   "outputs": [
    {
     "name": "stdout",
     "output_type": "stream",
     "text": [
      "5\n"
     ]
    },
    {
     "data": {
      "text/plain": [
       "str"
      ]
     },
     "execution_count": 64,
     "metadata": {},
     "output_type": "execute_result"
    }
   ],
   "source": [
    "a='5'\n",
    "print(a)\n",
    "type(a)"
   ]
  },
  {
   "cell_type": "code",
   "execution_count": 65,
   "id": "9cac1fbd-14ef-4591-bbbb-168a09b3238f",
   "metadata": {},
   "outputs": [
    {
     "name": "stdout",
     "output_type": "stream",
     "text": [
      "50\n"
     ]
    }
   ],
   "source": [
    "a=20\n",
    "b=30\n",
    "c=a+b\n",
    "print(c)"
   ]
  },
  {
   "cell_type": "code",
   "execution_count": 66,
   "id": "28ae6a48-e1b0-4631-bb49-402bde1b6592",
   "metadata": {},
   "outputs": [
    {
     "name": "stdout",
     "output_type": "stream",
     "text": [
      "50\n"
     ]
    }
   ],
   "source": [
    "a=20\n",
    "b=30\n",
    "print(a+b)"
   ]
  },
  {
   "cell_type": "code",
   "execution_count": 67,
   "id": "35e591e2-ce0e-42ab-b9a9-324b87b5fcca",
   "metadata": {},
   "outputs": [
    {
     "name": "stdout",
     "output_type": "stream",
     "text": [
      "50\n"
     ]
    }
   ],
   "source": [
    "print(20+30)"
   ]
  },
  {
   "cell_type": "code",
   "execution_count": 68,
   "id": "fe45eaa5-5790-4db3-a1f2-dbfa05dee820",
   "metadata": {},
   "outputs": [
    {
     "name": "stdout",
     "output_type": "stream",
     "text": [
      "20 30 40 50\n"
     ]
    }
   ],
   "source": [
    "a=20\n",
    "b=30\n",
    "c=40\n",
    "d=50\n",
    "print(a,b,c,d)"
   ]
  },
  {
   "cell_type": "code",
   "execution_count": 69,
   "id": "3cbd5755-eaea-4d7b-89d9-985ec66c7d17",
   "metadata": {},
   "outputs": [
    {
     "name": "stdout",
     "output_type": "stream",
     "text": [
      "20:30:40:50\n"
     ]
    }
   ],
   "source": [
    "a=20\n",
    "b=30\n",
    "c=40\n",
    "d=50\n",
    "print(a,b,c,d,sep=\":\")"
   ]
  },
  {
   "cell_type": "code",
   "execution_count": 70,
   "id": "0f304f51-291c-4c4f-8a4f-723280dcb6ed",
   "metadata": {},
   "outputs": [
    {
     "name": "stdout",
     "output_type": "stream",
     "text": [
      "the value of a : 20\n"
     ]
    }
   ],
   "source": [
    "a = 20\n",
    "print(\"the value of a :\", a)"
   ]
  },
  {
   "cell_type": "code",
   "execution_count": 73,
   "id": "7ec96826-4191-4416-8f0d-265a986d551d",
   "metadata": {},
   "outputs": [],
   "source": [
    "first_name='subrat'\n",
    "last_name='rama'"
   ]
  },
  {
   "cell_type": "code",
   "execution_count": 74,
   "id": "6f60e636-1173-4db8-a5cb-17c77ad46428",
   "metadata": {},
   "outputs": [
    {
     "name": "stdout",
     "output_type": "stream",
     "text": [
      "Name rama subrat\n"
     ]
    }
   ],
   "source": [
    "print(\"Name\",last_name,first_name)"
   ]
  },
  {
   "cell_type": "code",
   "execution_count": 77,
   "id": "75adfa0d-36a0-44e0-b789-c7f84f424c6a",
   "metadata": {},
   "outputs": [
    {
     "name": "stdout",
     "output_type": "stream",
     "text": [
      "My first name is: subrat and last name is: rama\n"
     ]
    }
   ],
   "source": [
    "print(\"My first name is:\",first_name,\"and last name is:\",last_name)"
   ]
  },
  {
   "cell_type": "code",
   "execution_count": 79,
   "id": "c89a8868-95e9-477b-9c34-c18d6079c490",
   "metadata": {},
   "outputs": [
    {
     "name": "stdout",
     "output_type": "stream",
     "text": [
      "my first name is: subrat and last name is: rama\n"
     ]
    }
   ],
   "source": [
    "print(\"my first name is: {} and last name is: {}\".format(first_name,last_name))"
   ]
  },
  {
   "cell_type": "code",
   "execution_count": 80,
   "id": "386c3bd5-ad07-4839-8ee7-da85c4d4fbe1",
   "metadata": {},
   "outputs": [
    {
     "name": "stdout",
     "output_type": "stream",
     "text": [
      "my first name is: rama and last name is: rama\n"
     ]
    }
   ],
   "source": [
    "# we can use keyword arguments to format the string\n",
    "print(\"my first name is: {first} and last name is: {first}\".format(last=last_name,first=last_name))"
   ]
  },
  {
   "cell_type": "code",
   "execution_count": 81,
   "id": "3eb1727e-ed08-4c46-aa15-13c86fa458fa",
   "metadata": {},
   "outputs": [
    {
     "name": "stdout",
     "output_type": "stream",
     "text": [
      "Hello Subrat Good Morning Subrat\n"
     ]
    }
   ],
   "source": [
    "print(\"Hello {name} {greeting} {name}\".format(name=\"Subrat\", greeting=\"Good Morning\"))"
   ]
  },
  {
   "cell_type": "code",
   "execution_count": 82,
   "id": "6a733dc9-81ab-408e-b79d-81f7e17b92c3",
   "metadata": {},
   "outputs": [
    {
     "name": "stdout",
     "output_type": "stream",
     "text": [
      "the story of Subrat, Rama, and Subham\n"
     ]
    }
   ],
   "source": [
    "# we combine positional arguments with keyword arguments\n",
    "print('the story of {}, {}, and {other}' .format('Subrat', 'Rama',other= 'Subham'))"
   ]
  },
  {
   "cell_type": "code",
   "execution_count": 83,
   "id": "4c92f32e-6ab0-4e01-a97f-b14aeca106e4",
   "metadata": {},
   "outputs": [
    {
     "name": "stdout",
     "output_type": "stream",
     "text": [
      "My number is: 15 and my name is: pintu\n",
      "My number is: 15 and my name is: pintu\n",
      "My number is: 15  and my name is: pintu\n"
     ]
    }
   ],
   "source": [
    "num = 15\n",
    "name = 'pintu'\n",
    "print('My number is: {one} and my name is: {two}'.format(one=num,two=name))\n",
    "print('My number is: {} and my name is: {}'.format(num,name))\n",
    "print(\"My number is:\" ,num,\" and my name is:\",name)\n"
   ]
  },
  {
   "cell_type": "code",
   "execution_count": null,
   "id": "10d7888e-387b-4d47-902f-7bc17e6e3df2",
   "metadata": {},
   "outputs": [],
   "source": []
  }
 ],
 "metadata": {
  "kernelspec": {
   "display_name": "Python 3 (ipykernel)",
   "language": "python",
   "name": "python3"
  },
  "language_info": {
   "codemirror_mode": {
    "name": "ipython",
    "version": 3
   },
   "file_extension": ".py",
   "mimetype": "text/x-python",
   "name": "python",
   "nbconvert_exporter": "python",
   "pygments_lexer": "ipython3",
   "version": "3.11.7"
  }
 },
 "nbformat": 4,
 "nbformat_minor": 5
}
