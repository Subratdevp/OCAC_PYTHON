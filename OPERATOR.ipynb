{
 "cells": [
  {
   "cell_type": "markdown",
   "id": "217729c2-68cc-4774-87ff-5d380769aed3",
   "metadata": {},
   "source": [
    "# OPERATOR"
   ]
  },
  {
   "cell_type": "markdown",
   "id": "afa616bf-c897-4d03-9942-37ebeecefe94",
   "metadata": {},
   "source": [
    "### OPERATOR TYPES"
   ]
  },
  {
   "cell_type": "raw",
   "id": "c1ee7b7e-5b7d-4123-bc3c-82eb774ccae6",
   "metadata": {},
   "source": [
    "1.Arithmetic operators\n",
    "2.Comparison(Relational) operatos\n",
    "3.Logical (Boolean) operators\n",
    "4.Bitwise operators\n",
    "5.Assignment operators\n",
    "6.Special operators(Membership Operators & Identity Operators"
   ]
  },
  {
   "cell_type": "markdown",
   "id": "425b9a3f-98fc-4e4f-acf9-7d29d9da628c",
   "metadata": {},
   "source": [
    "## Arithmetic operators"
   ]
  },
  {
   "cell_type": "code",
   "execution_count": 1,
   "id": "91784756-f1a8-4ddd-8819-796f8eeaa692",
   "metadata": {},
   "outputs": [
    {
     "data": {
      "text/plain": [
       "12"
      ]
     },
     "execution_count": 1,
     "metadata": {},
     "output_type": "execute_result"
    }
   ],
   "source": [
    "# Addition\n",
    "6+6"
   ]
  },
  {
   "cell_type": "code",
   "execution_count": 2,
   "id": "9916ddcd-5bc4-4090-a2e9-67ddb7cb3888",
   "metadata": {},
   "outputs": [
    {
     "data": {
      "text/plain": [
       "4"
      ]
     },
     "execution_count": 2,
     "metadata": {},
     "output_type": "execute_result"
    }
   ],
   "source": [
    "# Substraction\n",
    "8-4"
   ]
  },
  {
   "cell_type": "code",
   "execution_count": 6,
   "id": "0dd197f4-1568-44d3-9722-1d93bf00d8c1",
   "metadata": {},
   "outputs": [
    {
     "data": {
      "text/plain": [
       "27"
      ]
     },
     "execution_count": 6,
     "metadata": {},
     "output_type": "execute_result"
    }
   ],
   "source": [
    "# Multiplication\n",
    "3*9"
   ]
  },
  {
   "cell_type": "code",
   "execution_count": 7,
   "id": "d9461d4c-5722-4b37-9661-7210440832ca",
   "metadata": {},
   "outputs": [
    {
     "data": {
      "text/plain": [
       "3.0"
      ]
     },
     "execution_count": 7,
     "metadata": {},
     "output_type": "execute_result"
    }
   ],
   "source": [
    "# Division --> always give float value\n",
    "9/3"
   ]
  },
  {
   "cell_type": "code",
   "execution_count": 9,
   "id": "5c4180c8-a83b-4904-9f7b-9a38b3e81b38",
   "metadata": {},
   "outputs": [
    {
     "data": {
      "text/plain": [
       "343"
      ]
     },
     "execution_count": 9,
     "metadata": {},
     "output_type": "execute_result"
    }
   ],
   "source": [
    "# power/exponent\n",
    "7**3"
   ]
  },
  {
   "cell_type": "code",
   "execution_count": 10,
   "id": "393ee426-280b-42ff-a95c-e2f70d8f5981",
   "metadata": {},
   "outputs": [
    {
     "data": {
      "text/plain": [
       "3"
      ]
     },
     "execution_count": 10,
     "metadata": {},
     "output_type": "execute_result"
    }
   ],
   "source": [
    "# floor division\n",
    "15//5"
   ]
  },
  {
   "cell_type": "code",
   "execution_count": 12,
   "id": "e3488bb0-da9d-4b10-95ab-ccd2b983778d",
   "metadata": {},
   "outputs": [
    {
     "data": {
      "text/plain": [
       "2"
      ]
     },
     "execution_count": 12,
     "metadata": {},
     "output_type": "execute_result"
    }
   ],
   "source": [
    "# modulo --> remainder\n",
    "20%3"
   ]
  },
  {
   "cell_type": "code",
   "execution_count": 13,
   "id": "ff7afe03-bbfe-4cc3-a28b-387a78d20fe9",
   "metadata": {},
   "outputs": [
    {
     "data": {
      "text/plain": [
       "120"
      ]
     },
     "execution_count": 13,
     "metadata": {},
     "output_type": "execute_result"
    }
   ],
   "source": [
    "# paracentheis\n",
    "(3+5) * (6+9)"
   ]
  },
  {
   "cell_type": "code",
   "execution_count": 14,
   "id": "e448186e-471c-4570-adfa-1d9e57aa14de",
   "metadata": {},
   "outputs": [
    {
     "name": "stdout",
     "output_type": "stream",
     "text": [
      "300\n",
      "0.3333333333333333\n",
      "10\n"
     ]
    }
   ],
   "source": [
    "## Mathematical operation with Variable Assignment\n",
    "a=10\n",
    "b=30\n",
    "print(a*b)\n",
    "print(a/b)\n",
    "print(a%b)"
   ]
  },
  {
   "cell_type": "markdown",
   "id": "87077a93-05d6-43c5-b93e-b85fbf1d6615",
   "metadata": {},
   "source": [
    "### Arithmetic operators Precedence"
   ]
  },
  {
   "cell_type": "raw",
   "id": "51198698-c14b-4990-8282-e74508114661",
   "metadata": {},
   "source": [
    "1.Paracentheis\n",
    "2.Exponents\n",
    "3.Floor division\n",
    "4.Multiplication\n",
    "5.Division\n",
    "6.Modulus\n",
    "7.Addition\n",
    "8.Subtraction"
   ]
  },
  {
   "cell_type": "code",
   "execution_count": 15,
   "id": "d7c61ea7-7d92-4686-b10d-3995e738ffcc",
   "metadata": {},
   "outputs": [
    {
     "data": {
      "text/plain": [
       "10.0"
      ]
     },
     "execution_count": 15,
     "metadata": {},
     "output_type": "execute_result"
    }
   ],
   "source": [
    "a-b*a/b+a ##BODMAS"
   ]
  },
  {
   "cell_type": "code",
   "execution_count": 16,
   "id": "5fadcf1e-c151-4e6f-aaab-d11418236473",
   "metadata": {},
   "outputs": [
    {
     "data": {
      "text/plain": [
       "27"
      ]
     },
     "execution_count": 16,
     "metadata": {},
     "output_type": "execute_result"
    }
   ],
   "source": [
    "(3*(5+4))"
   ]
  },
  {
   "cell_type": "code",
   "execution_count": 18,
   "id": "1628f3d2-26fb-455e-b25a-00ac77ee9c30",
   "metadata": {},
   "outputs": [
    {
     "data": {
      "text/plain": [
       "14"
      ]
     },
     "execution_count": 18,
     "metadata": {},
     "output_type": "execute_result"
    }
   ],
   "source": [
    "9//5%2+4**2-3"
   ]
  },
  {
   "cell_type": "code",
   "execution_count": 19,
   "id": "223140ff-d90d-4e85-81c0-627f4bf7eb86",
   "metadata": {},
   "outputs": [
    {
     "data": {
      "text/plain": [
       "17.0"
      ]
     },
     "execution_count": 19,
     "metadata": {},
     "output_type": "execute_result"
    }
   ],
   "source": [
    "6//4*4/2+15%3**3"
   ]
  },
  {
   "cell_type": "markdown",
   "id": "eaab69c8-f627-485b-8e6a-0b2224639b33",
   "metadata": {},
   "source": [
    "## Comprison/Relational Operators"
   ]
  },
  {
   "cell_type": "raw",
   "id": "b3ad8939-b7c4-430c-9303-51c8b2017494",
   "metadata": {},
   "source": [
    "<,==,!=,>=,<= are comparision operators"
   ]
  },
  {
   "cell_type": "code",
   "execution_count": 1,
   "id": "9ed84990-1fcf-4aa4-b2ea-3d7b7ee3f266",
   "metadata": {},
   "outputs": [
    {
     "data": {
      "text/plain": [
       "True"
      ]
     },
     "execution_count": 1,
     "metadata": {},
     "output_type": "execute_result"
    }
   ],
   "source": [
    "# greater than\n",
    "47>36"
   ]
  },
  {
   "cell_type": "code",
   "execution_count": 2,
   "id": "ef9559c9-0aa6-41f4-9891-97f2d3f0bfeb",
   "metadata": {},
   "outputs": [
    {
     "data": {
      "text/plain": [
       "False"
      ]
     },
     "execution_count": 2,
     "metadata": {},
     "output_type": "execute_result"
    }
   ],
   "source": [
    "# less than\n",
    "65<25"
   ]
  },
  {
   "cell_type": "code",
   "execution_count": 4,
   "id": "2ea0cf04-ca9a-42c1-9fa0-cf56a45dea02",
   "metadata": {},
   "outputs": [
    {
     "data": {
      "text/plain": [
       "True"
      ]
     },
     "execution_count": 4,
     "metadata": {},
     "output_type": "execute_result"
    }
   ],
   "source": [
    "2*8 < 4*6"
   ]
  },
  {
   "cell_type": "code",
   "execution_count": 5,
   "id": "a7f94529-390f-455f-9dbf-e88c87aee657",
   "metadata": {},
   "outputs": [
    {
     "data": {
      "text/plain": [
       "True"
      ]
     },
     "execution_count": 5,
     "metadata": {},
     "output_type": "execute_result"
    }
   ],
   "source": [
    "# equal\n",
    "68 == 68"
   ]
  },
  {
   "cell_type": "code",
   "execution_count": 6,
   "id": "b422ca51-cbf0-452e-917a-d35827760290",
   "metadata": {},
   "outputs": [
    {
     "data": {
      "text/plain": [
       "True"
      ]
     },
     "execution_count": 6,
     "metadata": {},
     "output_type": "execute_result"
    }
   ],
   "source": [
    "# not equal\n",
    "5!=6"
   ]
  },
  {
   "cell_type": "code",
   "execution_count": 7,
   "id": "997f71d9-25b6-456b-9681-6e9037203656",
   "metadata": {},
   "outputs": [
    {
     "data": {
      "text/plain": [
       "True"
      ]
     },
     "execution_count": 7,
     "metadata": {},
     "output_type": "execute_result"
    }
   ],
   "source": [
    "#graeterthan or equal to\n",
    "5 >= 5"
   ]
  },
  {
   "cell_type": "code",
   "execution_count": 9,
   "id": "cadede13-782b-45c5-82ce-c5cd96f1a9e0",
   "metadata": {},
   "outputs": [
    {
     "data": {
      "text/plain": [
       "False"
      ]
     },
     "execution_count": 9,
     "metadata": {},
     "output_type": "execute_result"
    }
   ],
   "source": [
    "# lessthan equal to\n",
    "6 <= 4"
   ]
  },
  {
   "cell_type": "code",
   "execution_count": 10,
   "id": "e86708a6-348f-4f28-a891-1ef7ca22ffa4",
   "metadata": {},
   "outputs": [
    {
     "data": {
      "text/plain": [
       "True"
      ]
     },
     "execution_count": 10,
     "metadata": {},
     "output_type": "execute_result"
    }
   ],
   "source": [
    "43==43.0"
   ]
  },
  {
   "cell_type": "code",
   "execution_count": 11,
   "id": "1be46f83-d9a8-48b4-bf84-4549e9590ffe",
   "metadata": {},
   "outputs": [
    {
     "data": {
      "text/plain": [
       "False"
      ]
     },
     "execution_count": 11,
     "metadata": {},
     "output_type": "execute_result"
    }
   ],
   "source": [
    "'hlo' == 'HLO'"
   ]
  },
  {
   "cell_type": "markdown",
   "id": "a511b856-6289-45a8-a3bc-6cf0d4825f24",
   "metadata": {},
   "source": [
    "## Bitwise Operators"
   ]
  },
  {
   "cell_type": "markdown",
   "id": "3d0d5ef6-fddb-4487-80a5-656e2ec5bf1a",
   "metadata": {},
   "source": [
    "##### Bitwise operators act on operands as if they were string of binary digits. It operatorates bit by bit..(&,|,~,^,>>,<<) are Bitwise operators "
   ]
  },
  {
   "cell_type": "raw",
   "id": "199c00cb-6c5f-4ed9-bf3a-ef67ddefc49b",
   "metadata": {},
   "source": [
    "1.| or in bitwise operators\n",
    "2.& and in bitwise operators"
   ]
  },
  {
   "cell_type": "code",
   "execution_count": 14,
   "id": "d5744206-1a34-4d5c-af93-8207ab754ad1",
   "metadata": {},
   "outputs": [
    {
     "data": {
      "text/plain": [
       "'0b1100100'"
      ]
     },
     "execution_count": 14,
     "metadata": {},
     "output_type": "execute_result"
    }
   ],
   "source": [
    "bin(100)"
   ]
  },
  {
   "cell_type": "code",
   "execution_count": 17,
   "id": "49f651d8-469d-4c9a-b2bd-cb8fb9d9bd48",
   "metadata": {},
   "outputs": [
    {
     "data": {
      "text/plain": [
       "39"
      ]
     },
     "execution_count": 17,
     "metadata": {},
     "output_type": "execute_result"
    }
   ],
   "source": [
    "0b100111"
   ]
  },
  {
   "cell_type": "code",
   "execution_count": 26,
   "id": "7c43ac18-b243-4b12-98a5-49b6b3f5dcad",
   "metadata": {},
   "outputs": [
    {
     "name": "stdout",
     "output_type": "stream",
     "text": [
      "7\n"
     ]
    }
   ],
   "source": [
    "#Bitwise OR\n",
    "a=6          # 1 1 0\n",
    "b=3          # 1 0 1\n",
    "\n",
    "print(a|b)   # 1 1 1"
   ]
  },
  {
   "cell_type": "code",
   "execution_count": 28,
   "id": "52c0eb65-bd2a-42e6-ad6b-1c0ce47c4e8a",
   "metadata": {},
   "outputs": [
    {
     "name": "stdout",
     "output_type": "stream",
     "text": [
      "4\n"
     ]
    }
   ],
   "source": [
    "#Bitwise AND\n",
    "a=4       # 1 0 0\n",
    "b=5       # 1 0 1\n",
    "\n",
    "print(a & b)   # 1 0 0"
   ]
  },
  {
   "cell_type": "code",
   "execution_count": 29,
   "id": "51829738-224c-466e-b8b7-baa1e6b5ac74",
   "metadata": {},
   "outputs": [
    {
     "data": {
      "text/plain": [
       "14"
      ]
     },
     "execution_count": 29,
     "metadata": {},
     "output_type": "execute_result"
    }
   ],
   "source": [
    "6|8"
   ]
  },
  {
   "cell_type": "code",
   "execution_count": 30,
   "id": "30b3250f-c1c9-4610-90ae-ebb62189b7d4",
   "metadata": {},
   "outputs": [
    {
     "data": {
      "text/plain": [
       "0"
      ]
     },
     "execution_count": 30,
     "metadata": {},
     "output_type": "execute_result"
    }
   ],
   "source": [
    "6&8"
   ]
  },
  {
   "cell_type": "markdown",
   "id": "4954d708-19b2-4663-bb12-cc18fac65653",
   "metadata": {},
   "source": [
    "## Logical Opearators"
   ]
  },
  {
   "cell_type": "raw",
   "id": "a3c370a4-4b79-4a8c-b443-07e082b37c58",
   "metadata": {},
   "source": [
    "1.It returns bool type only\n",
    "2.Logical operators are and,or,not operators."
   ]
  },
  {
   "cell_type": "code",
   "execution_count": 31,
   "id": "c7712564-221e-4262-8930-55cdc10a94b3",
   "metadata": {},
   "outputs": [
    {
     "data": {
      "text/plain": [
       "True"
      ]
     },
     "execution_count": 31,
     "metadata": {},
     "output_type": "execute_result"
    }
   ],
   "source": [
    "(1 > 2) or (2 < 3)"
   ]
  },
  {
   "cell_type": "code",
   "execution_count": 32,
   "id": "40f2b2ef-573d-45e2-88ba-68a360b6b768",
   "metadata": {},
   "outputs": [
    {
     "data": {
      "text/plain": [
       "False"
      ]
     },
     "execution_count": 32,
     "metadata": {},
     "output_type": "execute_result"
    }
   ],
   "source": [
    "(1 > 2) and (2 < 3)"
   ]
  },
  {
   "cell_type": "code",
   "execution_count": 33,
   "id": "cdb86bc5-6129-4354-bb5c-ec112691d421",
   "metadata": {},
   "outputs": [
    {
     "data": {
      "text/plain": [
       "False"
      ]
     },
     "execution_count": 33,
     "metadata": {},
     "output_type": "execute_result"
    }
   ],
   "source": [
    "not True"
   ]
  },
  {
   "cell_type": "code",
   "execution_count": 34,
   "id": "5f371de3-2078-4d01-8e76-b6ced49e89c1",
   "metadata": {},
   "outputs": [
    {
     "data": {
      "text/plain": [
       "True"
      ]
     },
     "execution_count": 34,
     "metadata": {},
     "output_type": "execute_result"
    }
   ],
   "source": [
    "not False"
   ]
  },
  {
   "cell_type": "code",
   "execution_count": 35,
   "id": "f7945a37-305c-43be-b6fd-8b59886e9339",
   "metadata": {},
   "outputs": [
    {
     "data": {
      "text/plain": [
       "True"
      ]
     },
     "execution_count": 35,
     "metadata": {},
     "output_type": "execute_result"
    }
   ],
   "source": [
    "my_str='subrat'\n",
    "\n",
    "my_str.isalpha() or str_example.isnum()"
   ]
  },
  {
   "cell_type": "code",
   "execution_count": 36,
   "id": "2734e6b0-d824-4b48-821f-3853ff058da3",
   "metadata": {},
   "outputs": [
    {
     "data": {
      "text/plain": [
       "True"
      ]
     },
     "execution_count": 36,
     "metadata": {},
     "output_type": "execute_result"
    }
   ],
   "source": [
    "(2 == 2) and (3 ==4 ) or (5 == 5)"
   ]
  },
  {
   "cell_type": "markdown",
   "id": "3c25cee4-6417-49ec-9a3d-5130cf856a98",
   "metadata": {},
   "source": [
    "## Assignment Operators"
   ]
  },
  {
   "cell_type": "raw",
   "id": "eb81b63f-b70c-4e62-838a-fd486d5042cc",
   "metadata": {},
   "source": [
    "1.Assignment operators are used in python to assign value to variables.\n",
    "2.(=,+=,-=,*=,/=,%=,//=,**=,&=,|=,^=,>>=,<<=) are Assignment operators"
   ]
  },
  {
   "cell_type": "code",
   "execution_count": 62,
   "id": "97f81f90-a75e-45f4-ac78-60af60dbb161",
   "metadata": {},
   "outputs": [
    {
     "data": {
      "text/plain": [
       "10"
      ]
     },
     "execution_count": 62,
     "metadata": {},
     "output_type": "execute_result"
    }
   ],
   "source": [
    "a=10\n",
    "a  #is a simple assignment operator that assigns the value 10 on the right to the variable a on the left."
   ]
  },
  {
   "cell_type": "code",
   "execution_count": 63,
   "id": "1127472a-c3de-4915-aae9-a461f0e6f9e7",
   "metadata": {},
   "outputs": [
    {
     "name": "stdout",
     "output_type": "stream",
     "text": [
      "11\n"
     ]
    }
   ],
   "source": [
    "a=a+1  #add AND\n",
    "print(a)"
   ]
  },
  {
   "cell_type": "code",
   "execution_count": 64,
   "id": "df88875c-fba6-4ede-947d-20125b28d819",
   "metadata": {},
   "outputs": [
    {
     "data": {
      "text/plain": [
       "12"
      ]
     },
     "execution_count": 64,
     "metadata": {},
     "output_type": "execute_result"
    }
   ],
   "source": [
    "a+=1\n",
    "a"
   ]
  },
  {
   "cell_type": "code",
   "execution_count": 65,
   "id": "b8d4fc6b-53ee-437c-a7e2-820ef1ad4cc8",
   "metadata": {},
   "outputs": [
    {
     "data": {
      "text/plain": [
       "8"
      ]
     },
     "execution_count": 65,
     "metadata": {},
     "output_type": "execute_result"
    }
   ],
   "source": [
    "a-=4 #substract\n",
    "a"
   ]
  },
  {
   "cell_type": "code",
   "execution_count": 66,
   "id": "98dc1f66-c9be-41d0-9e12-5a42b2cf1680",
   "metadata": {},
   "outputs": [
    {
     "data": {
      "text/plain": [
       "16"
      ]
     },
     "execution_count": 66,
     "metadata": {},
     "output_type": "execute_result"
    }
   ],
   "source": [
    "a*=2  #multiplication\n",
    "a"
   ]
  },
  {
   "cell_type": "code",
   "execution_count": 67,
   "id": "0aab92c5-8c4e-4bbe-9585-565bfa73f576",
   "metadata": {},
   "outputs": [
    {
     "data": {
      "text/plain": [
       "8.0"
      ]
     },
     "execution_count": 67,
     "metadata": {},
     "output_type": "execute_result"
    }
   ],
   "source": [
    "a/=2  #Division\n",
    "a"
   ]
  },
  {
   "cell_type": "code",
   "execution_count": 68,
   "id": "950aef36-381f-4ac1-a125-9a503e05854a",
   "metadata": {},
   "outputs": [
    {
     "data": {
      "text/plain": [
       "2.0"
      ]
     },
     "execution_count": 68,
     "metadata": {},
     "output_type": "execute_result"
    }
   ],
   "source": [
    "a%=3  #modulus AND\n",
    "a"
   ]
  },
  {
   "cell_type": "code",
   "execution_count": 69,
   "id": "19200a3d-b7dc-4f9f-a87b-06c38b86563f",
   "metadata": {},
   "outputs": [
    {
     "data": {
      "text/plain": [
       "1.0"
      ]
     },
     "execution_count": 69,
     "metadata": {},
     "output_type": "execute_result"
    }
   ],
   "source": [
    "a//=2  #ffloor division\n",
    "a"
   ]
  },
  {
   "cell_type": "code",
   "execution_count": 70,
   "id": "5097496c-bc79-4c7a-8994-eb0df9e3a153",
   "metadata": {},
   "outputs": [
    {
     "data": {
      "text/plain": [
       "1.0"
      ]
     },
     "execution_count": 70,
     "metadata": {},
     "output_type": "execute_result"
    }
   ],
   "source": [
    "a**=6  #Exponent AND\n",
    "a"
   ]
  },
  {
   "cell_type": "markdown",
   "id": "aa46a476-86c5-42f3-a327-03083092c162",
   "metadata": {},
   "source": [
    "## Identity operators"
   ]
  },
  {
   "cell_type": "raw",
   "id": "58c171f1-0246-4e33-b82d-7665dd7b31cf",
   "metadata": {},
   "source": [
    "is and is not are the identity operators in python.\n",
    "they are used to check if rwo values (or variables) are located on the same part of the memory.\n",
    "1.is operator(# is-True if the operands are identical)\n",
    "2.is not operators(# is not-True if the operands are not identical)"
   ]
  },
  {
   "cell_type": "code",
   "execution_count": 72,
   "id": "2f32326b-6cad-4713-be3f-665e955b7756",
   "metadata": {},
   "outputs": [
    {
     "name": "stdout",
     "output_type": "stream",
     "text": [
      "True\n"
     ]
    }
   ],
   "source": [
    "a=6\n",
    "b=6\n",
    "print(a is b)    #6 is object created once both a and b points to same object"
   ]
  },
  {
   "cell_type": "code",
   "execution_count": 75,
   "id": "ac5f5a2b-fbc8-4c99-bd5c-3a2b4e16d67c",
   "metadata": {},
   "outputs": [
    {
     "name": "stdout",
     "output_type": "stream",
     "text": [
      "False\n"
     ]
    }
   ],
   "source": [
    "s1 = \"subrat\"\n",
    "s2 = \"Subrat\"\n",
    "print(s1 is s2)"
   ]
  },
  {
   "cell_type": "code",
   "execution_count": 76,
   "id": "db3e6a19-2aa8-416c-a170-22736a4ae79f",
   "metadata": {},
   "outputs": [
    {
     "data": {
      "text/plain": [
       "True"
      ]
     },
     "execution_count": 76,
     "metadata": {},
     "output_type": "execute_result"
    }
   ],
   "source": [
    "a=7\n",
    "b=8\n",
    "a is not b"
   ]
  },
  {
   "cell_type": "markdown",
   "id": "70614115-3a55-495a-8fcd-fb4bae15927a",
   "metadata": {},
   "source": [
    "## Membership Operators"
   ]
  },
  {
   "cell_type": "raw",
   "id": "20f41039-6853-4cd5-95fc-0dd4249fbc05",
   "metadata": {},
   "source": [
    "is and not in are the membership operators in python.\n",
    "they are used to test whether a vlue or variable is found in a sequence(string,list,tuple,set nad dictionary)."
   ]
  },
  {
   "cell_type": "code",
   "execution_count": 77,
   "id": "7e268981-f841-4589-905b-92dad21263c6",
   "metadata": {},
   "outputs": [
    {
     "data": {
      "text/plain": [
       "True"
      ]
     },
     "execution_count": 77,
     "metadata": {},
     "output_type": "execute_result"
    }
   ],
   "source": [
    "a='Narayan'\n",
    "'ayan' in a"
   ]
  },
  {
   "cell_type": "code",
   "execution_count": 81,
   "id": "2d4262a8-96fd-4dd6-9c61-913a3d169998",
   "metadata": {},
   "outputs": [
    {
     "data": {
      "text/plain": [
       "True"
      ]
     },
     "execution_count": 81,
     "metadata": {},
     "output_type": "execute_result"
    }
   ],
   "source": [
    "Ist = [1,2,3,4]\n",
    "1 in Ist"
   ]
  },
  {
   "cell_type": "code",
   "execution_count": 83,
   "id": "57c742ee-690f-46c0-a259-4c00d207d269",
   "metadata": {},
   "outputs": [
    {
     "data": {
      "text/plain": [
       "True"
      ]
     },
     "execution_count": 83,
     "metadata": {},
     "output_type": "execute_result"
    }
   ],
   "source": [
    "a=[1,2,3,4,5,6]\n",
    "9 not in a"
   ]
  },
  {
   "cell_type": "code",
   "execution_count": 84,
   "id": "0dd62c5a-8d85-4400-b93d-0f529f91a22d",
   "metadata": {},
   "outputs": [
    {
     "data": {
      "text/plain": [
       "False"
      ]
     },
     "execution_count": 84,
     "metadata": {},
     "output_type": "execute_result"
    }
   ],
   "source": [
    "b = [1,2,3,4,5,6]\n",
    "8 in a"
   ]
  },
  {
   "cell_type": "markdown",
   "id": "66a557bc-f72a-4b94-a97a-83eaa5ff6089",
   "metadata": {},
   "source": [
    "## Operators Precedence"
   ]
  },
  {
   "cell_type": "markdown",
   "id": "2fe9e421-f75a-4f1a-8b56-e21f9a3283c3",
   "metadata": {},
   "source": [
    "### Parentheses()"
   ]
  },
  {
   "cell_type": "markdown",
   "id": "014a81af-a571-49c3-9cd0-3d35f86c0ced",
   "metadata": {},
   "source": [
    "### Exponent**\n",
    "### Floor division\n",
    "### Division\n",
    "### modulus\n",
    "### Multiplication\n",
    "### Addition and Substraction\n",
    "### Bitwise AND\n",
    "### Bitwise OR\n",
    "### Comparision operators((<,<=,>,>=,==,!=))\n",
    "### Membership\n",
    "### Identity\n",
    "### Logical AND\n",
    "### Logical OR"
   ]
  }
 ],
 "metadata": {
  "kernelspec": {
   "display_name": "Python 3 (ipykernel)",
   "language": "python",
   "name": "python3"
  },
  "language_info": {
   "codemirror_mode": {
    "name": "ipython",
    "version": 3
   },
   "file_extension": ".py",
   "mimetype": "text/x-python",
   "name": "python",
   "nbconvert_exporter": "python",
   "pygments_lexer": "ipython3",
   "version": "3.11.7"
  }
 },
 "nbformat": 4,
 "nbformat_minor": 5
}
