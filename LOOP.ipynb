{
 "cells": [
  {
   "cell_type": "markdown",
   "id": "06e259ce-0cc9-4373-9fa6-65e7d2b6b1a5",
   "metadata": {},
   "source": [
    "## Loops"
   ]
  },
  {
   "cell_type": "raw",
   "id": "8d69d66d-0753-499b-8b29-1512eebf1208",
   "metadata": {},
   "source": [
    ".There may be a situation when you need to execute a block of code several number of times.\n",
    ".to iterate over items or elements in a given seq like list, str, dict or tup\n",
    ".In general, statements are executed sequentially: The first statement in a function is executed first, followed by the second, and so on paths."
   ]
  },
  {
   "cell_type": "markdown",
   "id": "8df8d9dc-241e-4b98-a47c-12baba3391f2",
   "metadata": {},
   "source": [
    "### Iterations or loops - repeate actions"
   ]
  },
  {
   "cell_type": "raw",
   "id": "394f3936-48d1-4e19-92ae-018648378a75",
   "metadata": {},
   "source": [
    ". for loop\n",
    "   . for iterator_name in iterating_sequence:\n",
    "         . statements1\n",
    "         . statements2\n",
    ". while loop\n",
    "    . until the condition satisfies"
   ]
  },
  {
   "cell_type": "markdown",
   "id": "de40400f-c038-4607-8f39-f4d2263319c9",
   "metadata": {},
   "source": [
    "## For loop"
   ]
  },
  {
   "cell_type": "raw",
   "id": "95239a20-ea7e-41c7-9559-88816f932548",
   "metadata": {},
   "source": [
    "The for loop in Python is used to iterate over a sequence (list,tuple,string) or otehr iterable objects.\n",
    "\n",
    "Loop continues until we reach the last item int the sequence.\n",
    "\n",
    "The body of for loop is separated from the rest of the code using indentation."
   ]
  },
  {
   "cell_type": "markdown",
   "id": "b1f9c6c0-6a51-406b-a884-c2d3406de959",
   "metadata": {},
   "source": [
    "### Syntax:"
   ]
  },
  {
   "cell_type": "raw",
   "id": "68717bf4-c458-49c9-a166-a3b79722d0bc",
   "metadata": {},
   "source": [
    "for element in sequene :\n",
    "    Body of for\n",
    "\n",
    "Here,element is the variable that takes the value of the item inside the sequence on each iteration.\n",
    "\n",
    "Loop continue until we reach the last item in the sequence.    "
   ]
  },
  {
   "cell_type": "code",
   "execution_count": 4,
   "id": "3c7ed6b2-79ab-4b05-81a6-7d8ea932a31d",
   "metadata": {},
   "outputs": [
    {
     "name": "stdout",
     "output_type": "stream",
     "text": [
      "1\n",
      "2\n",
      "3\n",
      "4\n",
      "5\n"
     ]
    }
   ],
   "source": [
    "seq = [1,2,3,4,5]\n",
    "for item in seq:\n",
    "    print(item)"
   ]
  },
  {
   "cell_type": "code",
   "execution_count": 2,
   "id": "759eea5e-0c1a-4025-8178-7e9e866f7433",
   "metadata": {},
   "outputs": [
    {
     "name": "stdout",
     "output_type": "stream",
     "text": [
      "1\n",
      "2\n",
      "3\n",
      "4\n",
      "5\n"
     ]
    }
   ],
   "source": [
    "seq = [1,2,3,4,5]\n",
    "for item in seq:\n",
    "    print(item)"
   ]
  },
  {
   "cell_type": "code",
   "execution_count": 6,
   "id": "77451758-123d-4904-9951-c2443028c504",
   "metadata": {},
   "outputs": [
    {
     "name": "stdout",
     "output_type": "stream",
     "text": [
      "apple\n",
      "banana\n",
      "cherry\n",
      "mango\n"
     ]
    }
   ],
   "source": [
    "fruits = ['apple','banana','cherry','mango']\n",
    "for x in fruits:\n",
    "    print(x)"
   ]
  },
  {
   "cell_type": "code",
   "execution_count": 8,
   "id": "7c7cd33e-d971-4901-b342-2b7ad21a4da7",
   "metadata": {},
   "outputs": [
    {
     "name": "stdout",
     "output_type": "stream",
     "text": [
      "123456"
     ]
    }
   ],
   "source": [
    "list1=[1,2,3,4,5,6]\n",
    "for i in list1:\n",
    "    print(i,end='')"
   ]
  },
  {
   "cell_type": "code",
   "execution_count": 9,
   "id": "2a05efa9-92a5-4432-a53a-169dc69f26be",
   "metadata": {},
   "outputs": [
    {
     "name": "stdout",
     "output_type": "stream",
     "text": [
      "1 2 3 "
     ]
    }
   ],
   "source": [
    "a=\"123\"\n",
    "for char in a:\n",
    "    print(char,end=' ')"
   ]
  },
  {
   "cell_type": "code",
   "execution_count": 10,
   "id": "35f26042-d6c9-46dd-bfc4-d26fef79bf26",
   "metadata": {},
   "outputs": [
    {
     "name": "stdout",
     "output_type": "stream",
     "text": [
      "0 hello\n",
      "1 hello\n",
      "2 hello\n",
      "3 hello\n",
      "4 hello\n",
      "5 hello\n",
      "6 hello\n",
      "7 hello\n",
      "8 hello\n",
      "9 hello\n"
     ]
    }
   ],
   "source": [
    "for x in range(10):\n",
    "    print(x,\"hello\")"
   ]
  },
  {
   "cell_type": "code",
   "execution_count": 11,
   "id": "d242b86d-6cf0-46cc-b763-3dfac2d325c4",
   "metadata": {},
   "outputs": [
    {
     "name": "stdout",
     "output_type": "stream",
     "text": [
      "1 2 3 4 5 6 7 8 9 10 "
     ]
    }
   ],
   "source": [
    "# print 1 to 10 natural numbers\n",
    "for i in range(1,11):\n",
    "    print(i,end=' ')"
   ]
  },
  {
   "cell_type": "code",
   "execution_count": 13,
   "id": "73fd5457-b521-4215-90c1-32cd185ce5be",
   "metadata": {},
   "outputs": [
    {
     "name": "stdout",
     "output_type": "stream",
     "text": [
      "11\n",
      "12\n",
      "13\n",
      "14\n",
      "15\n",
      "16\n",
      "17\n",
      "18\n",
      "19\n",
      "20\n",
      "21\n",
      "22\n",
      "23\n",
      "24\n",
      "25\n",
      "26\n",
      "27\n",
      "28\n",
      "29\n",
      "30\n",
      "31\n",
      "32\n",
      "33\n",
      "34\n",
      "35\n",
      "36\n",
      "37\n",
      "38\n",
      "39\n",
      "40\n",
      "41\n",
      "42\n",
      "43\n",
      "44\n",
      "45\n",
      "46\n",
      "47\n",
      "48\n",
      "49\n",
      "50\n"
     ]
    }
   ],
   "source": [
    "# for loop to print all the numbers between 10 and 50(both inclusive)\n",
    "for i in range(11,51):\n",
    "    print(i)"
   ]
  },
  {
   "cell_type": "code",
   "execution_count": 15,
   "id": "292e782a-1e7a-4684-893d-7020a262c132",
   "metadata": {},
   "outputs": [
    {
     "name": "stdout",
     "output_type": "stream",
     "text": [
      "100 98 96 94 92 90 88 86 84 82 80 78 76 74 72 70 68 66 64 62 60 58 56 54 52 50 48 46 44 42 40 38 36 34 32 30 28 26 24 22 20 18 16 14 12 10 8 6 4 2 "
     ]
    }
   ],
   "source": [
    "#print even numbers in descending order from 1 to 100\n",
    "for i in range(100,1,-2):\n",
    "    print(i,end=' ')"
   ]
  },
  {
   "cell_type": "code",
   "execution_count": 18,
   "id": "9ea8871e-8f39-40ae-be89-986d957f902e",
   "metadata": {},
   "outputs": [
    {
     "name": "stdout",
     "output_type": "stream",
     "text": [
      "12\n",
      "14\n",
      "16\n",
      "18\n",
      "20\n",
      "22\n",
      "24\n",
      "26\n",
      "28\n",
      "30\n",
      "32\n",
      "34\n",
      "36\n",
      "38\n",
      "40\n",
      "42\n",
      "44\n",
      "46\n",
      "48\n"
     ]
    }
   ],
   "source": [
    "#Write a for loop to print all the add numbers between 10 and 50.\n",
    "for i in  range(12,50,2):\n",
    "    print(i)"
   ]
  },
  {
   "cell_type": "code",
   "execution_count": 19,
   "id": "0edb129a-895c-467d-ab16-c667c43249ce",
   "metadata": {},
   "outputs": [
    {
     "name": "stdout",
     "output_type": "stream",
     "text": [
      "item at index  0  is:  item1\n",
      "item at index  1  is:  item2\n",
      "item at index  2  is:  item3\n",
      "item at index  3  is:  item4\n"
     ]
    }
   ],
   "source": [
    "items = ['item1', 'item2','item3','item4']\n",
    "for i in range(len(items)):\n",
    "    print(\"item at index \",i,\" is: \",items[i])"
   ]
  },
  {
   "cell_type": "code",
   "execution_count": 1,
   "id": "f64386db-efa2-4aa8-994c-a019261a5d12",
   "metadata": {},
   "outputs": [
    {
     "name": "stdout",
     "output_type": "stream",
     "text": [
      "sum: 10\n"
     ]
    }
   ],
   "source": [
    "# to print sum of n whole numbers\n",
    "\n",
    "a=[1,2,3,4]\n",
    "sum1=0  #initialization\n",
    "\n",
    "for i in a:\n",
    "    sum1=sum1+i\n",
    "\n",
    "print(\"sum:\",sum1)"
   ]
  },
  {
   "cell_type": "code",
   "execution_count": 2,
   "id": "eb57404c-9727-432c-9280-11234d25482b",
   "metadata": {},
   "outputs": [
    {
     "name": "stdout",
     "output_type": "stream",
     "text": [
      "after 1 iteration the sum: 1\n",
      "after 2 iteration the sum: 3\n",
      "after 3 iteration the sum: 6\n",
      "after 4 iteration the sum: 10\n"
     ]
    }
   ],
   "source": [
    "# to print sum of n whole numbers\n",
    "a=[1,2,3,4]\n",
    "sum1 = 0 # initialization\n",
    "for i in a:\n",
    "    sum1=sum1+i\n",
    "    print(\"after\",i,\"iteration the sum:\",sum1)"
   ]
  },
  {
   "cell_type": "code",
   "execution_count": 3,
   "id": "e88c0870-9e4f-446d-b6b4-b715d854c453",
   "metadata": {},
   "outputs": [
    {
     "name": "stdout",
     "output_type": "stream",
     "text": [
      "I like pop\n"
     ]
    }
   ],
   "source": [
    "# Program to iterate through a list using indexing\n",
    "genre = ['pop','rock','jazz','sapna']\n",
    "\n",
    "# iterate over the list using index\n",
    "for i in range(1):\n",
    "    print(\"I like\", genre[i])"
   ]
  },
  {
   "cell_type": "code",
   "execution_count": 4,
   "id": "5af74b40-ee2b-452e-a0e9-5089d0464285",
   "metadata": {},
   "outputs": [
    {
     "name": "stdin",
     "output_type": "stream",
     "text": [
      "enter lower bound values: 10\n",
      "enter upper bound values: 40\n"
     ]
    },
    {
     "name": "stdout",
     "output_type": "stream",
     "text": [
      "10,12,14,16,18,20,22,24,26,28,30,32,34,36,38,40,"
     ]
    }
   ],
   "source": [
    "# Write a python program to get all the even numbers from 11 to 50 (inclusive)\n",
    "lb=int(input('enter lower bound values:'))\n",
    "ub=int(input('enter upper bound values:'))\n",
    "for i in range(lb,ub+1):\n",
    "    if i%2==0:\n",
    "        print(i,end=',')"
   ]
  },
  {
   "cell_type": "code",
   "execution_count": 5,
   "id": "6bac5cef-e44a-4bfb-bef9-eff32cd8b4d4",
   "metadata": {},
   "outputs": [
    {
     "name": "stdin",
     "output_type": "stream",
     "text": [
      "enter the number: 6\n"
     ]
    },
    {
     "name": "stdout",
     "output_type": "stream",
     "text": [
      "* * * * * * "
     ]
    }
   ],
   "source": [
    "n=int(input(\"enter the number:\"))\n",
    "for i in range(n):\n",
    "    print(\"*\",end=\" \")"
   ]
  },
  {
   "cell_type": "code",
   "execution_count": 1,
   "id": "87f4a0a7-0bee-46e8-ab21-2c43b0b99f07",
   "metadata": {},
   "outputs": [
    {
     "name": "stdin",
     "output_type": "stream",
     "text": [
      " 5\n",
      " 27\n"
     ]
    },
    {
     "name": "stdout",
     "output_type": "stream",
     "text": [
      "6 8 10 12 14 16 18 20 22 24 26 \n",
      "nsum is 176\n"
     ]
    }
   ],
   "source": [
    "# 4.Python Program sum of even numbers in between given range\n",
    "lb=int(input())\n",
    "ub=int(input())\n",
    "s=0\n",
    "\n",
    "for i in range(lb,ub+1):\n",
    "    if (i%2==0):\n",
    "        s=s+i\n",
    "        print(i,end=' ')\n",
    "\n",
    "print('\\nnsum is',s)"
   ]
  },
  {
   "cell_type": "code",
   "execution_count": 2,
   "id": "6b4a183f-388e-4d8d-9506-cae6c054a076",
   "metadata": {},
   "outputs": [
    {
     "name": "stdout",
     "output_type": "stream",
     "text": [
      "5\n",
      "10\n",
      "15\n",
      "20\n",
      "25\n",
      "30\n",
      "40\n",
      "45\n",
      "50\n",
      "55\n",
      "60\n",
      "65\n",
      "75\n",
      "80\n",
      "85\n",
      "90\n",
      "95\n",
      "100\n"
     ]
    }
   ],
   "source": [
    "# write program that gives numbers between 1 to 100 which are divisible by 5 and not divisible by 7.\n",
    "for num in range(1,101):\n",
    "    if num%5 == 0 and num%7!=0:\n",
    "        print(num)\n"
   ]
  },
  {
   "cell_type": "code",
   "execution_count": 3,
   "id": "946d79c5-f9de-4b91-9204-deae1a5c3dbf",
   "metadata": {},
   "outputs": [
    {
     "name": "stdin",
     "output_type": "stream",
     "text": [
      "enter multiplication table: 13\n"
     ]
    },
    {
     "name": "stdout",
     "output_type": "stream",
     "text": [
      "13 * 1 = 13\n",
      "13 * 2 = 26\n",
      "13 * 3 = 39\n",
      "13 * 4 = 52\n",
      "13 * 5 = 65\n",
      "13 * 6 = 78\n",
      "13 * 7 = 91\n",
      "13 * 8 = 104\n",
      "13 * 9 = 117\n",
      "13 * 10 = 130\n"
     ]
    }
   ],
   "source": [
    "#Program to print multiple mathematical tables\n",
    "a=int(input('enter multiplication table:'))\n",
    "for i in range(1,11):\n",
    "    print(a,'*',i,'=',a*i)"
   ]
  },
  {
   "cell_type": "code",
   "execution_count": 4,
   "id": "5bc9d9dc-4afa-47ff-8d46-f304d0609e60",
   "metadata": {},
   "outputs": [
    {
     "name": "stdin",
     "output_type": "stream",
     "text": [
      "enter the number: 3\n"
     ]
    },
    {
     "name": "stdout",
     "output_type": "stream",
     "text": [
      "* * * * * * * * * * * * "
     ]
    }
   ],
   "source": [
    "n=int(input(\"enter the number:\"))\n",
    "for i in range(n):\n",
    "    for j in range(n+1,):\n",
    "        print(\"*\",end=\" \")"
   ]
  },
  {
   "cell_type": "markdown",
   "id": "7ab8742c-18d2-4e03-860f-841e519cbaec",
   "metadata": {},
   "source": [
    "### list comprehension"
   ]
  },
  {
   "cell_type": "markdown",
   "id": "84da2c97-6bd3-45b6-acea-5bc35a89e486",
   "metadata": {},
   "source": [
    "##### list comprehension provide a concise way to create lists."
   ]
  },
  {
   "cell_type": "markdown",
   "id": "c9ad4df2-e54b-4192-92dc-2be0f94c56eb",
   "metadata": {},
   "source": [
    "##### Common applications are to make new lists where each element is the result of some operations applied to each  member of another sequence or another sequence or iterable, or to create a subsequence of those elements that satisfy a certain condition."
   ]
  },
  {
   "cell_type": "code",
   "execution_count": 5,
   "id": "752b1d04-4734-4885-8ba9-42d4442f87e7",
   "metadata": {},
   "outputs": [
    {
     "name": "stdout",
     "output_type": "stream",
     "text": [
      "[0, 1, 4, 9, 16, 25, 36, 49, 64, 81]\n"
     ]
    }
   ],
   "source": [
    "# without list comprehension\n",
    "squares = []\n",
    "\n",
    "for i in range(10):\n",
    "    squares.append(i**2)   #list append\n",
    "print(squares)"
   ]
  },
  {
   "cell_type": "code",
   "execution_count": 6,
   "id": "e265bd52-9c03-492b-80c3-2b12fbd8a0de",
   "metadata": {},
   "outputs": [
    {
     "name": "stdout",
     "output_type": "stream",
     "text": [
      "[0, 1, 4, 9, 16, 25, 36, 49, 64, 81]\n"
     ]
    }
   ],
   "source": [
    "#using list comprehension\n",
    "squares = [i**2 for i in range(10)]\n",
    "print(squares)"
   ]
  },
  {
   "cell_type": "code",
   "execution_count": 7,
   "id": "36bdf1cd-977b-4e12-9eb2-3683d18f2a3e",
   "metadata": {},
   "outputs": [
    {
     "data": {
      "text/plain": [
       "[8, 7, 7, 6, 4]"
      ]
     },
     "execution_count": 7,
     "metadata": {},
     "output_type": "execute_result"
    }
   ],
   "source": [
    "movies = ['Departed','Titanic','Aviator','Avatar','2012']\n",
    "[len(movie) for movie in movies]"
   ]
  },
  {
   "cell_type": "code",
   "execution_count": 8,
   "id": "de48b024-a212-4f58-9c3e-b430d3aae10c",
   "metadata": {},
   "outputs": [
    {
     "data": {
      "text/plain": [
       "[2, 4, 5, 9, 4, 7]"
      ]
     },
     "execution_count": 8,
     "metadata": {},
     "output_type": "execute_result"
    }
   ],
   "source": [
    "list2 = [-2,-4,-5,-9,4,7]\n",
    "absv = [abs(x) for x in list2]\n",
    "absv"
   ]
  },
  {
   "cell_type": "code",
   "execution_count": 9,
   "id": "95738eac-7bc1-44c1-9ef7-0ee242228c75",
   "metadata": {},
   "outputs": [
    {
     "data": {
      "text/plain": [
       "[2, 4, 5, 9, 64, 343]"
      ]
     },
     "execution_count": 9,
     "metadata": {},
     "output_type": "execute_result"
    }
   ],
   "source": [
    "list2 = [-2,-4,-5,-9,4,7]\n",
    "both = []\n",
    "for x in list2:\n",
    "    if x < 0:\n",
    "        both.append(abs(x))\n",
    "    else:\n",
    "        both.append(x**3)\n",
    "\n",
    "both"
   ]
  },
  {
   "cell_type": "code",
   "execution_count": 10,
   "id": "8cb61012-9bcd-45a6-97f9-5e73680ec264",
   "metadata": {},
   "outputs": [
    {
     "data": {
      "text/plain": [
       "[2, 4, 5, 9, 64, 343]"
      ]
     },
     "execution_count": 10,
     "metadata": {},
     "output_type": "execute_result"
    }
   ],
   "source": [
    "[abs(x) if x<0 else x**3 for x in list2]"
   ]
  },
  {
   "cell_type": "markdown",
   "id": "104f9baf-18e0-4ff0-ad85-3ac3e3129da6",
   "metadata": {},
   "source": [
    "### Set Comprehension"
   ]
  },
  {
   "cell_type": "code",
   "execution_count": 11,
   "id": "71291962-8bf6-42bf-bae2-6f50d91c011e",
   "metadata": {},
   "outputs": [
    {
     "data": {
      "text/plain": [
       "{4, 6, 7, 8}"
      ]
     },
     "execution_count": 11,
     "metadata": {},
     "output_type": "execute_result"
    }
   ],
   "source": [
    "movies = ['Departed','Titanic','Aviator','Avatar','2012']\n",
    "a=set()\n",
    "for i in movies:\n",
    "    a.add(len(i))\n",
    "\n",
    "a"
   ]
  },
  {
   "cell_type": "code",
   "execution_count": 12,
   "id": "bf4cf2fb-9242-42ed-9acd-6dbf50741efa",
   "metadata": {},
   "outputs": [
    {
     "data": {
      "text/plain": [
       "{4, 6, 7, 8}"
      ]
     },
     "execution_count": 12,
     "metadata": {},
     "output_type": "execute_result"
    }
   ],
   "source": [
    "movies = ['Departed','Titanic','Aviator','Avatar','2012']\n",
    "{len(i) for i in movies}"
   ]
  },
  {
   "cell_type": "markdown",
   "id": "694373a5-b7c4-4e53-8923-074fcccfd1aa",
   "metadata": {},
   "source": [
    "### Enumerate"
   ]
  },
  {
   "cell_type": "code",
   "execution_count": 14,
   "id": "ac4b271a-55b4-4697-8fae-2d3efb0d525c",
   "metadata": {},
   "outputs": [
    {
     "data": {
      "text/plain": [
       "{0: 'Departed', 1: 'titanic', 2: 'Aviator', 3: 'Avatar', 4: '2012'}"
      ]
     },
     "execution_count": 14,
     "metadata": {},
     "output_type": "execute_result"
    }
   ],
   "source": [
    "movies = {'Departed':9,'titanic':9.4,'Aviator':7.8,'Avatar':9.3,'2012':8.2}\n",
    "{movie:rating for movie,rating in enumerate(movies)}"
   ]
  },
  {
   "cell_type": "markdown",
   "id": "0ed605e8-5545-4265-b42c-d8a252fc4a92",
   "metadata": {},
   "source": [
    "## Python break Statement"
   ]
  },
  {
   "cell_type": "markdown",
   "id": "4893af4c-0d60-4e70-95f9-df40585540e0",
   "metadata": {},
   "source": [
    "##### In Python, break and continue statements can alter the flow of a normal loop.\n",
    "##### Loops iterate over a block of code until test expression is false, but sometimes we wish to terminate the current iteration or even the whole loop without checking test expression.\n",
    "##### The break and continue statements are used in these cases."
   ]
  },
  {
   "cell_type": "raw",
   "id": "d18b3ea0-0161-41f1-a021-e7a66c6ae676",
   "metadata": {},
   "source": [
    "Syntax:\n",
    "     break"
   ]
  },
  {
   "cell_type": "code",
   "execution_count": 19,
   "id": "54d33a3c-a163-4880-b997-b9d70da479fa",
   "metadata": {},
   "outputs": [],
   "source": [
    "numbers = [1,2,3,4]\n",
    "for num in numbers:\n",
    "    if num == 4:\n",
    "        break\n",
    "        print(num)"
   ]
  },
  {
   "cell_type": "markdown",
   "id": "91baba63-b070-4214-a566-ca81f4124933",
   "metadata": {},
   "source": [
    "## Python Continue Statement"
   ]
  },
  {
   "cell_type": "raw",
   "id": "4d73be0f-5f7b-4e84-a67a-9b5c23cb6fb0",
   "metadata": {},
   "source": [
    "Syntax:\n",
    "     continue"
   ]
  },
  {
   "cell_type": "code",
   "execution_count": 16,
   "id": "6e85e7f1-1065-49ba-bb66-65428f5b118c",
   "metadata": {},
   "outputs": [
    {
     "name": "stdout",
     "output_type": "stream",
     "text": [
      "1\n",
      "3\n",
      "5\n"
     ]
    }
   ],
   "source": [
    "# print odd numbers present in a list\n",
    "numbers = [1,2,3,4,5]\n",
    "\n",
    "for num in numbers:\n",
    "    if num % 2 == 0:\n",
    "        continue\n",
    "    print(num)"
   ]
  },
  {
   "cell_type": "markdown",
   "id": "cb7f4ad7-7cee-4c17-832b-881e91435c28",
   "metadata": {},
   "source": [
    "### for loop with else"
   ]
  },
  {
   "cell_type": "markdown",
   "id": "39fedbb6-a3e0-47a6-98f9-a388f39a4adb",
   "metadata": {},
   "source": [
    "##### A for loop can have an optional else block as well.The else part is executed if the items in the sequence used in for loop exhausts.\n",
    "##### break statement can be used to stop a for loop.in such case,the else part is ignored.\n",
    "##### Hence,a for loop's else part runs if no break occurs."
   ]
  },
  {
   "cell_type": "code",
   "execution_count": 1,
   "id": "3785a34c-7060-45b7-8573-2479da131de0",
   "metadata": {},
   "outputs": [
    {
     "name": "stdout",
     "output_type": "stream",
     "text": [
      "1\n",
      "2\n",
      "3\n",
      "no item left in the list\n"
     ]
    }
   ],
   "source": [
    "numbers = [1,2,3]\n",
    "\n",
    "#iterating over the list\n",
    "for item in numbers:\n",
    "    print(item)\n",
    "\n",
    "else:\n",
    "    print(\"no item left in the list\")"
   ]
  },
  {
   "cell_type": "code",
   "execution_count": 4,
   "id": "9dc47d1a-492c-4828-b5b6-fa7fd3e0f652",
   "metadata": {},
   "outputs": [
    {
     "name": "stdout",
     "output_type": "stream",
     "text": [
      "2\n",
      "4\n"
     ]
    }
   ],
   "source": [
    "numbers = [1,2,3,4]\n",
    "\n",
    "for item in numbers:\n",
    "    if item % 2 == 0:\n",
    "        print(item)"
   ]
  },
  {
   "cell_type": "code",
   "execution_count": 5,
   "id": "125b646f-5c7a-4328-9c22-afd8e742c7db",
   "metadata": {},
   "outputs": [
    {
     "name": "stdout",
     "output_type": "stream",
     "text": [
      "2\n"
     ]
    }
   ],
   "source": [
    "numbers = [1,2,3,4]\n",
    "\n",
    "for item in numbers:\n",
    "    if item % 2 == 0:\n",
    "        print(item)\n",
    "        break"
   ]
  },
  {
   "cell_type": "markdown",
   "id": "29d947b6-8c00-4250-85d1-9a66b6575e15",
   "metadata": {},
   "source": [
    "#### While loop"
   ]
  },
  {
   "cell_type": "markdown",
   "id": "f0994bf3-cdf1-478d-b237-f2c3a29fcc8f",
   "metadata": {},
   "source": [
    "##### The while loop in used to itearte over a block of code as long as the test expression (condition) is true.\n",
    "##### We generally use this loop when we don't know beforehand, the number of times to iterate."
   ]
  },
  {
   "cell_type": "code",
   "execution_count": 6,
   "id": "61d3dae1-126a-4d5e-b25b-e219b965ff72",
   "metadata": {},
   "outputs": [
    {
     "name": "stdout",
     "output_type": "stream",
     "text": [
      "1\n",
      "2\n",
      "3\n",
      "4\n",
      "5\n",
      "6\n"
     ]
    }
   ],
   "source": [
    "x=0\n",
    "\n",
    "while x < 6:\n",
    "    x=x+1\n",
    "    print(x)"
   ]
  },
  {
   "cell_type": "code",
   "execution_count": 7,
   "id": "3ca0861a-6225-4097-9f67-73a8a08144df",
   "metadata": {},
   "outputs": [
    {
     "name": "stdout",
     "output_type": "stream",
     "text": [
      "x is  0\n",
      "x is  1\n",
      "x is  2\n",
      "x is  3\n",
      "x is  4\n",
      "x is  5\n",
      "x is  6\n",
      "x is  7\n"
     ]
    }
   ],
   "source": [
    "x = 0\n",
    "while x < 8:\n",
    "    print(\"x is \",x)\n",
    "    x = x+1"
   ]
  },
  {
   "cell_type": "code",
   "execution_count": 10,
   "id": "9e1fb1e2-4a5f-4b29-8609-29ba2d89bce6",
   "metadata": {},
   "outputs": [
    {
     "name": "stdout",
     "output_type": "stream",
     "text": [
      "x is 8\n",
      "x is 7\n",
      "x is 6\n",
      "x is 5\n",
      "x is 4\n",
      "x is 3\n",
      "x is 2\n"
     ]
    }
   ],
   "source": [
    "x = 8\n",
    "while x > 1:\n",
    "    print(\"x is {}\".format(x))\n",
    "    x -= 1"
   ]
  },
  {
   "cell_type": "code",
   "execution_count": 11,
   "id": "969c303f-1feb-4ce8-a7e4-8e4453141deb",
   "metadata": {},
   "outputs": [
    {
     "name": "stdout",
     "output_type": "stream",
     "text": [
      "1520\n"
     ]
    }
   ],
   "source": [
    "i=100\n",
    "s=20\n",
    "while i<=500:\n",
    "    s=s+i\n",
    "    i=i+100\n",
    "print(s)    "
   ]
  },
  {
   "cell_type": "code",
   "execution_count": 12,
   "id": "98cde094-b88a-4fca-9a1c-5de70dffcfc3",
   "metadata": {},
   "outputs": [
    {
     "name": "stdout",
     "output_type": "stream",
     "text": [
      "6\n"
     ]
    }
   ],
   "source": [
    "i=0\n",
    "s=0\n",
    "while(i<=5):\n",
    "    s=s+i\n",
    "    i+=2\n",
    "print(s)    "
   ]
  },
  {
   "cell_type": "code",
   "execution_count": 13,
   "id": "a325fc2d-f54a-4da8-a779-4856bce4c257",
   "metadata": {},
   "outputs": [
    {
     "name": "stdout",
     "output_type": "stream",
     "text": [
      "0\n",
      "5\n"
     ]
    }
   ],
   "source": [
    "x=0\n",
    "print(x)\n",
    "while x < 5:\n",
    "    x=x+1\n",
    "\n",
    "print(x)"
   ]
  },
  {
   "cell_type": "code",
   "execution_count": 18,
   "id": "357cc561-2b79-4907-a04f-43c5b67719e1",
   "metadata": {},
   "outputs": [
    {
     "name": "stdout",
     "output_type": "stream",
     "text": [
      "30\n"
     ]
    }
   ],
   "source": [
    "i=0\n",
    "s=0\n",
    "while (i<=10):\n",
    "    s=s+i\n",
    "    i+=2\n",
    "print(s)    "
   ]
  },
  {
   "cell_type": "code",
   "execution_count": 19,
   "id": "54d7f536-12bb-4664-8349-05ac4c3ce720",
   "metadata": {},
   "outputs": [
    {
     "name": "stdout",
     "output_type": "stream",
     "text": [
      "0 1 2 3 4 5 6 7 8 9 10 11 12 13 14 15 16 17 18 19 20 21 22 23 24 25 26 27 28 29 30 31 32 33 34 35 36 37 38 39 40 41 42 43 44 45 46 47 48 49 50 51 52 53 54 55 56 57 58 59 60 61 62 63 64 65 66 67 68 69 70 71 72 73 74 75 76 77 78 79 80 81 82 83 84 85 86 87 88 89 90 91 92 93 94 95 96 97 98 99 100 "
     ]
    }
   ],
   "source": [
    "# Program to print 0 to 100 (inclusive) whole numbers\n",
    "i=0\n",
    "while(i<=100):\n",
    "    print(i,end=' ')\n",
    "    i=i+1"
   ]
  },
  {
   "cell_type": "code",
   "execution_count": 20,
   "id": "e6c4ce76-e38d-4a45-baab-23f9512b0ea8",
   "metadata": {},
   "outputs": [
    {
     "name": "stdin",
     "output_type": "stream",
     "text": [
      "Enter n:  6\n"
     ]
    },
    {
     "name": "stdout",
     "output_type": "stream",
     "text": [
      "The sum is 21\n"
     ]
    }
   ],
   "source": [
    "# Program to \"n\" add natural numbers --> sum = 1+2+3+...+n\n",
    "\n",
    "n = int(input(\"Enter n: \"))\n",
    "sum = 0\n",
    "i = 1\n",
    "\n",
    "while i <= n:\n",
    "    sum = sum + i\n",
    "    i = i+1\n",
    "\n",
    "print(\"The sum is\", sum)"
   ]
  },
  {
   "cell_type": "code",
   "execution_count": 21,
   "id": "34003a79-eb79-4d2d-baa7-b57f4827d98d",
   "metadata": {},
   "outputs": [
    {
     "name": "stdout",
     "output_type": "stream",
     "text": [
      "Product is: 21\n"
     ]
    }
   ],
   "source": [
    "# Find product of all numbers present in a list\n",
    "lst = [1, 2, 3, 4, 7]\n",
    "\n",
    "product = 1\n",
    "index = 0\n",
    "\n",
    "while index < len(lst):\n",
    "    product *= lst[index]\n",
    "    index +=2\n",
    "\n",
    "print(\"Product is: {}\".format(product))"
   ]
  },
  {
   "cell_type": "code",
   "execution_count": 23,
   "id": "b0eaf963-796e-4ab0-a377-b40c09551d28",
   "metadata": {},
   "outputs": [
    {
     "name": "stdin",
     "output_type": "stream",
     "text": [
      "enter a value: 3\n",
      "enter a value: 5\n",
      "enter a value: 4\n",
      "enter a value: done\n"
     ]
    },
    {
     "name": "stdout",
     "output_type": "stream",
     "text": [
      "12\n"
     ]
    }
   ],
   "source": [
    "# Ask the use to enter the numbers and sum it\n",
    "s=0\n",
    "while True:\n",
    "    a=input('enter a value:')\n",
    "    if(a=='done'):\n",
    "        break\n",
    "    s=s+int(a)\n",
    "print(s)"
   ]
  },
  {
   "cell_type": "markdown",
   "id": "5a89b586-7dad-4ddc-a269-77ad94c74ae2",
   "metadata": {},
   "source": [
    "### While Loop with else"
   ]
  },
  {
   "cell_type": "markdown",
   "id": "45f7c303-44a7-4936-9c4d-805457981fb9",
   "metadata": {},
   "source": [
    "##### Same as that of for loop, we can have an optional else block with while loop as well.\n",
    "##### The else part is executed if the condition in the while loop evalutes to False. The while loop can be terminated with a break statement.\n",
    "##### In such case,the part is ignored. Hence, a while loop's else part runs if no break occurs and the condition is false."
   ]
  },
  {
   "cell_type": "code",
   "execution_count": 1,
   "id": "143a60a8-4527-40c8-836a-610d5e258db6",
   "metadata": {},
   "outputs": [
    {
     "name": "stdout",
     "output_type": "stream",
     "text": [
      "x is 8\n",
      "x is 7\n",
      "x is 6\n",
      "x is 5\n",
      "x is 4\n",
      "x is 3\n",
      "x is 2\n",
      "x is no longer greater than 1\n"
     ]
    }
   ],
   "source": [
    "x = 8\n",
    "while x > 1:\n",
    "    print(\"x is {}\".format(x))\n",
    "    x -= 1\n",
    "    if x==9:\n",
    "        break\n",
    "\n",
    "else:\n",
    "    print(\"x is no longer greater than 1\")"
   ]
  },
  {
   "cell_type": "code",
   "execution_count": 3,
   "id": "2cfcad80-c542-40d5-a802-147864eca1f0",
   "metadata": {},
   "outputs": [
    {
     "name": "stdout",
     "output_type": "stream",
     "text": [
      "x is 0\n",
      "x is 1\n",
      "x is 2\n",
      "x is 3\n",
      "x is 4\n",
      "x is 5\n",
      "x is 6\n",
      "x is 7\n",
      "x is no longer less than 8\n"
     ]
    }
   ],
   "source": [
    "x = 0\n",
    "while x < 8:\n",
    "    print(\"x is {}\".format(x))\n",
    "    x += 1\n",
    "else:\n",
    "    print(\"x is no longer less than 8\")"
   ]
  },
  {
   "cell_type": "code",
   "execution_count": 4,
   "id": "dfc74b1a-c073-4718-be64-274b8d4c7f10",
   "metadata": {},
   "outputs": [
    {
     "name": "stdout",
     "output_type": "stream",
     "text": [
      "1\n",
      "2\n",
      "3\n",
      "4\n",
      "5\n",
      "no item left in the list\n"
     ]
    }
   ],
   "source": [
    "numbers = [1,2,3,4,5]\n",
    "\n",
    "index = 0\n",
    "while index < len(numbers):\n",
    "    print(numbers[index])\n",
    "    index += 1\n",
    "\n",
    "else:\n",
    "    print(\"no item left in the list\")"
   ]
  },
  {
   "cell_type": "markdown",
   "id": "e7848e8b-6de8-4264-9e0c-3494210f37ca",
   "metadata": {},
   "source": [
    "### Factorial"
   ]
  },
  {
   "cell_type": "code",
   "execution_count": 9,
   "id": "2d42eddd-7dc4-4a6d-acc8-8193e3d6b8c9",
   "metadata": {},
   "outputs": [
    {
     "name": "stdin",
     "output_type": "stream",
     "text": [
      "Enter the number: 6\n"
     ]
    },
    {
     "name": "stdout",
     "output_type": "stream",
     "text": [
      "Factorial of number is : 720\n"
     ]
    }
   ],
   "source": [
    "# Write a program which can compute the factorial of a given numbers.\n",
    "a=int(input(\"Enter the number:\"))\n",
    "fact=1\n",
    "for i in range(a,0,-1):\n",
    "    fact=fact*i\n",
    "print(\"Factorial of number is :\",fact)"
   ]
  },
  {
   "cell_type": "code",
   "execution_count": 11,
   "id": "5b3e3176-d40b-45b1-a1a0-486f33befffb",
   "metadata": {},
   "outputs": [
    {
     "name": "stdin",
     "output_type": "stream",
     "text": [
      "Enter the number: 6\n"
     ]
    },
    {
     "name": "stdout",
     "output_type": "stream",
     "text": [
      "after 1 iteration the factorial value is: 1\n",
      "after 2 iteration the factorial value is: 2\n",
      "after 3 iteration the factorial value is: 6\n",
      "after 4 iteration the factorial value is: 24\n",
      "after 5 iteration the factorial value is: 120\n",
      "after 6 iteration the factorial value is: 720\n"
     ]
    }
   ],
   "source": [
    "# Write a program which can compute the factorial of a given numbers.\n",
    "a=int(input(\"Enter the number:\"))\n",
    "fact=1\n",
    "for i in range(1,a+1):\n",
    "    fact=fact*i\n",
    "    print(\"after\",i,\"iteration the factorial value is:\",fact)"
   ]
  }
 ],
 "metadata": {
  "kernelspec": {
   "display_name": "Python 3 (ipykernel)",
   "language": "python",
   "name": "python3"
  },
  "language_info": {
   "codemirror_mode": {
    "name": "ipython",
    "version": 3
   },
   "file_extension": ".py",
   "mimetype": "text/x-python",
   "name": "python",
   "nbconvert_exporter": "python",
   "pygments_lexer": "ipython3",
   "version": "3.11.7"
  }
 },
 "nbformat": 4,
 "nbformat_minor": 5
}
